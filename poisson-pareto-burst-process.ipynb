{
 "cells": [
  {
   "cell_type": "code",
   "execution_count": null,
   "id": "998b1c53-193a-4bdc-bca0-6d1027032d64",
   "metadata": {},
   "outputs": [],
   "source": [
    "import numpy as np\n",
    "import matplotlib.pyplot as plt\n",
    "import seaborn as sns\n",
    "import pandas as pd\n",
    "from matplotlib import transforms\n",
    "import scipy\n",
    "import math\n",
    "from SequenceGenerator import MultiSequenceGenerator\n",
    "from PoissonParetoSimulator import PoissonParetoBurstProcessSimulator"
   ]
  },
  {
   "cell_type": "markdown",
   "id": "329cd062-e013-45be-ad9a-34ee717fa2d9",
   "metadata": {},
   "source": [
    "# pareto"
   ]
  },
  {
   "cell_type": "markdown",
   "id": "16cde5ee-7644-4fd5-89f0-8d4cc8746978",
   "metadata": {},
   "source": [
    "### implementation"
   ]
  },
  {
   "cell_type": "code",
   "execution_count": null,
   "id": "812f9c16-c689-4de5-b04a-7c24f1cd2b7b",
   "metadata": {},
   "outputs": [],
   "source": [
    "def pareto_seq_generator(alpha, beta, size):\n",
    "    return [beta / np.power(1.0 - np.random.random(), alpha) for i in range(size)]"
   ]
  },
  {
   "cell_type": "markdown",
   "id": "af02bff8-184c-4a21-8143-1712d68445b8",
   "metadata": {},
   "source": [
    "### test"
   ]
  },
  {
   "cell_type": "markdown",
   "id": "f7db29bb-e829-466a-be7c-aa24b785aba3",
   "metadata": {},
   "source": [
    "###### parameters"
   ]
  },
  {
   "cell_type": "code",
   "execution_count": null,
   "id": "ebaf1dfb-ed46-4153-b300-579933a06010",
   "metadata": {},
   "outputs": [],
   "source": [
    "alpha=1.3\n",
    "beta=2\n",
    "size = 100"
   ]
  },
  {
   "cell_type": "code",
   "execution_count": null,
   "id": "ac1d12b6-a946-4fbc-9b0a-8d480cee0252",
   "metadata": {},
   "outputs": [],
   "source": [
    "sns.displot(pareto_seq_generator(alpha, beta, size))\n",
    "plt.show()"
   ]
  },
  {
   "cell_type": "markdown",
   "id": "9b5e78c1-a8f0-4540-b861-eea9b2d6e574",
   "metadata": {},
   "source": [
    "# Pareto forward recurrence times distribution"
   ]
  },
  {
   "cell_type": "markdown",
   "id": "c0405af3-cb6e-430c-b578-4fb078f597cc",
   "metadata": {},
   "source": [
    "### CDF formula:"
   ]
  },
  {
   "cell_type": "markdown",
   "id": "950ff272-246b-4363-91b3-74be7092691a",
   "metadata": {},
   "source": [
    "$$G(x)=\\left\\{\\begin{array}{ll} 1-\\displaystyle\\frac{1}{\\alpha}\\left(\\frac{x}{\\beta}\\right)^{1-\\alpha}&x\\geq \\beta\\\\\n",
    "1-\\displaystyle\\frac{\\alpha-1}{\\alpha}\\left(1-\\frac{x}{\\beta}\\right)-\\displaystyle\\frac{1}{\\alpha}&0< x<\\beta,\\end{array}\\right.$$"
   ]
  },
  {
   "cell_type": "markdown",
   "id": "770db714-1f82-41ba-838b-2772945281d9",
   "metadata": {},
   "source": [
    "### CDF plot"
   ]
  },
  {
   "cell_type": "markdown",
   "id": "1a813a1c-2f4e-489d-abe7-9569c8844302",
   "metadata": {},
   "source": [
    "###### parameter"
   ]
  },
  {
   "cell_type": "code",
   "execution_count": null,
   "id": "580d0e5b-65d7-40d2-8d49-0e3cf35fa810",
   "metadata": {},
   "outputs": [],
   "source": [
    "alpha=1.7\n",
    "beta=2"
   ]
  },
  {
   "cell_type": "code",
   "execution_count": null,
   "id": "dbee74a3-d945-4577-a64e-aab534043dee",
   "metadata": {},
   "outputs": [],
   "source": [
    "x1=np.linspace(0.02, beta,50)\n",
    "y1=1-(alpha-1)*(1.0/alpha)*(1.0-x1/beta)-(1.0/alpha)\n",
    "x2=np.linspace(beta,10, 100)\n",
    "y2=1-(1.0/alpha)*np.power(x2/beta, 1.0-alpha)\n",
    "plt.plot(x1,y1, 'g', label='0<x<beta')\n",
    "plt.plot(x2, y2, 'r', label='beta<x')\n",
    "plt.title('cdf of Pareto forward recurrence timesPareto forward recurrence times distribution')\n",
    "plt.ylabel('cumulative probability')\n",
    "plt.xlabel('x')\n",
    "plt.legend(loc='best')\n",
    "plt.show()"
   ]
  },
  {
   "cell_type": "markdown",
   "id": "7465b70e-1aae-4b40-b503-bb9ccbccd427",
   "metadata": {},
   "source": [
    "### implementation"
   ]
  },
  {
   "cell_type": "code",
   "execution_count": null,
   "id": "1c6b95d7-d8e8-4538-8de7-6cf0fbfcc0ef",
   "metadata": {},
   "outputs": [],
   "source": [
    "def pareto_forward_recurrence_times_seq_generator(alpha, beta, size):\n",
    "    vals=[]\n",
    "    a=1-1.0/alpha\n",
    "    for i in range(size):\n",
    "        y=np.random.random()\n",
    "        x=None\n",
    "        if (y<a):# reverse of formula\n",
    "            x = beta*(alpha*a-1.0+y)/(a*alpha-1)\n",
    "        else: # reverse of formula\n",
    "           x = beta*np.power(alpha*(1-y), 1.0/(1-alpha))\n",
    "        vals.append(x)\n",
    "    return vals"
   ]
  },
  {
   "cell_type": "markdown",
   "id": "dfea37b5-7cce-483e-bb7a-d9b3119d5eef",
   "metadata": {},
   "source": [
    "### test"
   ]
  },
  {
   "cell_type": "markdown",
   "id": "5cf56c28-46fb-454e-9e2a-d474ac2eb571",
   "metadata": {},
   "source": [
    "###### parameters"
   ]
  },
  {
   "cell_type": "code",
   "execution_count": null,
   "id": "bd714028-ee4b-4932-ad37-4c8b0269809e",
   "metadata": {},
   "outputs": [],
   "source": [
    "alpha = 1.7\n",
    "beta = 2\n",
    "size = 100"
   ]
  },
  {
   "cell_type": "code",
   "execution_count": null,
   "id": "1b2580f7-0dbd-40a7-8d89-980025f6522b",
   "metadata": {},
   "outputs": [],
   "source": [
    "vals=pareto_forward_recurrence_times_seq_generator(alpha,beta, size)"
   ]
  },
  {
   "cell_type": "code",
   "execution_count": null,
   "id": "7b983c9c-837a-4fab-aecb-ec68504a0a5f",
   "metadata": {},
   "outputs": [],
   "source": [
    "sns.displot(vals, kde=False)\n",
    "plt.title('Pareto forward recurrence times distribution')\n",
    "plt.ylabel('occurance')\n",
    "plt.xlabel('x')\n",
    "plt.show()"
   ]
  },
  {
   "cell_type": "code",
   "execution_count": null,
   "id": "c17bc575-a1bd-4514-b2f5-b3492f508e4c",
   "metadata": {
    "scrolled": true
   },
   "outputs": [],
   "source": [
    "sns.displot(vals, kde=True)\n",
    "plt.title('Pareto forward recurrence times distribution')\n",
    "plt.ylabel('probability')\n",
    "plt.xlabel('x')"
   ]
  },
  {
   "cell_type": "markdown",
   "id": "5b632b6a-a81f-43b7-8172-3c4292e9f776",
   "metadata": {},
   "source": [
    "# simulation"
   ]
  },
  {
   "cell_type": "markdown",
   "id": "1cc651ff-7b3a-47b7-bc21-5a6d5bafc472",
   "metadata": {},
   "source": [
    "###### parameters"
   ]
  },
  {
   "cell_type": "code",
   "execution_count": null,
   "id": "94b099c6-7831-414a-99d4-9adef34c37c9",
   "metadata": {},
   "outputs": [],
   "source": [
    "total_time = 200\n",
    "lam_list=[5.0, 5.0, 5.0, 5.0, 5.0]\n",
    "hurst_list=[0.55, 0.65, 0.75, 0.85, 0.95]\n",
    "burst_duration_mean = 4.0\n",
    "has_pre_burst = True"
   ]
  },
  {
   "cell_type": "code",
   "execution_count": null,
   "id": "f020937a-265b-4d2f-802d-d8ced291245e",
   "metadata": {},
   "outputs": [],
   "source": [
    "ppbp_sim = PoissonParetoBurstProcessSimulator(total_time=total_time, lam_list=lam_list, hurst_list=hurst_list, burst_duration_mean=burst_duration_mean, has_pre_burst=has_pre_burst, least_interval_length=None)\n",
    "sim_res = ppbp_sim.simulate()"
   ]
  },
  {
   "cell_type": "markdown",
   "id": "fbd2db1c-7292-498a-9132-13fa1b0dc4d3",
   "metadata": {},
   "source": [
    "###### parameters"
   ]
  },
  {
   "cell_type": "code",
   "execution_count": null,
   "id": "18e8a7b1-0860-427d-b8fd-d4c0c4d1ece5",
   "metadata": {},
   "outputs": [],
   "source": [
    "total_time = 200\n",
    "lam_list=[1.0, 2.0, 3.0, 4.0, 5.0, 6.0, 7.0, 8.0, 9.0]\n",
    "hurst_list=[0.65, 0.65, 0.65, 0.65, 0.65, 0.65, 0.65, 0.65, 0.65]\n",
    "burst_duration_mean = 4.0\n",
    "has_pre_burst = True"
   ]
  },
  {
   "cell_type": "code",
   "execution_count": null,
   "id": "91b4dd78-13fa-4205-8981-cb5b7d12ffe8",
   "metadata": {},
   "outputs": [],
   "source": [
    "ppbp_sim = PoissonParetoBurstProcessSimulator(total_time=total_time, lam_list=lam_list, hurst_list=hurst_list, burst_duration_mean=burst_duration_mean, has_pre_burst=has_pre_burst, least_interval_length=None)\n",
    "sim_res = ppbp_sim.simulate()"
   ]
  }
 ],
 "metadata": {
  "kernelspec": {
   "display_name": "Python 3 (ipykernel)",
   "language": "python",
   "name": "python3"
  },
  "language_info": {
   "codemirror_mode": {
    "name": "ipython",
    "version": 3
   },
   "file_extension": ".py",
   "mimetype": "text/x-python",
   "name": "python",
   "nbconvert_exporter": "python",
   "pygments_lexer": "ipython3",
   "version": "3.12.0"
  }
 },
 "nbformat": 4,
 "nbformat_minor": 5
}
