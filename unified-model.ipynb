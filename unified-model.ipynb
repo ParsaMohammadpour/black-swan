{
 "cells": [
  {
   "cell_type": "markdown",
   "id": "17cd6d10-ba23-4a3a-bfb4-73ed4fde044c",
   "metadata": {
    "jp-MarkdownHeadingCollapsed": true
   },
   "source": [
    "###### importing packages"
   ]
  },
  {
   "cell_type": "code",
   "execution_count": null,
   "id": "73cee58f-7688-4dbe-bca6-3f64bcea083b",
   "metadata": {},
   "outputs": [],
   "source": [
    "import numpy as np\n",
    "import matplotlib.pyplot as plt\n",
    "import seaborn as sns\n",
    "import pandas as pd\n",
    "from matplotlib import transforms\n",
    "import scipy\n",
    "import scipy.stats as st\n",
    "from SequenceGenerator import MultiSequenceGenerator\n",
    "from scipy.integrate import odeint"
   ]
  },
  {
   "cell_type": "markdown",
   "id": "aa04dbc9-bbf8-4977-b0e0-e4df9f5e1b9d",
   "metadata": {
    "jp-MarkdownHeadingCollapsed": true
   },
   "source": [
    "# unified-model base formula"
   ]
  },
  {
   "cell_type": "markdown",
   "id": "65226c54-6f71-4e5d-bbb2-eb656935d802",
   "metadata": {},
   "source": [
    "This unified model is based on power-law dynamics.Specifically, it is based onthe foloowing ordinary differential equation(ODE)"
   ]
  },
  {
   "cell_type": "markdown",
   "id": "634c850c-430b-46c2-bc56-56386a93ced8",
   "metadata": {},
   "source": [
    "$$\\displaystyle\\frac{x'(t)}{x(t)}=k.x(t)^\\epsilon$$"
   ]
  },
  {
   "cell_type": "markdown",
   "id": "46fc4c04-e670-408b-9912-28ec90c14bb9",
   "metadata": {},
   "source": [
    "for the following formula, parameters are as follows:\n",
    "- k (the exponent)\n",
    "- $\\epsilon$\n",
    "- initial value x(0)"
   ]
  },
  {
   "cell_type": "markdown",
   "id": "91985ac3-9f38-4a19-a398-771c0fdd531e",
   "metadata": {},
   "source": [
    "Which all of them must be positive."
   ]
  },
  {
   "cell_type": "markdown",
   "id": "bf4c962c-1c8a-4fdf-96bb-3143660761ae",
   "metadata": {
    "jp-MarkdownHeadingCollapsed": true
   },
   "source": [
    "## ODE implementation"
   ]
  },
  {
   "cell_type": "markdown",
   "id": "a8b32a2f-cf49-4fc8-a01c-b794d4668849",
   "metadata": {
    "jp-MarkdownHeadingCollapsed": true
   },
   "source": [
    "### simple implementation"
   ]
  },
  {
   "cell_type": "markdown",
   "id": "1561f4ff-7182-4467-9b7c-b343a2fd6555",
   "metadata": {
    "jp-MarkdownHeadingCollapsed": true
   },
   "source": [
    "###### parameters"
   ]
  },
  {
   "cell_type": "code",
   "execution_count": null,
   "id": "17b43858-3cd9-4962-96f1-155b43ea8fd0",
   "metadata": {},
   "outputs": [],
   "source": [
    "k = 1.0\n",
    "epsilon = 1.0\n",
    "y0 = 0.1\n",
    "interval_start = 0.0\n",
    "interval_end = 9.0"
   ]
  },
  {
   "cell_type": "markdown",
   "id": "8a47ed4c-e9b8-4af0-8418-f28a6c048d8e",
   "metadata": {
    "jp-MarkdownHeadingCollapsed": true
   },
   "source": [
    "###### power-law ordinary differential equation(ODE)"
   ]
  },
  {
   "cell_type": "code",
   "execution_count": null,
   "id": "1043f7c2-adb6-44f0-a213-174e8dc851d5",
   "metadata": {},
   "outputs": [],
   "source": [
    "def returns_dydt(y,t): \n",
    "    dydt = k * y * np.power(y, epsilon)\n",
    "    return dydt"
   ]
  },
  {
   "cell_type": "markdown",
   "id": "f3048fe1-ae5d-4b87-adb4-20dbde876b08",
   "metadata": {
    "jp-MarkdownHeadingCollapsed": true
   },
   "source": [
    "###### solving ODE"
   ]
  },
  {
   "cell_type": "code",
   "execution_count": null,
   "id": "e11aa782-c4a0-4bd9-a87a-3e4549c609b0",
   "metadata": {},
   "outputs": [],
   "source": [
    "t = np.linspace(interval_start, interval_end, 10000) \n",
    "  \n",
    "# solving ODE \n",
    "y = odeint(returns_dydt, y0, t) "
   ]
  },
  {
   "cell_type": "markdown",
   "id": "3637d6a3-2a90-4599-96e4-b2410cb2ff7c",
   "metadata": {
    "jp-MarkdownHeadingCollapsed": true
   },
   "source": [
    "###### simple plot"
   ]
  },
  {
   "cell_type": "code",
   "execution_count": null,
   "id": "b7be0916-aa15-47f8-a5a1-94dd3b803202",
   "metadata": {},
   "outputs": [],
   "source": [
    "plt.plot(t,y) \n",
    "plt.xlabel(\"Time\") \n",
    "plt.ylabel(\"x(t)\") \n",
    "plt.title('power-law ODE')\n",
    "plt.show()"
   ]
  },
  {
   "cell_type": "markdown",
   "id": "0dd16d4b-6054-4372-866e-375881fee415",
   "metadata": {
    "jp-MarkdownHeadingCollapsed": true
   },
   "source": [
    "###### semilogy plot"
   ]
  },
  {
   "cell_type": "code",
   "execution_count": null,
   "id": "e4573f5d-72eb-4e55-98f6-ddb75ffa6314",
   "metadata": {
    "scrolled": true
   },
   "outputs": [],
   "source": [
    "plt.plot(t,y) \n",
    "plt.xlabel(\"Time\") \n",
    "plt.ylabel(\"x(t)\") \n",
    "plt.title('power-law ODE')\n",
    "plt.semilogy()\n",
    "plt.show()"
   ]
  },
  {
   "cell_type": "markdown",
   "id": "33ffab56-bb5d-46c6-bd58-7e95c1a0eb73",
   "metadata": {
    "jp-MarkdownHeadingCollapsed": true
   },
   "source": [
    "###### log-log plot"
   ]
  },
  {
   "cell_type": "code",
   "execution_count": null,
   "id": "87faae99-d6a7-4895-9698-8e10168d8b18",
   "metadata": {
    "scrolled": true
   },
   "outputs": [],
   "source": [
    "plt.plot(t,y) \n",
    "plt.xlabel(\"Time\") \n",
    "plt.ylabel(\"x(t)\") \n",
    "plt.title('power-law ODE')\n",
    "plt.xscale('log')\n",
    "plt.yscale('log')\n",
    "plt.show()"
   ]
  },
  {
   "cell_type": "markdown",
   "id": "5a1ad1cc-6811-43dc-ab0e-bfcb531d276e",
   "metadata": {
    "jp-MarkdownHeadingCollapsed": true
   },
   "source": [
    "### comparing parameters effect"
   ]
  },
  {
   "cell_type": "markdown",
   "id": "b1ba6490-1968-453a-a4be-00596d9a3b5e",
   "metadata": {
    "jp-MarkdownHeadingCollapsed": true
   },
   "source": [
    "#### k effect"
   ]
  },
  {
   "cell_type": "markdown",
   "id": "d26eba78-a4f0-4f6e-881d-0a9ea849ed7f",
   "metadata": {
    "jp-MarkdownHeadingCollapsed": true
   },
   "source": [
    "###### parameters"
   ]
  },
  {
   "cell_type": "code",
   "execution_count": null,
   "id": "abb5e82b-eaf6-4941-938e-c6fcfe67957e",
   "metadata": {},
   "outputs": [],
   "source": [
    "k_list = [0.1, 0.5, 1.0, 2.0, 5.0]\n",
    "epsilon = 1.0\n",
    "y0 = 0.1\n",
    "interval_start = 0.0\n",
    "interval_end = 9.0"
   ]
  },
  {
   "cell_type": "markdown",
   "id": "e59118f2-8222-4cd4-8076-69ec0f34edd1",
   "metadata": {
    "jp-MarkdownHeadingCollapsed": true
   },
   "source": [
    "###### solving ODE"
   ]
  },
  {
   "cell_type": "code",
   "execution_count": null,
   "id": "5399ae52-f5ff-491c-91a8-fc243c532f0c",
   "metadata": {},
   "outputs": [],
   "source": [
    "t = np.linspace(interval_start, interval_end, 10000) \n",
    "  \n",
    "# solving ODE \n",
    "y_list = []# odeint(returns_dydt, y0, t)\n",
    "for k in k_list:\n",
    "    lambda_function = lambda t, y : k * y * np.power(y, epsilon)\n",
    "    y_list.append(odeint(lambda_function, y0, t))"
   ]
  },
  {
   "cell_type": "markdown",
   "id": "f7ecc765-65c1-41ee-9c4d-15e65079ad92",
   "metadata": {
    "jp-MarkdownHeadingCollapsed": true
   },
   "source": [
    "###### simple plot"
   ]
  },
  {
   "cell_type": "code",
   "execution_count": null,
   "id": "72bf806b-7946-4a78-97cb-3373e81f5a7f",
   "metadata": {
    "scrolled": true
   },
   "outputs": [],
   "source": [
    "for i in range(len(k_list)):\n",
    "    plt.plot(t, y_list[i], label=f'k={k_list[i]}') \n",
    "plt.xlabel(\"Time\") \n",
    "plt.ylabel(\"x(t)\") \n",
    "plt.title('power-law ODE')\n",
    "plt.legend()\n",
    "plt.show()"
   ]
  },
  {
   "cell_type": "markdown",
   "id": "4284e924-5beb-4c6d-b11c-c50f8d48ecd9",
   "metadata": {
    "jp-MarkdownHeadingCollapsed": true
   },
   "source": [
    "###### semilogy plot"
   ]
  },
  {
   "cell_type": "code",
   "execution_count": null,
   "id": "638ddf16-5c90-42b7-97f6-1a05c86c12da",
   "metadata": {
    "scrolled": true
   },
   "outputs": [],
   "source": [
    "for i in range(len(k_list)):\n",
    "    plt.plot(t, y_list[i], label=f'k={k_list[i]}') \n",
    "plt.xlabel(\"Time\") \n",
    "plt.ylabel(\"x(t)\") \n",
    "plt.title('power-law ODE')\n",
    "plt.legend()\n",
    "plt.semilogy()\n",
    "plt.show()"
   ]
  },
  {
   "cell_type": "markdown",
   "id": "e531b9e5-35d9-4c37-8466-f51ff459ca55",
   "metadata": {
    "jp-MarkdownHeadingCollapsed": true
   },
   "source": [
    "###### log-log plot"
   ]
  },
  {
   "cell_type": "code",
   "execution_count": null,
   "id": "c523aa69-9ab2-4247-ad1a-c5e16791fa69",
   "metadata": {
    "scrolled": true
   },
   "outputs": [],
   "source": [
    "for i in range(len(k_list)):\n",
    "    plt.plot(t, y_list[i], label=f'k={k_list[i]}') \n",
    "plt.xlabel(\"Time\") \n",
    "plt.ylabel(\"x(t)\") \n",
    "plt.title('power-law ODE')\n",
    "plt.legend()\n",
    "plt.xscale('log')\n",
    "plt.yscale('log')\n",
    "plt.show()"
   ]
  },
  {
   "cell_type": "markdown",
   "id": "574f40e9-0701-4f1c-a985-f58e5d5bfa3e",
   "metadata": {
    "jp-MarkdownHeadingCollapsed": true
   },
   "source": [
    "#### epsilon effect"
   ]
  },
  {
   "cell_type": "markdown",
   "id": "8bd22326-db06-4124-ac48-428ba2306bcd",
   "metadata": {
    "jp-MarkdownHeadingCollapsed": true
   },
   "source": [
    "###### parameters"
   ]
  },
  {
   "cell_type": "code",
   "execution_count": null,
   "id": "e1af2c1b-ee21-476e-ae66-b1c426623e82",
   "metadata": {},
   "outputs": [],
   "source": [
    "k = 1.0\n",
    "epsilon_list = [0.1, 0.5, 1.0, 2.0, 5.0]\n",
    "y0 = 0.1\n",
    "interval_start = 0.0\n",
    "interval_end = 9.0"
   ]
  },
  {
   "cell_type": "markdown",
   "id": "70fece57-e80d-4aba-b2f6-f38c4153be79",
   "metadata": {
    "jp-MarkdownHeadingCollapsed": true
   },
   "source": [
    "###### solving ODE"
   ]
  },
  {
   "cell_type": "code",
   "execution_count": null,
   "id": "a8276bc9-93a3-4d1a-9378-5c7f1a2cf72b",
   "metadata": {},
   "outputs": [],
   "source": [
    "t = np.linspace(interval_start, interval_end, 10000) \n",
    "  \n",
    "# solving ODE \n",
    "y_list = []# odeint(returns_dydt, y0, t)\n",
    "for epsilon in epsilon_list:\n",
    "    lambda_function = lambda t, y : k * y * np.power(y, epsilon)\n",
    "    y_list.append(odeint(lambda_function, y0, t))"
   ]
  },
  {
   "cell_type": "markdown",
   "id": "6c3b49b1-11cc-4713-a95e-6c8375920dbc",
   "metadata": {
    "jp-MarkdownHeadingCollapsed": true
   },
   "source": [
    "###### simple plot"
   ]
  },
  {
   "cell_type": "code",
   "execution_count": null,
   "id": "5331a001-86fe-4b39-87a4-eb848a2e3901",
   "metadata": {
    "scrolled": true
   },
   "outputs": [],
   "source": [
    "for i in range(len(epsilon_list)):\n",
    "    plt.plot(t, y_list[i], label=f'epsilon={epsilon_list[i]}') \n",
    "plt.xlabel(\"Time\") \n",
    "plt.ylabel(\"x(t)\") \n",
    "plt.title('power-law ODE')\n",
    "plt.legend()\n",
    "plt.show()"
   ]
  },
  {
   "cell_type": "markdown",
   "id": "0772f8a5-2bdb-49c2-a5fe-e063f763da29",
   "metadata": {
    "jp-MarkdownHeadingCollapsed": true
   },
   "source": [
    "###### semilog plot"
   ]
  },
  {
   "cell_type": "code",
   "execution_count": null,
   "id": "91a2ab0f-6b66-49c3-829e-da6774293b6d",
   "metadata": {},
   "outputs": [],
   "source": [
    "for i in range(len(epsilon_list)):\n",
    "    plt.plot(t, y_list[i], label=f'epsilon={epsilon_list[i]}') \n",
    "plt.xlabel(\"Time\") \n",
    "plt.ylabel(\"x(t)\") \n",
    "plt.title('power-law ODE')\n",
    "plt.legend()\n",
    "plt.semilogy()\n",
    "plt.show()"
   ]
  },
  {
   "cell_type": "markdown",
   "id": "34beceb7-8fec-4ffd-845e-686032d322d7",
   "metadata": {
    "jp-MarkdownHeadingCollapsed": true
   },
   "source": [
    "###### log-log plot"
   ]
  },
  {
   "cell_type": "code",
   "execution_count": null,
   "id": "c315f0f2-0bf8-4459-80bb-217274e7c2ad",
   "metadata": {},
   "outputs": [],
   "source": [
    "for i in range(len(epsilon_list)):\n",
    "    plt.plot(t, y_list[i], label=f'epsilon={epsilon_list[i]}') \n",
    "plt.xlabel(\"Time\") \n",
    "plt.ylabel(\"x(t)\") \n",
    "plt.title('power-law ODE')\n",
    "plt.legend()\n",
    "plt.xscale('log')\n",
    "plt.yscale('log')\n",
    "plt.show()"
   ]
  },
  {
   "cell_type": "markdown",
   "id": "703caf23-a5f4-4f24-83bb-683ab61d1925",
   "metadata": {
    "jp-MarkdownHeadingCollapsed": true
   },
   "source": [
    "#### x(0) effect"
   ]
  },
  {
   "cell_type": "markdown",
   "id": "2e4831ae-ca5e-4a2c-b69a-b301b43b9666",
   "metadata": {
    "jp-MarkdownHeadingCollapsed": true
   },
   "source": [
    "###### parameters"
   ]
  },
  {
   "cell_type": "code",
   "execution_count": null,
   "id": "5da40e78-73c2-48cb-894c-d491ecdb329f",
   "metadata": {},
   "outputs": [],
   "source": [
    "k = 1.0\n",
    "epsilon = 1.0\n",
    "y0_list = [0.1, 0.5, 1.0, 2.0, 5.0]\n",
    "interval_start = 0.0\n",
    "interval_end = 9.0"
   ]
  },
  {
   "cell_type": "markdown",
   "id": "3ff3e995-2f7a-4a7b-aad3-25c7e7e058c6",
   "metadata": {
    "jp-MarkdownHeadingCollapsed": true
   },
   "source": [
    "###### solving ODE"
   ]
  },
  {
   "cell_type": "code",
   "execution_count": null,
   "id": "71d9b6d4-f777-4216-83c1-5bb7bdbbf923",
   "metadata": {},
   "outputs": [],
   "source": [
    "t = np.linspace(interval_start, interval_end, 10000) \n",
    "  \n",
    "# solving ODE \n",
    "y_list = []# odeint(returns_dydt, y0, t)\n",
    "for y0 in y0_list:\n",
    "    lambda_function = lambda t, y : k * y * np.power(y, epsilon)\n",
    "    y_list.append(odeint(lambda_function, y0, t))"
   ]
  },
  {
   "cell_type": "markdown",
   "id": "bb1e716a-1a65-4073-896a-13ec621d866b",
   "metadata": {
    "jp-MarkdownHeadingCollapsed": true
   },
   "source": [
    "###### simple plot"
   ]
  },
  {
   "cell_type": "code",
   "execution_count": null,
   "id": "08306034-2344-4bbf-85e2-b8f740acc1e6",
   "metadata": {
    "scrolled": true
   },
   "outputs": [],
   "source": [
    "for i in range(len(y_list)):\n",
    "    plt.plot(t, y_list[i], label=f'y0={y0_list[i]}') \n",
    "plt.xlabel(\"Time\") \n",
    "plt.ylabel(\"x(t)\") \n",
    "plt.title('power-law ODE')\n",
    "plt.legend()\n",
    "plt.show()"
   ]
  },
  {
   "cell_type": "markdown",
   "id": "4f0a5017-abae-400b-8a98-ea4827101437",
   "metadata": {
    "jp-MarkdownHeadingCollapsed": true
   },
   "source": [
    "###### semilog plot"
   ]
  },
  {
   "cell_type": "code",
   "execution_count": null,
   "id": "7b8c5dbd-b134-4f31-8bc1-3a43cebf9ad5",
   "metadata": {
    "scrolled": true
   },
   "outputs": [],
   "source": [
    "for i in range(len(y_list)):\n",
    "    plt.plot(t, y_list[i], label=f'y0={y0_list[i]}') \n",
    "plt.xlabel(\"Time\") \n",
    "plt.ylabel(\"x(t)\") \n",
    "plt.title('power-law ODE')\n",
    "plt.legend()\n",
    "plt.semilogy()\n",
    "plt.show()"
   ]
  },
  {
   "cell_type": "markdown",
   "id": "f56ff21a-786a-43c1-92b5-37f85d29399b",
   "metadata": {
    "jp-MarkdownHeadingCollapsed": true
   },
   "source": [
    "###### log-log plot"
   ]
  },
  {
   "cell_type": "code",
   "execution_count": null,
   "id": "1f6559c9-5628-412c-9807-7179c92e7fae",
   "metadata": {
    "scrolled": true
   },
   "outputs": [],
   "source": [
    "for i in range(len(y_list)):\n",
    "    plt.plot(t, y_list[i], label=f'y0={y0_list[i]}') \n",
    "plt.xlabel(\"Time\") \n",
    "plt.ylabel(\"x(t)\") \n",
    "plt.title('power-law ODE')\n",
    "plt.legend()\n",
    "plt.show()"
   ]
  },
  {
   "cell_type": "markdown",
   "id": "1612e37e-1213-408d-a256-9aca7bb284e5",
   "metadata": {
    "jp-MarkdownHeadingCollapsed": true
   },
   "source": [
    "# 1. $\\epsilon$ is zero"
   ]
  },
  {
   "cell_type": "markdown",
   "id": "ca792639-2337-44ee-a6f3-419bfc2a1c97",
   "metadata": {},
   "source": [
    "if $\\epsilon$ was set to zero, then the power-law ODE would reduce yo the linear ODE, x'(t) = k.x(t). Which the solution would be the following exponential trajectory:"
   ]
  },
  {
   "cell_type": "markdown",
   "id": "2ebb7435-5e8a-4d00-812d-e7742ba129d3",
   "metadata": {},
   "source": [
    "$$x(t) = x(0) ^ {kt}$$"
   ]
  },
  {
   "cell_type": "markdown",
   "id": "a71cec5a-59f4-4413-acec-f69eef4e9495",
   "metadata": {
    "jp-MarkdownHeadingCollapsed": true
   },
   "source": [
    "##### implementation"
   ]
  },
  {
   "cell_type": "code",
   "execution_count": null,
   "id": "e1cb53d0-1d7d-4551-a3d8-d3ed907f1bbb",
   "metadata": {},
   "outputs": [],
   "source": [
    "def power_law_ode_zero_epsilon(data, k, initial_val):\n",
    "    return np.power(initial_val, k*data)"
   ]
  },
  {
   "cell_type": "markdown",
   "id": "e7057006-dbe0-4c8f-a8d6-4937188a73fe",
   "metadata": {
    "jp-MarkdownHeadingCollapsed": true
   },
   "source": [
    "###### parameters"
   ]
  },
  {
   "cell_type": "code",
   "execution_count": null,
   "id": "6cdb6ca6-5781-450b-a7e3-86ca4e2c6355",
   "metadata": {},
   "outputs": [],
   "source": [
    "k_list = [0.1, 0.2, 0.3, 0.4, 0.5, 1.0]\n",
    "initial_value_list = [0.1, 0.2, 0.3, 0.4, 0.5, 1.0]"
   ]
  },
  {
   "cell_type": "markdown",
   "id": "725db317-74ae-41dd-80ee-68f58cb8b297",
   "metadata": {
    "jp-MarkdownHeadingCollapsed": true
   },
   "source": [
    "###### generating values"
   ]
  },
  {
   "cell_type": "code",
   "execution_count": null,
   "id": "3fca87f3-cbfa-4b1a-8e52-d13bb5090a50",
   "metadata": {},
   "outputs": [],
   "source": [
    "x = x = np.linspace(0.0, 50, 1000)\n",
    "results = [power_law_ode_zero_epsilon(x, k_list[i], initial_value_list[i]) for i in range(len(k_list))]"
   ]
  },
  {
   "cell_type": "markdown",
   "id": "8192b819-76f1-4797-9d38-64877671e69e",
   "metadata": {
    "jp-MarkdownHeadingCollapsed": true
   },
   "source": [
    "###### simple plot"
   ]
  },
  {
   "cell_type": "code",
   "execution_count": null,
   "id": "f93b8d93-6e7f-43b5-ab27-15a5df99ee61",
   "metadata": {
    "scrolled": true
   },
   "outputs": [],
   "source": [
    "for i in range(len(k_list)):\n",
    "    k = k_list[i]\n",
    "    initial_val = initial_value_list[i]\n",
    "    plt.plot(x, results[i], label=f'k={k}, x(0)={initial_val}')\n",
    "plt.title('power-law ODE for zero epsilon')\n",
    "plt.xlabel('t')\n",
    "plt.ylabel('value')\n",
    "plt.legend(loc='best')\n",
    "plt.show()"
   ]
  },
  {
   "cell_type": "markdown",
   "id": "dc66dd07-4490-496d-b27e-d547d6252def",
   "metadata": {
    "jp-MarkdownHeadingCollapsed": true
   },
   "source": [
    "###### semilogy plot"
   ]
  },
  {
   "cell_type": "code",
   "execution_count": null,
   "id": "ffd290b7-ed68-4162-940c-a8590f377e9f",
   "metadata": {
    "scrolled": true
   },
   "outputs": [],
   "source": [
    "for i in range(len(k_list)):\n",
    "    k = k_list[i]\n",
    "    initial_val = initial_value_list[i]\n",
    "    plt.plot(x, results[i], label=f'k={k}, x(0)={initial_val}')\n",
    "plt.title('power-law ODE for zero epsilon semilogy plot')\n",
    "plt.xlabel('t')\n",
    "plt.ylabel('value')\n",
    "plt.semilogy()\n",
    "plt.legend(loc='best')\n",
    "plt.show()"
   ]
  },
  {
   "cell_type": "markdown",
   "id": "7428192e-eb7a-4b8f-9f2f-b4b1358e8c57",
   "metadata": {
    "jp-MarkdownHeadingCollapsed": true
   },
   "source": [
    "###### log-log plot"
   ]
  },
  {
   "cell_type": "code",
   "execution_count": null,
   "id": "eab339e8-9f16-4c38-9042-216f8a0988e7",
   "metadata": {
    "scrolled": true
   },
   "outputs": [],
   "source": [
    "for i in range(len(k_list)):\n",
    "    k = k_list[i]\n",
    "    initial_val = initial_value_list[i]\n",
    "    plt.plot(x, results[i], label=f'k={k}, x(0)={initial_val}')\n",
    "plt.title('power-law ODE for zero epsilon log-log plot')\n",
    "plt.xlabel('t')\n",
    "plt.ylabel('value')\n",
    "plt.xscale('log')\n",
    "plt.yscale('log')\n",
    "plt.legend(loc='best')\n",
    "plt.show()"
   ]
  },
  {
   "cell_type": "markdown",
   "id": "c863907d-7a1e-4289-9e0c-005ff54ab2ef",
   "metadata": {
    "jp-MarkdownHeadingCollapsed": true
   },
   "source": [
    "# 2. $\\epsilon$ > 0"
   ]
  },
  {
   "cell_type": "markdown",
   "id": "09617110-6850-4110-9377-e901a50b57a9",
   "metadata": {},
   "source": [
    "As the exponent ($\\epsilon$) is positive, the power-law ODE yields a super exponential growth. Indeed, with no loss of generality set, $k=1/\\epsilon$. Then the solution of the power-law ODE is the following explosive trajectory:"
   ]
  },
  {
   "cell_type": "markdown",
   "id": "f1692e8b-3021-42f8-9d5d-134220af3b6c",
   "metadata": {},
   "source": [
    "$$x(t) = \\displaystyle\\frac{1} {[{x(0)^{-\\epsilon} - t}]^{1/\\epsilon}}$$"
   ]
  },
  {
   "cell_type": "markdown",
   "id": "dbfb1684-3571-4ba2-8f2a-ed3a17561d26",
   "metadata": {},
   "source": [
    "For $t\\in[0,\\tau)$ where $\\tau = x(0)^{-\\epsilon}$ is the trajectory's explosion time."
   ]
  },
  {
   "cell_type": "markdown",
   "id": "8770a467-32c8-432c-9133-acf014ed1c4c",
   "metadata": {},
   "source": [
    "The solution of the powerlaw ODE has a finite-time singularity. A key feature of the power-law ODE is that if we initiate from two different positive values, $x_1(0)<x_2(0)$  , then the trajectory that corresponds to the smaller initial value will explode after the trajectory that corresponds to the larger initial value:     ${\\tau}_1>{\\tau}_2$     , where     ${\\tau}_1=x_1(0)^{-\\epsilon}$     and     ${\\tau}_2=x_2(0)^{-\\epsilon}$     are the respective explosion times."
   ]
  },
  {
   "cell_type": "markdown",
   "id": "74e6a970-1057-4a29-80ff-fcfa5767c83f",
   "metadata": {},
   "source": [
    "### implementation (eq2)"
   ]
  },
  {
   "cell_type": "code",
   "execution_count": null,
   "id": "55ebfdd2-17a7-4bb5-aa0f-97b1c3acf97b",
   "metadata": {},
   "outputs": [],
   "source": [
    "def power_law_ode_zero(data, epsilon, initial_value):\n",
    "    return 1.0 / np.power(np.power(initial_value, -epsilon)-data, 1.0/epsilon)"
   ]
  },
  {
   "cell_type": "markdown",
   "id": "743d472a-14c8-4619-be9c-fbf2396773e7",
   "metadata": {
    "jp-MarkdownHeadingCollapsed": true
   },
   "source": [
    "###### parameter"
   ]
  },
  {
   "cell_type": "markdown",
   "id": "95a0b0a1-f880-40d5-a5a7-8026616c7c2e",
   "metadata": {},
   "source": [
    "In the paper's fig 1, $t\\in[0,1]$ so we did the same for here. But with changing max_t_interval and min_t_interval we can see the result in other intervals."
   ]
  },
  {
   "cell_type": "code",
   "execution_count": null,
   "id": "bb6849ae-161c-4175-ad7a-445833809f8d",
   "metadata": {},
   "outputs": [],
   "source": [
    "epsilon_list = [1.0, 1.0, 1.0, 1.0, 1.0] # must be of length = size_minus_one + 1 \n",
    "largest_initial_val = 1.0# v in the paper\n",
    "size_minus_one = 4\n",
    "max_t_interval = 1.0\n",
    "min_t_interval = 0.0"
   ]
  },
  {
   "cell_type": "markdown",
   "id": "74fac9f3-5f01-40a8-831d-03ff9d4f6f23",
   "metadata": {
    "jp-MarkdownHeadingCollapsed": true
   },
   "source": [
    "###### generating values"
   ]
  },
  {
   "cell_type": "code",
   "execution_count": null,
   "id": "92d249a5-31dc-49d6-b234-42707af479e5",
   "metadata": {},
   "outputs": [],
   "source": [
    "x = np.linspace(0.0, 6.0, 1000)\n",
    "initial_value_list = np.random.uniform(0.0, largest_initial_val, size_minus_one)\n",
    "initial_value_list = np.sort(np.append(initial_value_list, largest_initial_val))\n",
    "\n",
    "tau_list = np.power(initial_value_list, -np.array(epsilon_list))\n",
    "\n",
    "results = [power_law_ode_zero(x, epsilon_list[i], initial_value_list[i]) for i in range(len(initial_value_list))]"
   ]
  },
  {
   "cell_type": "code",
   "execution_count": null,
   "id": "2c0d4695-fedb-4fc4-a690-b99c020f61b3",
   "metadata": {},
   "outputs": [],
   "source": [
    "initial_value_list"
   ]
  },
  {
   "cell_type": "code",
   "execution_count": null,
   "id": "c9eb4691-f509-455f-810d-e99a8fd3d68b",
   "metadata": {},
   "outputs": [],
   "source": [
    "tau_list"
   ]
  },
  {
   "cell_type": "markdown",
   "id": "a162ce51-917e-4b1d-9c23-9c0e9ac2a37d",
   "metadata": {
    "jp-MarkdownHeadingCollapsed": true
   },
   "source": [
    "###### simple plot"
   ]
  },
  {
   "cell_type": "code",
   "execution_count": null,
   "id": "86baf24b-cce1-4b5a-9aae-ad7ba4f59072",
   "metadata": {},
   "outputs": [],
   "source": [
    "for i in range(len(initial_value_list)):\n",
    "    epsilon = epsilon_list[i]\n",
    "    initial_val = initial_value_list[i]\n",
    "    plt.plot(x, results[i], label=f'k={k}, x(0)={\"{:.2f}\".format(round(initial_val, 2))}')\n",
    "plt.title('power-law ODE')\n",
    "plt.xlabel('t')\n",
    "plt.ylabel('value')\n",
    "plt.legend(loc='best')\n",
    "plt.show()"
   ]
  },
  {
   "cell_type": "markdown",
   "id": "21728bbb-2e66-4574-8986-59d7cb01dad8",
   "metadata": {
    "jp-MarkdownHeadingCollapsed": true
   },
   "source": [
    "###### semilogy plot"
   ]
  },
  {
   "cell_type": "code",
   "execution_count": null,
   "id": "cfd22cc0-24a6-4510-8f33-2ab6a237aa5d",
   "metadata": {
    "scrolled": true
   },
   "outputs": [],
   "source": [
    "for i in range(len(initial_value_list)):\n",
    "    epsilon = epsilon_list[i]\n",
    "    initial_val = initial_value_list[i]\n",
    "    plt.plot(x, results[i], label=f'k={k}, x(0)={\"{:.2f}\".format(round(initial_val, 2))}')\n",
    "plt.title('power-law ODE')\n",
    "plt.xlabel('t')\n",
    "plt.ylabel('value')\n",
    "plt.legend(loc='best')\n",
    "plt.semilogy()\n",
    "plt.show()"
   ]
  },
  {
   "cell_type": "markdown",
   "id": "4e8f906a-cac2-445d-bc59-781131f68557",
   "metadata": {
    "jp-MarkdownHeadingCollapsed": true
   },
   "source": [
    "###### log-log plot"
   ]
  },
  {
   "cell_type": "code",
   "execution_count": null,
   "id": "2ed4982b-c3cf-4913-948d-2af79feed3ae",
   "metadata": {
    "scrolled": true
   },
   "outputs": [],
   "source": [
    "for i in range(len(initial_value_list)):\n",
    "    epsilon = epsilon_list[i]\n",
    "    initial_val = initial_value_list[i]\n",
    "    plt.plot(x, results[i], label=f'k={k}, x(0)={\"{:.2f}\".format(round(initial_val, 2))}')\n",
    "plt.title('power-law ODE')\n",
    "plt.xlabel('t')\n",
    "plt.ylabel('value')\n",
    "plt.legend(loc='best')\n",
    "plt.xscale('log')\n",
    "plt.yscale('log')\n",
    "plt.show()"
   ]
  },
  {
   "cell_type": "markdown",
   "id": "cfacd8fb-933f-4e3c-889e-f549d86eb195",
   "metadata": {
    "jp-MarkdownHeadingCollapsed": true
   },
   "source": [
    "# eq3"
   ]
  },
  {
   "cell_type": "markdown",
   "id": "daed1786-edd1-4ea1-b54d-19cb72d172f8",
   "metadata": {},
   "source": [
    "Consequently, at the explosion time $\\tau(v)$ of the trajectory that corresponds to the largest initial value v, the\n",
    "values of the trajectories that correspond to all the other\n",
    "n initial values form the following ensemble:\n",
    "\n",
    "$$\\epsilon = \\{X_1, X_2, ..., X_n\\}$$\n",
    "\n",
    "(This $\\epsilon$ is different from the parameter $\\epsilon$)\n",
    "\n",
    "where X1, ··· , Xn are IID copies of the random variable\n",
    "X of eq. (3). The statistics of the ensemble E depend on\n",
    "four elements: \n",
    "1) the positive parameter , the exponent of the power-law ODE of eq. (1)\n",
    "2) the positive parameter v, the largest initial value\n",
    "3) the integer parameter n, the ensemble’s size\n",
    "4) the statistics of the generic\n",
    "\n",
    "random variable U, which are quantified by its probability\n",
    "density function $f_U(u)  u\\in(0,1)$. Figure 1 illustrates\n",
    "the construction of the ensemble $\\epsilon$"
   ]
  },
  {
   "cell_type": "markdown",
   "id": "ac566c97-32cb-4823-8e55-936cec7f8051",
   "metadata": {
    "jp-MarkdownHeadingCollapsed": true
   },
   "source": [
    "### implementation"
   ]
  },
  {
   "cell_type": "code",
   "execution_count": null,
   "id": "d90486a3-1c83-47b1-8c5e-bba99ced041f",
   "metadata": {},
   "outputs": [],
   "source": [
    "def power_law_trajectory_explosion_time(initial_value, specific_initial_value, epsilon): # F(u)\n",
    "    return initial_value / np.power(np.power(specific_initial_value/initial_value, -epsilon)-1, 1.0/epsilon)"
   ]
  },
  {
   "cell_type": "markdown",
   "id": "80a29fb9-774c-4635-bae9-4fafe0f1624a",
   "metadata": {
    "jp-MarkdownHeadingCollapsed": true
   },
   "source": [
    "##### paper values"
   ]
  },
  {
   "cell_type": "markdown",
   "id": "36eb66f9-8035-40ac-9109-4d8849e556ce",
   "metadata": {
    "jp-MarkdownHeadingCollapsed": true
   },
   "source": [
    "###### parameter"
   ]
  },
  {
   "cell_type": "code",
   "execution_count": null,
   "id": "dde713a7-65dc-44f8-bae0-f07d1b84c955",
   "metadata": {},
   "outputs": [],
   "source": [
    "epsilon_list = [1.0, 1.0, 1.0, 1.0, 1.0] # must be of length = size_minus_one + 1 \n",
    "largest_initial_val = 1.0# v in the paper\n",
    "size_minus_one = 4"
   ]
  },
  {
   "cell_type": "markdown",
   "id": "4476d24f-5a9e-4a36-89dd-6b635b6e0cc6",
   "metadata": {
    "jp-MarkdownHeadingCollapsed": true
   },
   "source": [
    "###### generating values"
   ]
  },
  {
   "cell_type": "code",
   "execution_count": null,
   "id": "8e8c22b2-2997-4d19-a07b-382515507592",
   "metadata": {},
   "outputs": [],
   "source": [
    "initial_value_list = np.random.uniform(0.0, largest_initial_val, size_minus_one)\n",
    "initial_value_list = np.sort(np.append(initial_value_list, largest_initial_val))\n",
    "\n",
    "tau_list = np.power(initial_value_list, -np.array(epsilon_list))\n",
    "\n",
    "results = [power_law_trajectory_explosion_time(largest_initial_val, initial_value_list[i], epsilon_list[i]) for i in range(len(initial_value_list))]"
   ]
  },
  {
   "cell_type": "code",
   "execution_count": null,
   "id": "c88e7a70-76f1-4f11-95d3-5c157dc2c8a7",
   "metadata": {
    "scrolled": true
   },
   "outputs": [],
   "source": [
    "plt.plot(initial_value_list/largest_initial_val, results)\n",
    "plt.scatter(initial_value_list/largest_initial_val, results, color='red')\n",
    "plt.title('power law trajectory explosion time')\n",
    "plt.xlabel('U (probability that is used to make x(0))')\n",
    "plt.ylabel('explosion time')\n",
    "plt.show()"
   ]
  },
  {
   "cell_type": "markdown",
   "id": "4cfd666b-aa73-41af-a917-7e596b8f7181",
   "metadata": {
    "jp-MarkdownHeadingCollapsed": true
   },
   "source": [
    "##### changing paper values to see better visualization"
   ]
  },
  {
   "cell_type": "markdown",
   "id": "a0d80d97-43d3-47da-b2c5-ff3e049aba05",
   "metadata": {
    "jp-MarkdownHeadingCollapsed": true
   },
   "source": [
    "###### parameter"
   ]
  },
  {
   "cell_type": "code",
   "execution_count": null,
   "id": "37d09f60-8054-4e54-9054-e604fcd2b133",
   "metadata": {},
   "outputs": [],
   "source": [
    "largest_initial_val = 1.0# v in the paper\n",
    "size_minus_one = 99\n",
    "epsilon_list = np.ones(size_minus_one+1) # must be of length = size_minus_one + 1 "
   ]
  },
  {
   "cell_type": "markdown",
   "id": "efda38c7-ea8a-4fa4-98cd-8da020dfe787",
   "metadata": {
    "jp-MarkdownHeadingCollapsed": true
   },
   "source": [
    "###### generating values"
   ]
  },
  {
   "cell_type": "code",
   "execution_count": null,
   "id": "0a1afa2c-ba29-4626-86f8-ad852358a5d8",
   "metadata": {},
   "outputs": [],
   "source": [
    "initial_value_list = np.linspace(0.0, largest_initial_val, size_minus_one+1)\n",
    "\n",
    "tau_list = np.power(initial_value_list, -np.array(epsilon_list))\n",
    "\n",
    "results = [power_law_trajectory_explosion_time(largest_initial_val, initial_value_list[i], epsilon_list[i]) for i in range(len(initial_value_list))]"
   ]
  },
  {
   "cell_type": "markdown",
   "id": "e1bf1813-da23-42c0-a150-5ab6ca7ce6da",
   "metadata": {
    "jp-MarkdownHeadingCollapsed": true
   },
   "source": [
    "###### simple plot"
   ]
  },
  {
   "cell_type": "code",
   "execution_count": null,
   "id": "645ae725-6b61-4180-9a1b-d777d8aefb34",
   "metadata": {
    "scrolled": true
   },
   "outputs": [],
   "source": [
    "plt.plot(initial_value_list/largest_initial_val, results)\n",
    "plt.scatter(initial_value_list/largest_initial_val, results, color='red')\n",
    "plt.title('power law trajectory explosion time')\n",
    "plt.xlabel('U (probability that is used to make x(0))')\n",
    "plt.ylabel('explosion time')\n",
    "plt.show()"
   ]
  },
  {
   "cell_type": "markdown",
   "id": "0eff3ffa-0293-40f7-87f1-2dcf07417637",
   "metadata": {
    "jp-MarkdownHeadingCollapsed": true
   },
   "source": [
    "###### semilogy plot"
   ]
  },
  {
   "cell_type": "code",
   "execution_count": null,
   "id": "2048a4c6-17f9-48f4-a271-11d69cda8c25",
   "metadata": {},
   "outputs": [],
   "source": [
    "plt.plot(initial_value_list/largest_initial_val, results)\n",
    "plt.scatter(initial_value_list/largest_initial_val, results, color='red')\n",
    "plt.title('power law trajectory explosion time')\n",
    "plt.xlabel('U (probability that is used to make x(0))')\n",
    "plt.ylabel('explosion time')\n",
    "plt.semilogy()\n",
    "plt.show()"
   ]
  },
  {
   "cell_type": "markdown",
   "id": "e12ad189-83c4-401b-ad84-09765ed9704c",
   "metadata": {
    "jp-MarkdownHeadingCollapsed": true
   },
   "source": [
    "###### log-log plot"
   ]
  },
  {
   "cell_type": "code",
   "execution_count": null,
   "id": "bc7d9330-20ba-49df-892a-c8fef8913695",
   "metadata": {
    "scrolled": true
   },
   "outputs": [],
   "source": [
    "plt.plot(initial_value_list/largest_initial_val, results)\n",
    "plt.scatter(initial_value_list/largest_initial_val, results, color='red')\n",
    "plt.title('power law trajectory explosion time')\n",
    "plt.xlabel('U (probability that is used to make x(0))')\n",
    "plt.ylabel('explosion time')\n",
    "plt.xscale('log')\n",
    "plt.yscale('log')\n",
    "plt.show()"
   ]
  },
  {
   "cell_type": "markdown",
   "id": "9eddf02e-c39d-4810-b8b8-b2b9431390b6",
   "metadata": {
    "jp-MarkdownHeadingCollapsed": true
   },
   "source": [
    "##### generating random sample (not sorted like above plots)"
   ]
  },
  {
   "cell_type": "code",
   "execution_count": null,
   "id": "402e5cc7-e97c-4971-aeec-ff075c00ec58",
   "metadata": {
    "scrolled": true
   },
   "outputs": [],
   "source": [
    "initial_value_list = np.random.uniform(0.0, largest_initial_val, size_minus_one+1) * largest_initial_val\n",
    "\n",
    "tau_list = np.power(initial_value_list, -np.array(epsilon_list))\n",
    "\n",
    "results = [power_law_trajectory_explosion_time(largest_initial_val, initial_value_list[i], epsilon_list[i]) for i in range(len(initial_value_list))]\n",
    "\n",
    "#plt.plot(initial_value_list/largest_initial_val, results)\n",
    "plt.plot(results, 'ro')\n",
    "plt.title('power law trajectory explosion time')\n",
    "plt.xlabel('sample number')\n",
    "plt.ylabel('explosion time')\n",
    "plt.show()"
   ]
  },
  {
   "cell_type": "markdown",
   "id": "558f4ba0-80d4-4c03-8369-ea76629d204e",
   "metadata": {
    "jp-MarkdownHeadingCollapsed": true
   },
   "source": [
    "# Limit law"
   ]
  },
  {
   "cell_type": "markdown",
   "id": "ba73c215-01d3-491b-ab98-bd177725462a",
   "metadata": {},
   "source": [
    "This limit-law applies to ensembles $\\epsilon$ whose size n is very large, and whose largest initial value v is very small: n → ∞\n",
    "and v → 0."
   ]
  },
  {
   "cell_type": "markdown",
   "id": "d683e345-cc2c-4ef1-8378-435d313eb67a",
   "metadata": {},
   "source": [
    "We assume that the limits n → ∞ and v → 0 are coupled as follows: \n",
    "the ensemble size n is asymptotically equivalent to the explosion time τ (v). Also, we assume that the probability density of the generic random variable U has a positive limit at the right endpoint of the unit interval. Namely, we  onsider the two following limits to hold: \n",
    "- The coupling limit: $lim_{n→∞,v→0} n·v = a$, with a positive.\n",
    "- The density limit: $lim_{u→1} f_U(u) = b$, with b positive."
   ]
  },
  {
   "cell_type": "markdown",
   "id": "3e02f7a8-8dac-40f7-8dfd-24ee363d4d64",
   "metadata": {
    "jp-MarkdownHeadingCollapsed": true
   },
   "source": [
    "## eq5"
   ]
  },
  {
   "cell_type": "markdown",
   "id": "06f8441f-c4cb-4adb-b597-b2c6a0bd6047",
   "metadata": {},
   "source": [
    "With these two limits holding, the ensemble E converges\n",
    "in law, as n → ∞ and v → 0, to a limiting ensemble P that\n",
    "is a Poisson process with the following power-law intensity\n",
    "function:\n",
    "$$\\lambda(x) = \\displaystyle\\frac{c\\epsilon}{x^{1+\\epsilon}}$$ "
   ]
  },
  {
   "cell_type": "markdown",
   "id": "f75f707f-0a0d-4e4d-b2b6-45ab9e0aecab",
   "metadata": {},
   "source": [
    "$x\\in(0,∞)$ , where ce = ab; hence c is positive constant"
   ]
  },
  {
   "cell_type": "markdown",
   "id": "88f6fd0c-353d-4c13-b3e8-532cb5c5d4ff",
   "metadata": {
    "jp-MarkdownHeadingCollapsed": true
   },
   "source": [
    "### implementation"
   ]
  },
  {
   "cell_type": "code",
   "execution_count": null,
   "id": "00ab52c2-ef36-48ac-bb95-4b4cf7dda1b3",
   "metadata": {},
   "outputs": [],
   "source": [
    "def poisson_process_power_law_intensity(data, c, epsilon):\n",
    "    return (c * epsilon) / np.power(data, 1.0 + epsilon)"
   ]
  },
  {
   "cell_type": "markdown",
   "id": "c774c7b3-b5a2-4702-af52-11e6311359bf",
   "metadata": {},
   "source": [
    "In general, a Poisson process is a countable collection of points which are scattered randomly over its domain, according to certain Poisson statistics hat are determined by its intensity function"
   ]
  },
  {
   "cell_type": "markdown",
   "id": "c11aebd0-832c-4bb6-b3bc-939f9e5bdafe",
   "metadata": {},
   "source": [
    "In our case the domain is the positive half-line, the intensity function is the power-law of eq. (5), and the limiting ensemble P is the Pareto-Poisson process."
   ]
  },
  {
   "cell_type": "markdown",
   "id": "14ca23ef-21ac-4261-856c-80081d4be57c",
   "metadata": {
    "jp-MarkdownHeadingCollapsed": true
   },
   "source": [
    "### c parameter effect in eq5"
   ]
  },
  {
   "cell_type": "markdown",
   "id": "cd225ae3-5e94-48b7-b96a-fa802fee8d24",
   "metadata": {
    "jp-MarkdownHeadingCollapsed": true
   },
   "source": [
    "###### parameters"
   ]
  },
  {
   "cell_type": "code",
   "execution_count": null,
   "id": "20bf3f60-7906-42f5-8290-3af9456e40d9",
   "metadata": {},
   "outputs": [],
   "source": [
    "c_list = [1.0, 2.0, 3.0, 4.0]\n",
    "epsilon = 1.0\n",
    "size = 100"
   ]
  },
  {
   "cell_type": "markdown",
   "id": "fc7157a8-c18a-4f2e-8341-dbb9f465c53a",
   "metadata": {
    "jp-MarkdownHeadingCollapsed": true
   },
   "source": [
    "###### generating values"
   ]
  },
  {
   "cell_type": "code",
   "execution_count": null,
   "id": "b2030fce-1038-4cbb-853e-d3932ad617fb",
   "metadata": {},
   "outputs": [],
   "source": [
    "x = np.linspace(0, 1, size)\n",
    "results = [poisson_process_power_law_intensity(x, c, epsilon) for c in c_list]"
   ]
  },
  {
   "cell_type": "markdown",
   "id": "43307fd8-1760-4152-9783-1d0bb2c37f63",
   "metadata": {
    "jp-MarkdownHeadingCollapsed": true
   },
   "source": [
    "###### simple plot"
   ]
  },
  {
   "cell_type": "code",
   "execution_count": null,
   "id": "c53abb96-96a0-4bdc-9513-391109c4f63f",
   "metadata": {},
   "outputs": [],
   "source": [
    "for i in range(len(results)):\n",
    "    plt.plot(x, results[i], label=f'epsilon= {epsilon}, c= {c_list[i]}')\n",
    "plt.title('comparing c parameters effect of eq5')\n",
    "plt.legend(loc='best')\n",
    "plt.show()"
   ]
  },
  {
   "cell_type": "markdown",
   "id": "cadeec46-40b1-4373-91c7-42cd8af11d9f",
   "metadata": {
    "jp-MarkdownHeadingCollapsed": true
   },
   "source": [
    "###### semilogy plot"
   ]
  },
  {
   "cell_type": "code",
   "execution_count": null,
   "id": "f884c051-ae68-4ae4-ad2e-b01be0884248",
   "metadata": {},
   "outputs": [],
   "source": [
    "for i in range(len(results)):\n",
    "    plt.plot(x, results[i], label=f'epsilon= {epsilon}, c= {c_list[i]}')\n",
    "plt.title('comparing c parameters effect of eq5')\n",
    "plt.legend(loc='best')\n",
    "plt.semilogy()\n",
    "plt.show()"
   ]
  },
  {
   "cell_type": "markdown",
   "id": "4e6420e1-3d66-4daf-bcb0-8f20ade7ce40",
   "metadata": {
    "jp-MarkdownHeadingCollapsed": true
   },
   "source": [
    "###### log-log plot"
   ]
  },
  {
   "cell_type": "code",
   "execution_count": null,
   "id": "b0c76c9b-2e43-437e-8372-07be52240a77",
   "metadata": {},
   "outputs": [],
   "source": [
    "for i in range(len(results)):\n",
    "    plt.plot(x, results[i], label=f'epsilon= {epsilon}, c= {c_list[i]}')\n",
    "plt.title('comparing c parameters effect of eq5')\n",
    "plt.legend(loc='best')\n",
    "plt.xscale('log')\n",
    "plt.yscale('log')\n",
    "plt.show()"
   ]
  },
  {
   "cell_type": "markdown",
   "id": "3f219e59-dcf6-45fd-a613-25d931e6de9f",
   "metadata": {
    "jp-MarkdownHeadingCollapsed": true
   },
   "source": [
    "### epsilon parameter effect in eq5"
   ]
  },
  {
   "cell_type": "markdown",
   "id": "71ca14e9-6184-47ae-9abc-9a1a82c485cc",
   "metadata": {
    "jp-MarkdownHeadingCollapsed": true
   },
   "source": [
    "###### parameters"
   ]
  },
  {
   "cell_type": "code",
   "execution_count": null,
   "id": "41dc7f97-6c7d-4f9a-9f0a-4f1c0c0df98c",
   "metadata": {},
   "outputs": [],
   "source": [
    "c = 1.0\n",
    "epsilon_list = [1.0, 2.0, 3.0, 4.0]\n",
    "size = 100"
   ]
  },
  {
   "cell_type": "markdown",
   "id": "4dd8d3e7-22c7-4a9a-b0da-8bec256219a6",
   "metadata": {
    "jp-MarkdownHeadingCollapsed": true
   },
   "source": [
    "###### generating values"
   ]
  },
  {
   "cell_type": "code",
   "execution_count": null,
   "id": "21370709-2b48-4604-b4b8-84b7b50bf002",
   "metadata": {},
   "outputs": [],
   "source": [
    "x = np.linspace(0, 1, size)\n",
    "results = [poisson_process_power_law_intensity(x, c, epsilon) for epsilon in epsilon_list]"
   ]
  },
  {
   "cell_type": "markdown",
   "id": "947ac9bd-8745-4ed1-a868-7834320ff0f5",
   "metadata": {
    "jp-MarkdownHeadingCollapsed": true
   },
   "source": [
    "###### simple plot"
   ]
  },
  {
   "cell_type": "code",
   "execution_count": null,
   "id": "bf3256a4-8c88-4d9e-90d6-d837f54e8da3",
   "metadata": {},
   "outputs": [],
   "source": [
    "for i in range(len(results)):\n",
    "    plt.plot(x, results[i], label=f'epsilon= {epsilon}, c= {c_list[i]}')\n",
    "plt.title('comparing c parameters effect of eq5')\n",
    "plt.legend(loc='best')\n",
    "plt.show()"
   ]
  },
  {
   "cell_type": "markdown",
   "id": "240e2986-e30a-49b2-8181-71b2914cd865",
   "metadata": {
    "jp-MarkdownHeadingCollapsed": true
   },
   "source": [
    "###### semilogy plot"
   ]
  },
  {
   "cell_type": "code",
   "execution_count": null,
   "id": "b7bb3cd2-53d2-46e9-85f1-219db71f0d02",
   "metadata": {},
   "outputs": [],
   "source": [
    "for i in range(len(results)):\n",
    "    plt.plot(x, results[i], label=f'epsilon= {epsilon}, c= {c_list[i]}')\n",
    "plt.title('comparing c parameters effect of eq5')\n",
    "plt.legend(loc='best')\n",
    "plt.semilogy()\n",
    "plt.show()"
   ]
  },
  {
   "cell_type": "markdown",
   "id": "a4d0750a-b87a-42da-abc0-ac6a9a3933dc",
   "metadata": {
    "jp-MarkdownHeadingCollapsed": true
   },
   "source": [
    "###### log-log plot"
   ]
  },
  {
   "cell_type": "code",
   "execution_count": null,
   "id": "ddba9b82-1a2e-44ac-8a0e-740c320c0a36",
   "metadata": {},
   "outputs": [],
   "source": [
    "for i in range(len(results)):\n",
    "    plt.plot(x, results[i], label=f'epsilon= {epsilon}, c= {c_list[i]}')\n",
    "plt.title('comparing c parameters effect of eq5')\n",
    "plt.legend(loc='best')\n",
    "plt.xscale('log')\n",
    "plt.yscale('log')\n",
    "plt.show()"
   ]
  },
  {
   "cell_type": "markdown",
   "id": "d4d364f8-42db-4085-b251-4c3714e2b39b",
   "metadata": {
    "jp-MarkdownHeadingCollapsed": true
   },
   "source": [
    "### size parameter effect"
   ]
  },
  {
   "cell_type": "markdown",
   "id": "d6595a94-46ee-4e18-92fd-8c24ecc281d2",
   "metadata": {
    "jp-MarkdownHeadingCollapsed": true
   },
   "source": [
    "###### parameter"
   ]
  },
  {
   "cell_type": "code",
   "execution_count": null,
   "id": "82c8ca51-c897-4483-b523-e4c1eb96bb9c",
   "metadata": {},
   "outputs": [],
   "source": [
    "c = 1.0\n",
    "size_list = [1000, 100, 10]\n",
    "epsilon = 1.0"
   ]
  },
  {
   "cell_type": "markdown",
   "id": "917ef747-4ff2-406f-a8fb-60e4a5b9ae80",
   "metadata": {
    "jp-MarkdownHeadingCollapsed": true
   },
   "source": [
    "###### generating values"
   ]
  },
  {
   "cell_type": "code",
   "execution_count": null,
   "id": "125ec4b6-e912-41c9-8461-fb0683b0ebae",
   "metadata": {},
   "outputs": [],
   "source": [
    "x_list = [np.linspace(0, 1, size) for size in size_list]\n",
    "results = [poisson_process_power_law_intensity(x, c, epsilon) for x in x_list]"
   ]
  },
  {
   "cell_type": "markdown",
   "id": "37b2088d-db60-48b6-ab59-8ff101ec3317",
   "metadata": {
    "jp-MarkdownHeadingCollapsed": true
   },
   "source": [
    "###### simple plot"
   ]
  },
  {
   "cell_type": "code",
   "execution_count": null,
   "id": "52f7ed32-c14a-41d5-85c2-0d16df58de6c",
   "metadata": {
    "scrolled": true
   },
   "outputs": [],
   "source": [
    "for i in range(len(size_list)):\n",
    "    plt.scatter(x_list[i], results[i], label=f'epsilon= {epsilon}, c= {c}, size= {size_list[i]}')\n",
    "    #plt.plot(x_list[i], results[i], label=f'epsilon= {epsilon}, c= {c}, size= {size_list[i]}')\n",
    "plt.title('comparing size parameters effect of eq5')\n",
    "plt.legend(loc='best')\n",
    "plt.show()"
   ]
  },
  {
   "cell_type": "markdown",
   "id": "144395bc-5ac7-4629-af6d-94bea7d7ecbd",
   "metadata": {
    "jp-MarkdownHeadingCollapsed": true
   },
   "source": [
    "###### semilogy plot"
   ]
  },
  {
   "cell_type": "code",
   "execution_count": null,
   "id": "22d6cfb1-ac3b-408b-adaf-2b86b7341f55",
   "metadata": {
    "scrolled": true
   },
   "outputs": [],
   "source": [
    "for i in range(len(size_list)):\n",
    "    plt.scatter(x_list[i], results[i], label=f'epsilon= {epsilon}, c= {c}, size= {size_list[i]}')\n",
    "    #plt.plot(x_list[i], results[i], label=f'epsilon= {epsilon}, c= {c}, size= {size_list[i]}')\n",
    "plt.title('comparing size parameters effect of eq5')\n",
    "plt.legend(loc='best')\n",
    "plt.semilogy()\n",
    "plt.show()"
   ]
  },
  {
   "cell_type": "markdown",
   "id": "fb368122-b2e1-4293-908b-226a7a95945c",
   "metadata": {
    "jp-MarkdownHeadingCollapsed": true
   },
   "source": [
    "###### log-log plot"
   ]
  },
  {
   "cell_type": "code",
   "execution_count": null,
   "id": "e30b24c4-42ac-477e-91a7-f530a69fa70a",
   "metadata": {
    "scrolled": true
   },
   "outputs": [],
   "source": [
    "for i in range(len(size_list)):\n",
    "    plt.scatter(x_list[i], results[i], label=f'epsilon= {epsilon}, c= {c}, size= {size_list[i]}')\n",
    "    #plt.plot(x_list[i], results[i], label=f'epsilon= {epsilon}, c= {c}, size= {size_list[i]}')\n",
    "plt.title('comparing size parameters effect of eq5')\n",
    "plt.legend(loc='best')\n",
    "plt.xscale('log')\n",
    "plt.yscale('log')\n",
    "plt.show()"
   ]
  },
  {
   "cell_type": "markdown",
   "id": "11d5397c-a5b5-4a9d-8ccf-570762bca05f",
   "metadata": {
    "jp-MarkdownHeadingCollapsed": true
   },
   "source": [
    "# pareto-poisson process"
   ]
  },
  {
   "cell_type": "markdown",
   "id": "f69507da-2645-4d51-834c-a342d616465a",
   "metadata": {},
   "source": [
    "setting off from the power-law ODE of eq. (1), and\r\n",
    "coupling the limits n → ∞ and v → 0 adequately, a universal stochastic limit-law is obtained: for any generic random variable U that belongs to the domain of attraction,\r\n",
    "the output will always be the Pareto-Poisson process P;\r\n",
    "in other words, the output P is effectively invariant with\r\n",
    "respect to the input U."
   ]
  },
  {
   "cell_type": "markdown",
   "id": "0e2c1536-5da2-4780-8895-496f221b1b3f",
   "metadata": {},
   "source": [
    "The quintessential example of a generic random variable\r\n",
    "U that belongs to the domain of attraction is the uniformly distributed one, which is characterized by the constant probability density fU (u) = 1 (0 <u< 1). Hence,\r\n",
    "in particular, the stochastic limit-law applies when the n\r\n",
    "random initial values are scattered in a uniform fashion\r\n",
    "between zero and the largest initial value v"
   ]
  },
  {
   "cell_type": "markdown",
   "id": "c7c06acf-5134-4189-937b-9e3b3bc195be",
   "metadata": {
    "jp-MarkdownHeadingCollapsed": true
   },
   "source": [
    "## simulations without solving ODE"
   ]
  },
  {
   "cell_type": "markdown",
   "id": "36c00d68-8072-4839-94ec-25d84e004f9a",
   "metadata": {},
   "source": [
    "we have defined the following function (eq2) befor:\n",
    "power_law_ode_zero(data, epsilon, initial_value)"
   ]
  },
  {
   "cell_type": "markdown",
   "id": "793a9771-57e1-4235-838a-cea40db8897c",
   "metadata": {
    "jp-MarkdownHeadingCollapsed": true
   },
   "source": [
    "### eq 5 simulation"
   ]
  },
  {
   "cell_type": "markdown",
   "id": "e7e6cbf7-4d98-4115-a6a9-ee23f9e45a67",
   "metadata": {
    "jp-MarkdownHeadingCollapsed": true
   },
   "source": [
    "#### size effect"
   ]
  },
  {
   "cell_type": "markdown",
   "id": "c32a2104-f604-4715-b5d2-c37c68f57721",
   "metadata": {
    "jp-MarkdownHeadingCollapsed": true
   },
   "source": [
    "###### parameters"
   ]
  },
  {
   "cell_type": "code",
   "execution_count": null,
   "id": "59d5fbdc-2187-4405-972f-75cb02078b62",
   "metadata": {},
   "outputs": [],
   "source": [
    "largest_initial_val = 1.0 # v in paper\n",
    "size_list = [10000, 1000, 100, 10]\n",
    "epsilon = 1.0\n",
    "c = 1"
   ]
  },
  {
   "cell_type": "markdown",
   "id": "dc8db176-ca77-45b8-b8cc-354b95b1ac7d",
   "metadata": {
    "jp-MarkdownHeadingCollapsed": true
   },
   "source": [
    "###### generating values"
   ]
  },
  {
   "cell_type": "code",
   "execution_count": null,
   "id": "3948a223-0da0-4d54-a303-b22d54ece181",
   "metadata": {
    "scrolled": true
   },
   "outputs": [],
   "source": [
    "results = []\n",
    "initial_value_result_list = []\n",
    "for size in size_list:\n",
    "    initial_value_list = np.random.uniform(0.0, largest_initial_val, size) * largest_initial_val\n",
    "    initial_value_list = np.sort(initial_value_list)\n",
    "    initial_value_result_list.append(initial_value_list)\n",
    "\n",
    "    result = [power_law_trajectory_explosion_time(largest_initial_val, initial_value_list[i], epsilon) for i in range(len(initial_value_list))]\n",
    "    results.append(result)"
   ]
  },
  {
   "cell_type": "markdown",
   "id": "f13fb5d1-0391-4710-8576-8749be4a000e",
   "metadata": {
    "jp-MarkdownHeadingCollapsed": true
   },
   "source": [
    "###### simple plot"
   ]
  },
  {
   "cell_type": "code",
   "execution_count": null,
   "id": "f99a2cdb-1d67-4ab2-aa69-2dee4dc20d76",
   "metadata": {},
   "outputs": [],
   "source": [
    "for i in range(len(size_list)):\n",
    "    plt.plot(initial_value_result_list[i]/largest_initial_val, results[i], '-o', label=f'size= {size_list[i]}')\n",
    "plt.title('eq5- poisson process with power law intensity function')\n",
    "plt.xlabel('x')\n",
    "plt.ylabel('lambda')\n",
    "plt.legend(loc='best')\n",
    "plt.show()"
   ]
  },
  {
   "cell_type": "markdown",
   "id": "193a5227-539d-4f00-b3a3-3e957fd5fa07",
   "metadata": {
    "jp-MarkdownHeadingCollapsed": true
   },
   "source": [
    "###### semilogy plot"
   ]
  },
  {
   "cell_type": "code",
   "execution_count": null,
   "id": "b1468f87-9aff-4dd5-afc4-f825b50fe4e6",
   "metadata": {
    "scrolled": true
   },
   "outputs": [],
   "source": [
    "for i in range(len(size_list)):\n",
    "    plt.plot(initial_value_result_list[i]/largest_initial_val, results[i], '-o', label=f'size= {size_list[i]}')\n",
    "plt.title('eq5- poisson process with power law intensity function')\n",
    "plt.xlabel('x')\n",
    "plt.ylabel('lambda')\n",
    "plt.legend(loc='best')\n",
    "plt.semilogy()\n",
    "plt.show()"
   ]
  },
  {
   "cell_type": "markdown",
   "id": "6aa990c4-ff8a-43b0-a79c-102a6bf26ee0",
   "metadata": {
    "jp-MarkdownHeadingCollapsed": true
   },
   "source": [
    "###### log-log plot"
   ]
  },
  {
   "cell_type": "code",
   "execution_count": null,
   "id": "6212f4b0-7220-483a-8118-ee71a393e045",
   "metadata": {
    "scrolled": true
   },
   "outputs": [],
   "source": [
    "for i in range(len(size_list)):\n",
    "    plt.plot(initial_value_result_list[i]/largest_initial_val, results[i], '-o', label=f'size= {size_list[i]}')\n",
    "plt.title('eq5- poisson process with power law intensity function')\n",
    "plt.xlabel('x')\n",
    "plt.ylabel('lambda')\n",
    "plt.legend(loc='best')\n",
    "plt.xscale('log')\n",
    "plt.yscale('log')\n",
    "plt.show()"
   ]
  },
  {
   "cell_type": "markdown",
   "id": "b8c9922c-0cfc-47ab-a27f-6b3b5c835509",
   "metadata": {
    "jp-MarkdownHeadingCollapsed": true
   },
   "source": [
    "#### v effect (initial value effect)"
   ]
  },
  {
   "cell_type": "markdown",
   "id": "878bc0b1-96a3-4aeb-ba37-ac7cd9fa845b",
   "metadata": {
    "jp-MarkdownHeadingCollapsed": true
   },
   "source": [
    "###### parameters"
   ]
  },
  {
   "cell_type": "code",
   "execution_count": null,
   "id": "207ce6e6-dce1-43a7-b5ed-ef1e3143d50f",
   "metadata": {},
   "outputs": [],
   "source": [
    "largest_initial_val_list = [1.0, 0.5, 0.1, 0.001]\n",
    "size = 10000\n",
    "epsilon = 1.0\n",
    "c = 1"
   ]
  },
  {
   "cell_type": "markdown",
   "id": "e7b45e20-91c5-442a-874e-a1c5ca573cee",
   "metadata": {
    "jp-MarkdownHeadingCollapsed": true
   },
   "source": [
    "###### generating values"
   ]
  },
  {
   "cell_type": "code",
   "execution_count": null,
   "id": "b8e241f0-0371-4aa2-9622-b9feea72be8b",
   "metadata": {},
   "outputs": [],
   "source": [
    "results = []\n",
    "initial_value_result_list = []\n",
    "for largest_initial_val in largest_initial_val_list:\n",
    "    initial_value_list = np.random.uniform(0.0, largest_initial_val, size) * largest_initial_val\n",
    "    initial_value_list = np.sort(initial_value_list)\n",
    "    initial_value_result_list.append(initial_value_list)\n",
    "\n",
    "    result = [power_law_trajectory_explosion_time(largest_initial_val, initial_value_list[i], epsilon) for i in range(len(initial_value_list))]\n",
    "    results.append(result)"
   ]
  },
  {
   "cell_type": "markdown",
   "id": "e5c6d2de-e1e4-48ac-a4b2-43aa229466cb",
   "metadata": {
    "jp-MarkdownHeadingCollapsed": true
   },
   "source": [
    "###### simple plot"
   ]
  },
  {
   "cell_type": "code",
   "execution_count": null,
   "id": "258597f0-6490-41a7-8f49-ede3cfcfbc24",
   "metadata": {
    "scrolled": true
   },
   "outputs": [],
   "source": [
    "for i in range(len(results)):\n",
    "    plt.plot(initial_value_result_list[i]/largest_initial_val_list[i], results[i], '-o', label=f'initial value(v)= {largest_initial_val_list[i]}')\n",
    "plt.title('eq5 - poisson process with power law intensity function')\n",
    "plt.xlabel('x')\n",
    "plt.ylabel('lambda')\n",
    "plt.legend(loc='best')\n",
    "plt.show()"
   ]
  },
  {
   "cell_type": "markdown",
   "id": "a83d62d4-c727-46fa-9293-ed210468c356",
   "metadata": {
    "jp-MarkdownHeadingCollapsed": true
   },
   "source": [
    "###### semilogy plot"
   ]
  },
  {
   "cell_type": "code",
   "execution_count": null,
   "id": "f119f218-2a1c-4651-80f7-3db74eb185c5",
   "metadata": {
    "scrolled": true
   },
   "outputs": [],
   "source": [
    "for i in range(len(results)):\n",
    "    plt.plot(initial_value_result_list[i]/largest_initial_val_list[i], results[i], '-o', label=f'initial value(v)= {largest_initial_val_list[i]}')\n",
    "plt.title('eq5 - poisson process with power law intensity function')\n",
    "plt.xlabel('x')\n",
    "plt.ylabel('lambda')\n",
    "plt.legend(loc='best')\n",
    "plt.semilogy()\n",
    "plt.show()"
   ]
  },
  {
   "cell_type": "markdown",
   "id": "29397937-79b9-483d-a8ce-dc23c7945332",
   "metadata": {
    "jp-MarkdownHeadingCollapsed": true
   },
   "source": [
    "###### log-log plot"
   ]
  },
  {
   "cell_type": "code",
   "execution_count": null,
   "id": "e35bc01c-f719-4afe-962a-bfe59f1782f0",
   "metadata": {
    "scrolled": true
   },
   "outputs": [],
   "source": [
    "for i in range(len(results)):\n",
    "    plt.plot(initial_value_result_list[i]/largest_initial_val_list[i], results[i], '-o', label=f'initial value(v)= {largest_initial_val_list[i]}')\n",
    "plt.title('eq5 - poisson process with power law intensity function')\n",
    "plt.xlabel('x')\n",
    "plt.ylabel('lambda')\n",
    "plt.legend(loc='best')\n",
    "plt.xscale('log')\n",
    "plt.yscale('log')\n",
    "plt.show()"
   ]
  },
  {
   "cell_type": "markdown",
   "id": "e0393931-6120-4b3e-9dcd-b5b3b5a8288f",
   "metadata": {
    "jp-MarkdownHeadingCollapsed": true
   },
   "source": [
    "#### u effect"
   ]
  },
  {
   "cell_type": "markdown",
   "id": "a050a8aa-ef9d-4252-b759-9184810fe0f1",
   "metadata": {
    "jp-MarkdownHeadingCollapsed": true
   },
   "source": [
    "###### parameters"
   ]
  },
  {
   "cell_type": "code",
   "execution_count": null,
   "id": "99d2af84-cbd7-4909-9741-1d47146aa8d0",
   "metadata": {},
   "outputs": [],
   "source": [
    "largest_initial_val = 0.0001\n",
    "size = 10000\n",
    "epsilon = 1.0\n",
    "c = 1\n",
    "start_interval_list = [0.99, 0.9, 0.5, 0.0]"
   ]
  },
  {
   "cell_type": "markdown",
   "id": "cdedd05a-30a3-4555-8d72-0797d774ecb0",
   "metadata": {
    "jp-MarkdownHeadingCollapsed": true
   },
   "source": [
    "###### generating values"
   ]
  },
  {
   "cell_type": "code",
   "execution_count": null,
   "id": "f4112752-99fe-4cc2-9137-75e5180305cb",
   "metadata": {
    "scrolled": true
   },
   "outputs": [],
   "source": [
    "results = []\n",
    "initial_value_result_list = []\n",
    "\n",
    "for start_interval in start_interval_list:\n",
    "    initial_value_list = np.random.uniform(start_interval, largest_initial_val, size) * largest_initial_val\n",
    "    initial_value_list = np.sort(initial_value_list)\n",
    "    initial_value_result_list.append(initial_value_list)\n",
    "\n",
    "    result = [power_law_trajectory_explosion_time(largest_initial_val, initial_value_list[i], epsilon) for i in range(len(initial_value_list))]\n",
    "    results.append(result)"
   ]
  },
  {
   "cell_type": "markdown",
   "id": "6c3e7bd0-37fe-49e0-9257-dd3635d35689",
   "metadata": {
    "jp-MarkdownHeadingCollapsed": true
   },
   "source": [
    "###### simple plot"
   ]
  },
  {
   "cell_type": "code",
   "execution_count": null,
   "id": "53973e87-0e86-4f04-a2d4-d680fb26cc07",
   "metadata": {
    "scrolled": true
   },
   "outputs": [],
   "source": [
    "for i in range(len(results)):\n",
    "    plt.plot(initial_value_result_list[i]/largest_initial_val, results[i], '-o', label=f'u= {start_interval_list[i]}')\n",
    "plt.title('power law trajectory explosion time')\n",
    "plt.xlabel('sample number')\n",
    "plt.ylabel('explosion time')\n",
    "plt.legend(loc='best')\n",
    "plt.show()"
   ]
  },
  {
   "cell_type": "markdown",
   "id": "31f54f27-fa87-4f9f-899a-1d08929b15ab",
   "metadata": {
    "jp-MarkdownHeadingCollapsed": true
   },
   "source": [
    "###### semilogy plot"
   ]
  },
  {
   "cell_type": "code",
   "execution_count": null,
   "id": "7ef9dc27-d4ab-43bb-a016-89d8495085ff",
   "metadata": {
    "scrolled": true
   },
   "outputs": [],
   "source": [
    "for i in range(len(results)):\n",
    "    plt.plot(initial_value_result_list[i]/largest_initial_val, results[i], '-o', label=f'u= {start_interval_list[i]}')\n",
    "plt.title('power law trajectory explosion time')\n",
    "plt.xlabel('sample number')\n",
    "plt.ylabel('explosion time')\n",
    "plt.legend(loc='best')\n",
    "plt.semilogy()\n",
    "plt.show()"
   ]
  },
  {
   "cell_type": "markdown",
   "id": "46992f5d-0388-480d-a05f-5c0cca094547",
   "metadata": {
    "jp-MarkdownHeadingCollapsed": true
   },
   "source": [
    "###### log-log plot"
   ]
  },
  {
   "cell_type": "code",
   "execution_count": null,
   "id": "cf80ee79-eed6-4f29-ae11-d991ab613fd9",
   "metadata": {
    "scrolled": true
   },
   "outputs": [],
   "source": [
    "for i in range(len(results)):\n",
    "    plt.plot(initial_value_result_list[i]/largest_initial_val, results[i], '-o', label=f'u= {start_interval_list[i]}')\n",
    "plt.title('power law trajectory explosion time')\n",
    "plt.xlabel('sample number')\n",
    "plt.ylabel('explosion time')\n",
    "plt.legend(loc='best')\n",
    "plt.xscale('log')\n",
    "plt.yscale('log')\n",
    "plt.show()"
   ]
  },
  {
   "cell_type": "markdown",
   "id": "27400230-972a-4ddd-8595-0d489170e272",
   "metadata": {
    "jp-MarkdownHeadingCollapsed": true
   },
   "source": [
    "### generating pareto-poisson process"
   ]
  },
  {
   "cell_type": "markdown",
   "id": "ea8a0773-d680-4030-92fe-145d9b7058e5",
   "metadata": {
    "jp-MarkdownHeadingCollapsed": true
   },
   "source": [
    "###### parameters"
   ]
  },
  {
   "cell_type": "code",
   "execution_count": null,
   "id": "89601cb2-6d2b-4542-a608-18dbc92c03e6",
   "metadata": {},
   "outputs": [],
   "source": [
    "largest_initial_val = 0.001 # v in paper\n",
    "size = 10000\n",
    "epsilon = 1.0\n",
    "c = 1\n",
    "start_interval = 0.99"
   ]
  },
  {
   "cell_type": "markdown",
   "id": "b2aec4df-e6be-4519-b4bb-f2db17b314f3",
   "metadata": {
    "jp-MarkdownHeadingCollapsed": true
   },
   "source": [
    "###### generating values"
   ]
  },
  {
   "cell_type": "code",
   "execution_count": null,
   "id": "c79786a6-acdd-4f49-b1ef-e54949e7c76e",
   "metadata": {},
   "outputs": [],
   "source": [
    "initial_value_list = np.random.uniform(start_interval, largest_initial_val, size) * largest_initial_val\n",
    "\n",
    "result = [power_law_trajectory_explosion_time(largest_initial_val, initial_value, epsilon) for initial_value in initial_value_list]"
   ]
  },
  {
   "cell_type": "markdown",
   "id": "95d52ec9-b9d9-4a41-9cd4-4e8dcf44dae0",
   "metadata": {
    "jp-MarkdownHeadingCollapsed": true
   },
   "source": [
    "###### simple plot"
   ]
  },
  {
   "cell_type": "code",
   "execution_count": null,
   "id": "1bc1966e-382d-4b8e-b10c-b4f6c2556b87",
   "metadata": {},
   "outputs": [],
   "source": [
    "plt.plot(result, 'ro')\n",
    "plt.xlabel('simulation number')\n",
    "plt.ylabel('value')\n",
    "plt.show()"
   ]
  },
  {
   "cell_type": "markdown",
   "id": "dac9c25e-5fea-4997-a64f-d473e0770359",
   "metadata": {
    "jp-MarkdownHeadingCollapsed": true
   },
   "source": [
    "###### sorted simple plot"
   ]
  },
  {
   "cell_type": "code",
   "execution_count": null,
   "id": "f5bc41f3-b8cf-4d6b-8950-a2b5e2c421b4",
   "metadata": {
    "scrolled": true
   },
   "outputs": [],
   "source": [
    "initial_value_list = np.random.uniform(start_interval, largest_initial_val, size) * largest_initial_val\n",
    "initial_value_list = np.sort(initial_value_list)\n",
    "\n",
    "result = [power_law_trajectory_explosion_time(largest_initial_val, initial_value, epsilon) for initial_value in initial_value_list]\n",
    "\n",
    "plt.plot(result, 'ro')\n",
    "plt.xlabel('simulation number')\n",
    "plt.ylabel('value')\n",
    "plt.show()"
   ]
  },
  {
   "cell_type": "markdown",
   "id": "1c995d06-6b1d-409c-8780-778a1ed59629",
   "metadata": {
    "jp-MarkdownHeadingCollapsed": true
   },
   "source": [
    "###### sorted semilog plot"
   ]
  },
  {
   "cell_type": "code",
   "execution_count": null,
   "id": "4aabf193-ab24-4bf0-b5d4-9aa19d46f03f",
   "metadata": {
    "scrolled": true
   },
   "outputs": [],
   "source": [
    "initial_value_list = np.random.uniform(start_interval, largest_initial_val, size) * largest_initial_val\n",
    "initial_value_list = np.sort(initial_value_list)\n",
    "\n",
    "result = [power_law_trajectory_explosion_time(largest_initial_val, initial_value, epsilon) for initial_value in initial_value_list]\n",
    "\n",
    "plt.plot(result, 'ro')\n",
    "plt.xlabel('simulation number')\n",
    "plt.ylabel('value')\n",
    "plt.semilogy()\n",
    "plt.show()"
   ]
  },
  {
   "cell_type": "markdown",
   "id": "30cbf465-1a05-449a-8e2c-86db598eac90",
   "metadata": {
    "jp-MarkdownHeadingCollapsed": true
   },
   "source": [
    "###### sorted log-log plot"
   ]
  },
  {
   "cell_type": "code",
   "execution_count": null,
   "id": "c1030113-d64e-479e-87d0-f0ed2caf237e",
   "metadata": {
    "scrolled": true
   },
   "outputs": [],
   "source": [
    "initial_value_list = np.random.uniform(start_interval, largest_initial_val, size) * largest_initial_val\n",
    "initial_value_list = np.sort(initial_value_list)\n",
    "\n",
    "result = [power_law_trajectory_explosion_time(largest_initial_val, initial_value, epsilon) for initial_value in initial_value_list]\n",
    "\n",
    "plt.plot(result, 'ro')\n",
    "plt.xlabel('simulation number')\n",
    "plt.ylabel('value')\n",
    "plt.xscale('log')\n",
    "plt.yscale('log')\n",
    "plt.show()"
   ]
  },
  {
   "cell_type": "markdown",
   "id": "a74f36f1-8706-4729-b933-47ab26ef84e7",
   "metadata": {
    "jp-MarkdownHeadingCollapsed": true
   },
   "source": [
    "## simulation with solving ODE"
   ]
  },
  {
   "cell_type": "markdown",
   "id": "f45e383b-47a7-42c5-85e9-72867227a1a2",
   "metadata": {
    "jp-MarkdownHeadingCollapsed": true
   },
   "source": [
    "###### parameters"
   ]
  },
  {
   "cell_type": "code",
   "execution_count": null,
   "id": "c525fdc5-c684-471c-84b2-3ff3bbfb7501",
   "metadata": {},
   "outputs": [],
   "source": [
    "size = 1000\n",
    "y0 = 0.001\n",
    "epsilon = 1.0\n",
    "k = 1.0\n",
    "interval_start = 0.0\n",
    "interval_end = 1.0"
   ]
  },
  {
   "cell_type": "markdown",
   "id": "c04e6192-5f9e-4891-8cc6-de41ca7fc78f",
   "metadata": {
    "jp-MarkdownHeadingCollapsed": true
   },
   "source": [
    "###### solving ODE"
   ]
  },
  {
   "cell_type": "code",
   "execution_count": null,
   "id": "b5ea8c12-c28d-41dd-a970-42f6e5e1d316",
   "metadata": {},
   "outputs": [],
   "source": [
    "t = np.linspace(interval_start, interval_end, size)\n",
    "\n",
    "lambda_function = lambda t, y : k * y * np.power(y, epsilon)\n",
    "y= odeint(lambda_function, y0, t)"
   ]
  },
  {
   "cell_type": "markdown",
   "id": "4dce7257-c5e9-4ee9-a909-b988ec295b98",
   "metadata": {
    "jp-MarkdownHeadingCollapsed": true
   },
   "source": [
    "###### simple plot"
   ]
  },
  {
   "cell_type": "code",
   "execution_count": null,
   "id": "529568df-22f8-4931-9fb2-a2f4c79bc6b3",
   "metadata": {
    "scrolled": true
   },
   "outputs": [],
   "source": [
    "plt.plot(t, y)\n",
    "plt.xlabel('t')\n",
    "plt.ylabel('x(t)')\n",
    "plt.show()"
   ]
  },
  {
   "cell_type": "markdown",
   "id": "6d4af234-6bd9-4d61-b7d0-66ec606d136b",
   "metadata": {
    "jp-MarkdownHeadingCollapsed": true
   },
   "source": [
    "###### semilog"
   ]
  },
  {
   "cell_type": "code",
   "execution_count": null,
   "id": "2a9c31af-22f5-4ba2-a1ef-c9b18c139886",
   "metadata": {
    "scrolled": true
   },
   "outputs": [],
   "source": [
    "plt.plot(t, y)\n",
    "plt.xlabel('t')\n",
    "plt.ylabel('x(t)')\n",
    "plt.semilogy()\n",
    "plt.show()"
   ]
  },
  {
   "cell_type": "markdown",
   "id": "d97835b3-1139-4656-a652-b037ec0884c0",
   "metadata": {
    "jp-MarkdownHeadingCollapsed": true
   },
   "source": [
    "###### log-log plot"
   ]
  },
  {
   "cell_type": "code",
   "execution_count": null,
   "id": "585bb45e-3a34-47db-9689-f540384a055b",
   "metadata": {
    "scrolled": true
   },
   "outputs": [],
   "source": [
    "plt.plot(t, y)\n",
    "plt.xlabel('t')\n",
    "plt.ylabel('x(t)')\n",
    "plt.xscale('log')\n",
    "plt.yscale('log')\n",
    "plt.show()"
   ]
  },
  {
   "cell_type": "markdown",
   "id": "7589cda7-edc6-42fc-b4b5-426a86e80a62",
   "metadata": {
    "jp-MarkdownHeadingCollapsed": true
   },
   "source": [
    "# eq6"
   ]
  },
  {
   "cell_type": "markdown",
   "id": "83f159a6-0f04-4b2d-9a01-56d2e2c4f67c",
   "metadata": {},
   "source": [
    "Consider an arbitrary positive level l, and focus on the \n",
    "points of  (Pareto-Poisson process)P that reside above this level: the sub-collectio \r\n",
    "P∩(l,∞). The number of points N t that comprise t e\r\n",
    "sub-collection P∩(l,∞) is a Poisson-distributed ran om\r\n",
    "variable with the following mean"
   ]
  },
  {
   "cell_type": "markdown",
   "id": "1189e1aa-ec41-46d1-b3b1-6a74d0d6aa07",
   "metadata": {},
   "source": [
    "$$E[N_l] = \\displaystyle\\frac{c}{l^{\\epsilon}}$$"
   ]
  },
  {
   "cell_type": "markdown",
   "id": "e64451ec-86ec-4a4f-8037-8fc386d357c7",
   "metadata": {
    "jp-MarkdownHeadingCollapsed": true
   },
   "source": [
    "### implementation"
   ]
  },
  {
   "cell_type": "code",
   "execution_count": null,
   "id": "7e94e276-0e26-4222-a15f-0dbcc67b4eea",
   "metadata": {},
   "outputs": [],
   "source": [
    "def eq6(l, c, epsilon): # expected mean\n",
    "    return c / np.power(l, epsilon)"
   ]
  },
  {
   "cell_type": "markdown",
   "id": "ddb448a4-d161-4b51-a25e-fff0d615259d",
   "metadata": {
    "jp-MarkdownHeadingCollapsed": true
   },
   "source": [
    "### simulation"
   ]
  },
  {
   "cell_type": "markdown",
   "id": "415caeb3-dcf4-4475-8a69-3ebca6669ad5",
   "metadata": {
    "jp-MarkdownHeadingCollapsed": true
   },
   "source": [
    "#### simulation without solving ODE in generating Pareto-Poisson process"
   ]
  },
  {
   "cell_type": "markdown",
   "id": "8fbe5bb8-93b3-461d-ae97-740913e9ca94",
   "metadata": {
    "jp-MarkdownHeadingCollapsed": true
   },
   "source": [
    "###### parameters"
   ]
  },
  {
   "cell_type": "code",
   "execution_count": null,
   "id": "8dea0674-6ae4-4387-bf49-141a7a45e55e",
   "metadata": {},
   "outputs": [],
   "source": [
    "largest_initial_val = 0.001 # v in paper\n",
    "size = 1000\n",
    "epsilon = 1.0\n",
    "c = 0.8 # must be set manually\n",
    "start_interval = 0.99\n",
    "l_list = [0.019, 0.018, 0.017, 0.016, 0.015, 0.014, 0.013, 0.012, 0.011]\n",
    "simulation_number = 100"
   ]
  },
  {
   "cell_type": "markdown",
   "id": "437cb934-823b-4861-9c05-79b7ebd20626",
   "metadata": {
    "jp-MarkdownHeadingCollapsed": true
   },
   "source": [
    "###### generating results"
   ]
  },
  {
   "cell_type": "code",
   "execution_count": null,
   "id": "bfb58e3c-3039-4082-9f4f-e9fbe712b548",
   "metadata": {
    "scrolled": true
   },
   "outputs": [],
   "source": [
    "l_count_results = {}\n",
    "\n",
    "for l in l_list:\n",
    "    l_counts = []\n",
    "    for i in range(simulation_number):\n",
    "        initial_value_list = np.random.uniform(start_interval, largest_initial_val, size) * largest_initial_val\n",
    "    \n",
    "        result = [power_law_trajectory_explosion_time(largest_initial_val, initial_value, epsilon) for initial_value in initial_value_list]\n",
    "        \n",
    "        l_counts.append(sum(j > l for j in result))\n",
    "\n",
    "    l_count_results[str(l)] = l_counts\n",
    "\n",
    "df = pd.DataFrame(l_count_results)"
   ]
  },
  {
   "cell_type": "markdown",
   "id": "c945ccc8-b7d8-4307-ba92-c7cbb6e073da",
   "metadata": {
    "jp-MarkdownHeadingCollapsed": true
   },
   "source": [
    "###### df"
   ]
  },
  {
   "cell_type": "code",
   "execution_count": null,
   "id": "325fdb64-9c01-4667-b8b3-902dd81ad91a",
   "metadata": {
    "scrolled": true
   },
   "outputs": [],
   "source": [
    "df"
   ]
  },
  {
   "cell_type": "markdown",
   "id": "5c37ec0a-fe6c-4aed-a7f1-b8f142e47ca7",
   "metadata": {
    "jp-MarkdownHeadingCollapsed": true
   },
   "source": [
    "##### plotting results"
   ]
  },
  {
   "cell_type": "markdown",
   "id": "cf6424e5-5c06-42d8-833e-dea6057a0b9d",
   "metadata": {
    "jp-MarkdownHeadingCollapsed": true
   },
   "source": [
    "###### simple plot"
   ]
  },
  {
   "cell_type": "code",
   "execution_count": null,
   "id": "e69cf419-ebda-4b40-a463-38d5190e6a2e",
   "metadata": {
    "scrolled": true
   },
   "outputs": [],
   "source": [
    "for i in range(len(l_list)):\n",
    "    l = l_list[i]\n",
    "    # Generate some data for this  \n",
    "    # demonstration. \n",
    "      \n",
    "    # Fit a normal distribution to \n",
    "    # the data: \n",
    "    # mean and standard deviation \n",
    "    mean, std = st.norm.fit(l_count_results[str(l)])\n",
    "    var = np.var(l_count_results[str(l)])\n",
    "      \n",
    "    # Plot the histogram. \n",
    "    plt.hist(l_count_results[str(l)], bins=25, density=True, alpha=0.6, color='olive') \n",
    "      \n",
    "    # Plot the PDF. \n",
    "    xmin, xmax = plt.xlim() \n",
    "    x = np.linspace(xmin, xmax, 100) \n",
    "    p = st.norm.pdf(x, mean, std) \n",
    "      \n",
    "    plt.plot(x, p, 'k', linewidth=2, label='normal distribution for this stats')\n",
    "    plt.plot([eq6(l, c, epsilon), eq6(l, c, epsilon)], [0.0, 0.1], 'green', label='expected mean')\n",
    "    plt.plot([mean, mean], [0.0, 0.1], 'limegreen', label='actual mean')\n",
    "    plt.legend(loc='best')\n",
    "    plt.title(\"l = {} and Fit Values: mean:{:.2f}, std: {:.2f} and var: {:.2f}\".format(l, mean, std, var)) \n",
    "      \n",
    "    plt.show() "
   ]
  },
  {
   "cell_type": "markdown",
   "id": "21af08bc-055b-4086-b4df-b530f301a0dd",
   "metadata": {
    "jp-MarkdownHeadingCollapsed": true
   },
   "source": [
    "###### seaborn plot"
   ]
  },
  {
   "cell_type": "code",
   "execution_count": null,
   "id": "b859ba08-2d13-41f8-bec1-7f158bee157f",
   "metadata": {
    "scrolled": true
   },
   "outputs": [],
   "source": [
    "sns.displot(df, kde=True)\n",
    "plt.show()"
   ]
  },
  {
   "cell_type": "markdown",
   "id": "ecf47194-ddce-414f-9d58-754292f5b549",
   "metadata": {
    "jp-MarkdownHeadingCollapsed": true
   },
   "source": [
    "###### stats plot"
   ]
  },
  {
   "cell_type": "code",
   "execution_count": null,
   "id": "31f42a7d-a42e-4b6b-be76-f65b2a4d3bb5",
   "metadata": {
    "scrolled": true
   },
   "outputs": [],
   "source": [
    "dataSet = [l_count_results[str(l)] for l in l_list]\n",
    "  \n",
    "figure = plt.figure()  \n",
    "ax = figure.add_subplot(111)  \n",
    "bp = ax.boxplot(dataSet, patch_artist = True,notch ='True', vert = 0)  \n",
    "colors = ['#00FF00','#0F00FF', '#F00FF0','#FFFF0F']  \n",
    "for patch, color in zip(bp['boxes'], colors):  \n",
    "    patch.set_facecolor(color)  \n",
    "for whisker in bp['whiskers']:  \n",
    "    whisker.set(color ='#8E008B',linewidth = 1.4,linestyle =\":\")  \n",
    "for cap in bp['caps']:  \n",
    "    cap.set(color ='#8E008B',linewidth = 2.1)  \n",
    "for median in bp['medians']:  \n",
    "    median.set(color ='blue',linewidth = 3)  \n",
    "for flier in bp['fliers']:  \n",
    "    flier.set(marker ='D',color ='#d7298c',alpha = 0.6)   \n",
    "ax.set_yticklabels([str(l) for l in l_list])  \n",
    "plt.title(\"Customized box plot using attributes\")  \n",
    "ax.get_xaxis().tick_bottom()  \n",
    "ax.get_yaxis().tick_left()    \n",
    "plt.show()  "
   ]
  },
  {
   "cell_type": "code",
   "execution_count": null,
   "id": "62a64e53-5af3-49b1-9569-4852cd6e821b",
   "metadata": {
    "scrolled": true
   },
   "outputs": [],
   "source": [
    "sns.catplot(df)\n",
    "plt.title(\"density of l's\")\n",
    "plt.ylabel('count')\n",
    "plt.xlabel('l')\n",
    "plt.show()"
   ]
  },
  {
   "cell_type": "code",
   "execution_count": null,
   "id": "d5110749-c35d-4843-960b-30fb29360cee",
   "metadata": {},
   "outputs": [],
   "source": [
    "poisson_process = MultiSequenceGenerator(lambda a, size : None, [], None, None)\n",
    "poisson_process.df = df\n",
    "poisson_process.draw_stat_plots()"
   ]
  },
  {
   "cell_type": "markdown",
   "id": "359bb6ca-2cb6-4bc4-b6c4-2efe0ce27dbf",
   "metadata": {
    "jp-MarkdownHeadingCollapsed": true
   },
   "source": [
    "#### simulation with solving ODE in generating Pareto-Poisson process"
   ]
  },
  {
   "cell_type": "markdown",
   "id": "d369e24b-462c-4ad6-9960-a54cc3528b11",
   "metadata": {
    "jp-MarkdownHeadingCollapsed": true
   },
   "source": [
    "###### parameters"
   ]
  },
  {
   "cell_type": "code",
   "execution_count": null,
   "id": "52d704a1-b737-4f36-a582-ca112d0ef180",
   "metadata": {},
   "outputs": [],
   "source": [
    "largest_initial_val = 0.001 # v in paper\n",
    "size = 1000\n",
    "epsilon = 1.0\n",
    "c = 3.5 # must be set manually\n",
    "start_interval = 0.99\n",
    "l_list = [0.019, 0.018, 0.017, 0.016, 0.015, 0.014, 0.013, 0.012, 0.011]\n",
    "simulation_number = 100\n",
    "k = 0.1\n",
    "interval_start = 0.0\n",
    "interval_end = 1.0"
   ]
  },
  {
   "cell_type": "markdown",
   "id": "ea1fbc18-5b57-41ca-bb86-787b2d7dd82d",
   "metadata": {
    "jp-MarkdownHeadingCollapsed": true
   },
   "source": [
    "###### generating values"
   ]
  },
  {
   "cell_type": "code",
   "execution_count": null,
   "id": "207f9ac0-d1f1-4189-92d4-32a729cbbece",
   "metadata": {},
   "outputs": [],
   "source": [
    "l_count_results = {}\n",
    "\n",
    "for l in l_list:\n",
    "    l_counts = []\n",
    "    for i in range(simulation_number):\n",
    "        initial_value_list = np.random.uniform(start_interval, largest_initial_val, size) * largest_initial_val\n",
    "    \n",
    "        t = np.sort(np.random.uniform(interval_start, interval_end, size))\n",
    "\n",
    "        lambda_function = lambda t, y : k * y * np.power(y, epsilon)\n",
    "        y= odeint(lambda_function, largest_initial_val, t)\n",
    "        y = np.array([a[0] for a in y])\n",
    "        \n",
    "        l_counts.append(sum(j > l for j in y))\n",
    "\n",
    "    l_count_results[str(l)] = l_counts\n",
    "\n",
    "df = pd.DataFrame(l_count_results)"
   ]
  },
  {
   "cell_type": "markdown",
   "id": "8eea1867-3424-45cc-81ed-245811fc6703",
   "metadata": {
    "jp-MarkdownHeadingCollapsed": true
   },
   "source": [
    "###### df"
   ]
  },
  {
   "cell_type": "code",
   "execution_count": null,
   "id": "28067985-de48-42b1-89ce-52daba5d37c6",
   "metadata": {
    "scrolled": true
   },
   "outputs": [],
   "source": [
    "df"
   ]
  },
  {
   "cell_type": "markdown",
   "id": "cc079a89-2ed8-4b99-8108-6ec48ff6e36a",
   "metadata": {},
   "source": [
    "##### plotting results"
   ]
  },
  {
   "cell_type": "markdown",
   "id": "8328880c-6b9a-4826-ba29-297729190141",
   "metadata": {
    "jp-MarkdownHeadingCollapsed": true
   },
   "source": [
    "###### simple plot"
   ]
  },
  {
   "cell_type": "code",
   "execution_count": null,
   "id": "4c828355-6ce5-451c-a94a-1bf37f33a5ac",
   "metadata": {},
   "outputs": [],
   "source": [
    "for i in range(len(l_list)):\n",
    "    l = l_list[i]\n",
    "    print(l_list[i] - np.mean(l_list[i]))\n",
    "    # Generate some data for this  \n",
    "    # demonstration. \n",
    "      \n",
    "    # Fit a normal distribution to \n",
    "    # the data: \n",
    "    # mean and standard deviation \n",
    "    mean, std = st.norm.fit(l_count_results[str(l)])\n",
    "    var = np.var(l_count_results[str(l)])\n",
    "      \n",
    "    # Plot the histogram. \n",
    "    plt.hist(l_count_results[str(l)], bins=25, density=True, alpha=0.6, color='olive') \n",
    "      \n",
    "    # Plot the PDF. \n",
    "    xmin, xmax = plt.xlim() \n",
    "    x = np.linspace(xmin, xmax, 100) \n",
    "    p = st.norm.pdf(x, mean, std) \n",
    "      \n",
    "    plt.plot(x, p, 'k', linewidth=2, label='normal distribution for this stats')\n",
    "    plt.plot([eq6(l, c, epsilon), eq6(l, c, epsilon)], [0.0, 0.1], 'green', label='expected mean')\n",
    "    plt.plot([mean, mean], [0.0, 0.1], 'limegreen', label='actual mean')\n",
    "    plt.legend(loc='best')\n",
    "    plt.title(\"l = {} and Fit Values: mean:{:.2f}, std: {:.2f} and var: {:.2f}\".format(l, mean, std, var)) \n",
    "      \n",
    "    plt.show() "
   ]
  },
  {
   "cell_type": "markdown",
   "id": "c9912552-a86d-41df-b799-462b630c00e3",
   "metadata": {
    "jp-MarkdownHeadingCollapsed": true
   },
   "source": [
    "###### seaborn plot"
   ]
  },
  {
   "cell_type": "code",
   "execution_count": null,
   "id": "b5e95a13-2eed-4430-a49f-b3fd58ef148c",
   "metadata": {
    "scrolled": true
   },
   "outputs": [],
   "source": [
    "sns.displot(df, kde=True)\n",
    "plt.show()"
   ]
  },
  {
   "cell_type": "markdown",
   "id": "a7e4d3a3-c4ae-4e60-bc9e-3fb108d902b3",
   "metadata": {
    "jp-MarkdownHeadingCollapsed": true
   },
   "source": [
    "###### stats plot"
   ]
  },
  {
   "cell_type": "code",
   "execution_count": null,
   "id": "303319fc-9493-4bf5-a032-3e0a4799e711",
   "metadata": {
    "scrolled": true
   },
   "outputs": [],
   "source": [
    "dataSet = [l_count_results[str(l)] for l in l_list]\n",
    "  \n",
    "figure = plt.figure()  \n",
    "ax = figure.add_subplot(111)  \n",
    "bp = ax.boxplot(dataSet, patch_artist = True,notch ='True', vert = 0)  \n",
    "colors = ['#00FF00','#0F00FF', '#F00FF0','#FFFF0F']  \n",
    "for patch, color in zip(bp['boxes'], colors):  \n",
    "    patch.set_facecolor(color)  \n",
    "for whisker in bp['whiskers']:  \n",
    "    whisker.set(color ='#8E008B',linewidth = 1.4,linestyle =\":\")  \n",
    "for cap in bp['caps']:  \n",
    "    cap.set(color ='#8E008B',linewidth = 2.1)  \n",
    "for median in bp['medians']:  \n",
    "    median.set(color ='blue',linewidth = 3)  \n",
    "for flier in bp['fliers']:  \n",
    "    flier.set(marker ='D',color ='#d7298c',alpha = 0.6)   \n",
    "ax.set_yticklabels([str(l) for l in l_list])  \n",
    "plt.title(\"Customized box plot using attributes\")  \n",
    "ax.get_xaxis().tick_bottom()  \n",
    "ax.get_yaxis().tick_left()    \n",
    "plt.show()  "
   ]
  },
  {
   "cell_type": "code",
   "execution_count": null,
   "id": "872bbfc1-cedc-47b1-a0a0-8fc2cac81213",
   "metadata": {
    "scrolled": true
   },
   "outputs": [],
   "source": [
    "sns.catplot(df)\n",
    "plt.title(\"density of l's\")\n",
    "plt.ylabel('count')\n",
    "plt.xlabel('l')\n",
    "plt.show()"
   ]
  },
  {
   "cell_type": "code",
   "execution_count": null,
   "id": "5aa0100e-ffd5-413d-b679-d1dfd9f49568",
   "metadata": {
    "scrolled": true
   },
   "outputs": [],
   "source": [
    "poisson_process = MultiSequenceGenerator(lambda a, size : None, [], None, None)\n",
    "poisson_process.df = df\n",
    "poisson_process.draw_stat_plots()"
   ]
  },
  {
   "cell_type": "markdown",
   "id": "53ab4054-3e24-490c-8b0e-89f99b04788a",
   "metadata": {
    "jp-MarkdownHeadingCollapsed": true
   },
   "source": [
    "# eq 7"
   ]
  },
  {
   "cell_type": "markdown",
   "id": "f0a6e71b-2dd5-45c5-b8c2-dcb76cb310ed",
   "metadata": {},
   "source": [
    "$$Pr(P_l > x) = ({\\frac{l}{x}})^{\\epsilon}$$"
   ]
  },
  {
   "cell_type": "markdown",
   "id": "5154ec41-d71f-493f-a747-22508a684684",
   "metadata": {
    "jp-MarkdownHeadingCollapsed": true
   },
   "source": [
    "### implementing"
   ]
  },
  {
   "cell_type": "code",
   "execution_count": null,
   "id": "cca0f6da-9760-4153-9eb3-c3ccabe9e3e2",
   "metadata": {},
   "outputs": [],
   "source": [
    "def eq7(l, x, epsilon):\n",
    "    return np.power(l/x, epsilon)"
   ]
  },
  {
   "cell_type": "markdown",
   "id": "425ee083-bb76-4e29-a810-68ef37745be4",
   "metadata": {
    "jp-MarkdownHeadingCollapsed": true
   },
   "source": [
    "#### parameters effect"
   ]
  },
  {
   "cell_type": "markdown",
   "id": "a238171b-5b83-4eca-96db-6e0beee45fc3",
   "metadata": {
    "jp-MarkdownHeadingCollapsed": true
   },
   "source": [
    "##### l parameter effect"
   ]
  },
  {
   "cell_type": "markdown",
   "id": "8addaea4-89ee-4511-ade5-4363f402515b",
   "metadata": {
    "jp-MarkdownHeadingCollapsed": true
   },
   "source": [
    "###### parameters"
   ]
  },
  {
   "cell_type": "code",
   "execution_count": null,
   "id": "61293a43-b80c-45af-bea3-cb4f1fe90abe",
   "metadata": {},
   "outputs": [],
   "source": [
    "l_list = [0.1, 0.5, 1.0, 30, 5.0]\n",
    "epsilon = 1.0"
   ]
  },
  {
   "cell_type": "markdown",
   "id": "6027d747-323d-4831-954b-c43c597e9b0b",
   "metadata": {
    "jp-MarkdownHeadingCollapsed": true
   },
   "source": [
    "###### generating values"
   ]
  },
  {
   "cell_type": "code",
   "execution_count": null,
   "id": "2636a87d-1f14-4918-85a0-b193b14d5589",
   "metadata": {},
   "outputs": [],
   "source": [
    "x = np.linspace(0.0, 50.0, 10000)\n",
    "y = [eq7(l, x, epsilon) for l in l_list]"
   ]
  },
  {
   "cell_type": "markdown",
   "id": "f657d5e9-1367-49f9-b941-2f2f25d6673e",
   "metadata": {
    "jp-MarkdownHeadingCollapsed": true
   },
   "source": [
    "###### simple plot"
   ]
  },
  {
   "cell_type": "code",
   "execution_count": null,
   "id": "c8918e3c-d34a-43ae-919e-6998f0449d45",
   "metadata": {
    "scrolled": true
   },
   "outputs": [],
   "source": [
    "for i in range(len(l_list)):\n",
    "    plt.plot(x, y[i], label=f'l= {l_list[i]}')\n",
    "plt.xlabel('x')\n",
    "plt.ylabel('value')\n",
    "plt.title('comparing different l parameter')\n",
    "plt.legend(loc='best')\n",
    "plt.show()"
   ]
  },
  {
   "cell_type": "markdown",
   "id": "d9e0766d-3de0-4f55-baa6-c35633172ff7",
   "metadata": {
    "jp-MarkdownHeadingCollapsed": true
   },
   "source": [
    "###### semilog"
   ]
  },
  {
   "cell_type": "code",
   "execution_count": null,
   "id": "09b3d83d-afd6-4f61-8f7b-0b951a75548a",
   "metadata": {
    "scrolled": true
   },
   "outputs": [],
   "source": [
    "for res in y:\n",
    "    plt.plot(x, res)\n",
    "plt.semilogy()\n",
    "plt.xlabel('x')\n",
    "plt.ylabel('value')\n",
    "plt.title('comparing different l parameter')\n",
    "plt.legend(loc='best')\n",
    "plt.show()"
   ]
  },
  {
   "cell_type": "markdown",
   "id": "513e18d5-0f2f-4592-afe5-f1527fd90c37",
   "metadata": {
    "jp-MarkdownHeadingCollapsed": true
   },
   "source": [
    "###### log-log plot"
   ]
  },
  {
   "cell_type": "code",
   "execution_count": null,
   "id": "f1d60713-b6c4-4215-affa-e3216499395a",
   "metadata": {
    "scrolled": true
   },
   "outputs": [],
   "source": [
    "for res in y:\n",
    "    plt.plot(x, res)\n",
    "plt.xscale('log')\n",
    "plt.yscale('log')\n",
    "plt.xlabel('x')\n",
    "plt.ylabel('value')\n",
    "plt.title('comparing different l parameter')\n",
    "plt.legend(loc='best')\n",
    "plt.show()"
   ]
  },
  {
   "cell_type": "markdown",
   "id": "389e8540-6bf0-496b-969e-1053ea599456",
   "metadata": {
    "jp-MarkdownHeadingCollapsed": true
   },
   "source": [
    "##### epsilon parameter effect"
   ]
  },
  {
   "cell_type": "markdown",
   "id": "bd560d89-4456-4b30-96ee-adc6b0ced527",
   "metadata": {
    "jp-MarkdownHeadingCollapsed": true
   },
   "source": [
    "###### parameters"
   ]
  },
  {
   "cell_type": "code",
   "execution_count": null,
   "id": "caabe34a-a32b-4e92-a808-a8a3e44bde66",
   "metadata": {},
   "outputs": [],
   "source": [
    "epsilon_list = [0.1, 0.5, 1.0, 2.0, 5.0]\n",
    "l = 1.0"
   ]
  },
  {
   "cell_type": "markdown",
   "id": "65a12181-d42c-4e73-8547-60dd2752e210",
   "metadata": {
    "jp-MarkdownHeadingCollapsed": true
   },
   "source": [
    "###### generating values"
   ]
  },
  {
   "cell_type": "code",
   "execution_count": null,
   "id": "d140e8af-7f69-4df4-ba96-c27546ee4a2e",
   "metadata": {},
   "outputs": [],
   "source": [
    "x = np.linspace(0.0, 5.0, 1000)\n",
    "y = [eq7(l, x, e) for e in epsilon_list]"
   ]
  },
  {
   "cell_type": "markdown",
   "id": "6b907a92-324e-4958-8c26-ceb3f4ccc5b2",
   "metadata": {
    "jp-MarkdownHeadingCollapsed": true
   },
   "source": [
    "###### simple plot"
   ]
  },
  {
   "cell_type": "code",
   "execution_count": null,
   "id": "82aa2d67-a5b4-4ebb-8609-d2a47649e173",
   "metadata": {},
   "outputs": [],
   "source": [
    "for i in range(len(epsilon_list)):\n",
    "    plt.plot(x, y[i], label=f'epsilon= {epsilon_list[i]}')\n",
    "plt.xlabel('x')\n",
    "plt.ylabel('value')\n",
    "plt.title('comparing different l parameter')\n",
    "plt.legend(loc='best')\n",
    "plt.show()"
   ]
  },
  {
   "cell_type": "markdown",
   "id": "c5aec176-63da-4891-8339-d90deb3b33fb",
   "metadata": {},
   "source": [
    "###### semilog plot"
   ]
  },
  {
   "cell_type": "code",
   "execution_count": null,
   "id": "a74214c6-2bb1-493c-95be-a9e8423b312d",
   "metadata": {},
   "outputs": [],
   "source": [
    "for i in range(len(epsilon_list)):\n",
    "    plt.plot(x, y[i], label=f'epsilon= {epsilon_list[i]}')\n",
    "plt.semilogy()\n",
    "plt.xlabel('x')\n",
    "plt.ylabel('value')\n",
    "plt.title('comparing different l parameter')\n",
    "plt.legend(loc='best')\n",
    "plt.show()"
   ]
  },
  {
   "cell_type": "markdown",
   "id": "3d9389a7-b3dc-445a-8450-c2be4d91b7fc",
   "metadata": {
    "jp-MarkdownHeadingCollapsed": true
   },
   "source": [
    "###### log-log plot"
   ]
  },
  {
   "cell_type": "code",
   "execution_count": null,
   "id": "977e9653-2b6c-4581-a26d-53d065296e30",
   "metadata": {
    "scrolled": true
   },
   "outputs": [],
   "source": [
    "for i in range(len(epsilon_list)):\n",
    "    plt.plot(x, y[i], label=f'epsilon= {epsilon_list[i]}')\n",
    "plt.xscale('log')\n",
    "plt.yscale('log')\n",
    "plt.xlabel('x')\n",
    "plt.ylabel('value')\n",
    "plt.title('comparing different l parameter')\n",
    "plt.legend(loc='best')\n",
    "plt.show()"
   ]
  },
  {
   "cell_type": "markdown",
   "id": "30f58363-8eee-4488-bb69-b9a4921f3be7",
   "metadata": {
    "jp-MarkdownHeadingCollapsed": true
   },
   "source": [
    "### simulation"
   ]
  },
  {
   "cell_type": "markdown",
   "id": "585611d2-fe53-4ab0-b7f6-7992cd8ae4b1",
   "metadata": {
    "jp-MarkdownHeadingCollapsed": true
   },
   "source": [
    "###### parameters"
   ]
  },
  {
   "cell_type": "code",
   "execution_count": null,
   "id": "64f5050c-986b-4b93-84a7-a7b377b4114e",
   "metadata": {},
   "outputs": [],
   "source": [
    "largest_initial_val = 0.00001 # v in paper\n",
    "size = 10000\n",
    "epsilon = 0.03\n",
    "start_interval = 0.0\n",
    "l = 0.02\n",
    "x_axis_size = 1000"
   ]
  },
  {
   "cell_type": "markdown",
   "id": "ca62757b-efa7-4d76-8576-d096e29c3cfd",
   "metadata": {
    "jp-MarkdownHeadingCollapsed": true
   },
   "source": [
    "###### generating values"
   ]
  },
  {
   "cell_type": "code",
   "execution_count": null,
   "id": "840e55cf-c41d-48ba-a6d1-cd601f0079be",
   "metadata": {},
   "outputs": [],
   "source": [
    "initial_value_list = np.random.uniform(start_interval, largest_initial_val, size) * largest_initial_val\n",
    "result = [power_law_trajectory_explosion_time(largest_initial_val, initial_value, epsilon) for initial_value in initial_value_list]\n",
    "print(np.mean(result))\n",
    "\n",
    "l_higher = [i for i in result if i > l]"
   ]
  },
  {
   "cell_type": "markdown",
   "id": "6dcd0044-510e-4910-b43a-e9c8472d0ead",
   "metadata": {
    "jp-MarkdownHeadingCollapsed": true
   },
   "source": [
    "###### simple plot"
   ]
  },
  {
   "cell_type": "code",
   "execution_count": null,
   "id": "f5c46972-7dd9-4bc5-86f0-b63fc6f38617",
   "metadata": {
    "scrolled": true
   },
   "outputs": [],
   "source": [
    "x_axis = np.linspace(min(l_higher), max(l_higher), x_axis_size)\n",
    "probability = [sum(j > x for j in l_higher) for x in x_axis]\n",
    "probability = np.array(probability)/ len(l_higher)\n",
    "plt.plot(x_axis, probability, label='simulation value')\n",
    "plt.plot(x_axis, eq7(l, x_axis, epsilon), label='expected value')\n",
    "plt.legend(loc='best')\n",
    "plt.show()"
   ]
  },
  {
   "cell_type": "markdown",
   "id": "6dd1ed5b-699b-4f49-8fb9-70bf27458bb0",
   "metadata": {
    "jp-MarkdownHeadingCollapsed": true
   },
   "source": [
    "###### semilog plot"
   ]
  },
  {
   "cell_type": "code",
   "execution_count": null,
   "id": "9f46b731-bbbf-4ccb-b6d2-bfb3c648532f",
   "metadata": {
    "scrolled": true
   },
   "outputs": [],
   "source": [
    "plt.plot(x_axis, probability, label='simulation value')\n",
    "plt.plot(x_axis, eq7(l, x_axis, epsilon), label='expected value')\n",
    "plt.semilogy()\n",
    "plt.legend(loc='best')\n",
    "plt.show()"
   ]
  },
  {
   "cell_type": "markdown",
   "id": "fed222f3-de13-49ea-82db-8600227d9325",
   "metadata": {
    "jp-MarkdownHeadingCollapsed": true
   },
   "source": [
    "###### log-log plot"
   ]
  },
  {
   "cell_type": "code",
   "execution_count": null,
   "id": "de584914-b349-477b-b49b-935bcb0f4a97",
   "metadata": {},
   "outputs": [],
   "source": [
    "plt.plot(x_axis, probability, label='simulation value')\n",
    "plt.plot(x_axis, eq7(l, x_axis, epsilon), label='expected value')\n",
    "plt.xscale('log')\n",
    "plt.yscale('log')\n",
    "plt.legend(loc='best')\n",
    "plt.show()"
   ]
  },
  {
   "cell_type": "markdown",
   "id": "c5e3498f-0e31-43ba-b7f7-78e5e77be87f",
   "metadata": {
    "jp-MarkdownHeadingCollapsed": true
   },
   "source": [
    "# eq 8"
   ]
  },
  {
   "cell_type": "markdown",
   "id": "d19a2811-4c5a-4c2d-a2da-9a77abc73490",
   "metadata": {},
   "source": [
    "$$ln(S_r) = \\frac{1}{\\epsilon}[ln(c) - ln(r) - {\\zeta}_r]$$"
   ]
  },
  {
   "cell_type": "markdown",
   "id": "73fc1671-0465-415a-9f0d-111124ea9035",
   "metadata": {
    "jp-MarkdownHeadingCollapsed": true
   },
   "source": [
    "###### parameters"
   ]
  },
  {
   "cell_type": "code",
   "execution_count": null,
   "id": "1ced5cb5-47a7-47b3-addb-952edca132c5",
   "metadata": {},
   "outputs": [],
   "source": [
    "largest_initial_val = 0.001 # v in paper\n",
    "size = 1000\n",
    "epsilon = 1.0\n",
    "c = 0.8 # must be set manually\n",
    "start_interval = 0.99\n",
    "l = 0.019\n",
    "simulation_number = 1000"
   ]
  },
  {
   "cell_type": "markdown",
   "id": "bafd4d12-0002-4f4e-b254-c83ca477ba4f",
   "metadata": {
    "jp-MarkdownHeadingCollapsed": true
   },
   "source": [
    "###### generating values"
   ]
  },
  {
   "cell_type": "code",
   "execution_count": null,
   "id": "21eec5b3-ebee-4af6-afe3-0c3abadc102d",
   "metadata": {},
   "outputs": [],
   "source": [
    "l_counts = []\n",
    "for i in range(simulation_number):\n",
    "    initial_value_list = np.random.uniform(start_interval, largest_initial_val, size) * largest_initial_val\n",
    "\n",
    "    result = [power_law_trajectory_explosion_time(largest_initial_val, initial_value, epsilon) for initial_value in initial_value_list]\n",
    "    \n",
    "    l_counts.append(sum(j > l for j in result))\n",
    "\n",
    "results = np.sort(np.array(l_counts))[::-1]\n",
    "sr_list = np.log(results)\n",
    "right_side_plus_zeta = [(1.0/(epsilon)) * (np.log(results[i-1]) - np.log(i) ) for i in range(1, len(results)+1)]\n",
    "zeta_list = epsilon*(right_side_plus_zeta - sr_list)"
   ]
  },
  {
   "cell_type": "markdown",
   "id": "e02922b9-4e2a-476d-a64d-48526926ab08",
   "metadata": {
    "jp-MarkdownHeadingCollapsed": true
   },
   "source": [
    "##### plotting sequence"
   ]
  },
  {
   "cell_type": "markdown",
   "id": "9810f373-26ba-41bb-8213-5407822ecbe0",
   "metadata": {
    "jp-MarkdownHeadingCollapsed": true
   },
   "source": [
    "###### simple plot"
   ]
  },
  {
   "cell_type": "code",
   "execution_count": null,
   "id": "76ad67d7-553d-4faa-8b1f-1ba53eec44e0",
   "metadata": {
    "scrolled": true
   },
   "outputs": [],
   "source": [
    "plt.plot(results, 'ro')\n",
    "plt.show()"
   ]
  },
  {
   "cell_type": "markdown",
   "id": "0d64ea4e-adfb-4a23-9b7e-93dfb3d82777",
   "metadata": {
    "jp-MarkdownHeadingCollapsed": true
   },
   "source": [
    "###### semilog plot"
   ]
  },
  {
   "cell_type": "code",
   "execution_count": null,
   "id": "6ec1ef4e-50c9-4116-8037-76bc92af1f92",
   "metadata": {
    "scrolled": true
   },
   "outputs": [],
   "source": [
    "plt.plot(results, 'ro')\n",
    "plt.semilogy()\n",
    "plt.show()"
   ]
  },
  {
   "cell_type": "markdown",
   "id": "d357ce43-c2e4-4620-b4a9-f4a29dc57cc4",
   "metadata": {
    "jp-MarkdownHeadingCollapsed": true
   },
   "source": [
    "###### log-log plot"
   ]
  },
  {
   "cell_type": "code",
   "execution_count": null,
   "id": "bd935ec8-36d9-4310-8003-56dbd99f30fc",
   "metadata": {
    "scrolled": true
   },
   "outputs": [],
   "source": [
    "plt.loglog(results, 'ro')\n",
    "plt.show()"
   ]
  },
  {
   "cell_type": "markdown",
   "id": "1464fe5e-60a5-4ee1-9146-a16f5d7c45a6",
   "metadata": {},
   "source": [
    "##### plotting ${\\zeta}_r$"
   ]
  },
  {
   "cell_type": "markdown",
   "id": "a4c6aa15-2a7e-4103-946f-d726efdb4eb6",
   "metadata": {},
   "source": [
    "###### simple plot"
   ]
  },
  {
   "cell_type": "code",
   "execution_count": null,
   "id": "54d74168-1c39-4dc8-bea4-784f8cb8ba5d",
   "metadata": {},
   "outputs": [],
   "source": [
    "plt.plot(zeta_list, 'ro')\n",
    "plt.show()"
   ]
  },
  {
   "cell_type": "markdown",
   "id": "074e7064-2726-4c05-855c-c74ce2b1acd9",
   "metadata": {
    "jp-MarkdownHeadingCollapsed": true
   },
   "source": [
    "# Implemeting Our Pareto-Poisson process"
   ]
  },
  {
   "cell_type": "markdown",
   "id": "c28ce171-9a27-48cd-acad-0381f0195b53",
   "metadata": {},
   "source": [
    "Here we use formula eq3 and then put the results in eq5 in order to generate Pareto-Poisson process"
   ]
  },
  {
   "cell_type": "markdown",
   "id": "5605376d-d045-488f-b7c0-2e497332123f",
   "metadata": {
    "jp-MarkdownHeadingCollapsed": true
   },
   "source": [
    "### eq3: "
   ]
  },
  {
   "cell_type": "markdown",
   "id": "4fee59f8-8a87-4fea-b6bf-a4e1b1f366a1",
   "metadata": {},
   "source": [
    "$$X = \\frac{v}{[U^{-\\epsilon}-1]^{\\frac{1}{\\epsilon}}}$$"
   ]
  },
  {
   "cell_type": "code",
   "execution_count": null,
   "id": "6755a593-20b5-4fcf-87ae-ea73d3f2f956",
   "metadata": {},
   "outputs": [],
   "source": [
    "def equation3(U, v, epsilon):\n",
    "    return v / np.power(np.power(U, -epsilon) - 1.0 , 1.0/epsilon)"
   ]
  },
  {
   "cell_type": "markdown",
   "id": "07ca9879-a5ea-470f-a767-55d44d4e4114",
   "metadata": {
    "jp-MarkdownHeadingCollapsed": true
   },
   "source": [
    "### eq5:"
   ]
  },
  {
   "cell_type": "markdown",
   "id": "8224e0f6-faeb-4caa-9823-a726894d989b",
   "metadata": {},
   "source": [
    "$$\\lambda(x) = \\frac{c\\epsilon}{x^{1+\\epsilon}}$$"
   ]
  },
  {
   "cell_type": "code",
   "execution_count": null,
   "id": "3bb3d735-b513-4942-8bb2-16205f623e5e",
   "metadata": {},
   "outputs": [],
   "source": [
    "def equation5(data, c, epsilon):\n",
    "    return c * epsilon / np.power(data, 1.0 + epsilon)"
   ]
  },
  {
   "cell_type": "markdown",
   "id": "fb119c04-3d98-4eb4-9730-3fee7ef8b566",
   "metadata": {
    "jp-MarkdownHeadingCollapsed": true
   },
   "source": [
    "### generator"
   ]
  },
  {
   "cell_type": "code",
   "execution_count": null,
   "id": "78c68a70-35c1-4be7-ab61-cb595e517c17",
   "metadata": {},
   "outputs": [],
   "source": [
    "def generate_our_pareto_poisson(v, epsilon, c, size, should_sort=False):\n",
    "    U = np.random.uniform(0.0, 1.0, size-1) * v\n",
    "    U = np.append(U, v)\n",
    "\n",
    "    if should_sort:\n",
    "        U = np.sort(U)\n",
    "    \n",
    "    X = equation3(U, v, epsilon)\n",
    "    return equation5(X, c, epsilon)"
   ]
  },
  {
   "cell_type": "markdown",
   "id": "5aafeecf-6103-4226-9b2e-5469edf1a1ce",
   "metadata": {
    "jp-MarkdownHeadingCollapsed": true
   },
   "source": [
    "### plotting parameters effect"
   ]
  },
  {
   "cell_type": "markdown",
   "id": "43524bfb-41d9-48aa-a0df-ea5c1d71c017",
   "metadata": {
    "jp-MarkdownHeadingCollapsed": true
   },
   "source": [
    "###### parameters"
   ]
  },
  {
   "cell_type": "code",
   "execution_count": null,
   "id": "ac1afa51-1593-4fd2-90d1-3a23de309415",
   "metadata": {},
   "outputs": [],
   "source": [
    "v = .9# v in the paper\n",
    "size = 1000\n",
    "epsilon = 1.\n",
    "c = 1."
   ]
  },
  {
   "cell_type": "markdown",
   "id": "59ef8b8d-d47a-4753-9272-8742183ef416",
   "metadata": {
    "jp-MarkdownHeadingCollapsed": true
   },
   "source": [
    "###### generating values"
   ]
  },
  {
   "cell_type": "code",
   "execution_count": null,
   "id": "5e743450-d17f-427f-91c5-ac6cda532c63",
   "metadata": {},
   "outputs": [],
   "source": [
    "results = generate_our_pareto_poisson(v, epsilon, c, size, should_sort=True)"
   ]
  },
  {
   "cell_type": "markdown",
   "id": "8ee805e6-8832-4762-9b23-1e8dee9edbc9",
   "metadata": {
    "jp-MarkdownHeadingCollapsed": true
   },
   "source": [
    "##### plotting results"
   ]
  },
  {
   "cell_type": "markdown",
   "id": "75137049-bd5e-4301-90b6-9305f89e2af7",
   "metadata": {
    "jp-MarkdownHeadingCollapsed": true
   },
   "source": [
    "###### simple plot"
   ]
  },
  {
   "cell_type": "code",
   "execution_count": null,
   "id": "1ca8fa7f-5e20-4dbc-a513-c8783ae64509",
   "metadata": {
    "scrolled": true
   },
   "outputs": [],
   "source": [
    "plt.plot(results, 'ro')\n",
    "plt.title('pareto-poisson from eq3 & eq5')\n",
    "plt.ylabel('values')\n",
    "plt.show()"
   ]
  },
  {
   "cell_type": "code",
   "execution_count": null,
   "id": "39c11523-05fe-4172-b52c-73c79d7986ac",
   "metadata": {
    "scrolled": true
   },
   "outputs": [],
   "source": [
    "plt.plot(generate_our_pareto_poisson(v, epsilon, c, size, should_sort=False), 'ro')\n",
    "plt.title('pareto-poisson from eq3 & eq5')\n",
    "plt.ylabel('values')\n",
    "plt.show()"
   ]
  },
  {
   "cell_type": "markdown",
   "id": "0f002fc3-01d3-475c-b759-1890386bf8c7",
   "metadata": {
    "jp-MarkdownHeadingCollapsed": true
   },
   "source": [
    "###### semilog"
   ]
  },
  {
   "cell_type": "code",
   "execution_count": null,
   "id": "342dc4d1-85fc-49cd-b03b-ff588e65655b",
   "metadata": {
    "scrolled": true
   },
   "outputs": [],
   "source": [
    "plt.plot(results, 'ro')\n",
    "plt.title('pareto-poisson from eq3 & eq5')\n",
    "plt.ylabel('values')\n",
    "plt.semilogy()\n",
    "plt.show()"
   ]
  },
  {
   "cell_type": "markdown",
   "id": "9de37a4b-a669-4e43-a26c-cbae11e6f768",
   "metadata": {
    "jp-MarkdownHeadingCollapsed": true
   },
   "source": [
    "###### log-log"
   ]
  },
  {
   "cell_type": "code",
   "execution_count": null,
   "id": "47a491f7-67a5-406e-a6a3-2c299a9512ef",
   "metadata": {
    "scrolled": true
   },
   "outputs": [],
   "source": [
    "plt.loglog(results, 'ro')\n",
    "plt.title('pareto-poisson from eq3 & eq5')\n",
    "plt.ylabel('values')\n",
    "plt.show()"
   ]
  }
 ],
 "metadata": {
  "kernelspec": {
   "display_name": "Python 3 (ipykernel)",
   "language": "python",
   "name": "python3"
  },
  "language_info": {
   "codemirror_mode": {
    "name": "ipython",
    "version": 3
   },
   "file_extension": ".py",
   "mimetype": "text/x-python",
   "name": "python",
   "nbconvert_exporter": "python",
   "pygments_lexer": "ipython3",
   "version": "3.12.0"
  }
 },
 "nbformat": 4,
 "nbformat_minor": 5
}
