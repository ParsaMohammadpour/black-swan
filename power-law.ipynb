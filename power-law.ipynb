{
 "cells": [
  {
   "cell_type": "code",
   "execution_count": null,
   "id": "040dd3d5-81b8-4c89-a3d9-7499359a74c2",
   "metadata": {},
   "outputs": [],
   "source": [
    "import numpy as np\n",
    "import matplotlib.pyplot as plt\n",
    "import seaborn as sns\n",
    "import pandas as pd\n",
    "from matplotlib import transforms\n",
    "import scipy\n",
    "import scipy.stats as st\n",
    "from SequenceGenerator import MultiSequenceGenerator"
   ]
  },
  {
   "cell_type": "markdown",
   "id": "60cb194a-01d7-4027-803d-97412afc0912",
   "metadata": {},
   "source": [
    "# power-law"
   ]
  },
  {
   "cell_type": "markdown",
   "id": "df6d3f8d-6ad7-4b12-9d42-f805b8f36363",
   "metadata": {},
   "source": [
    "###### parameters"
   ]
  },
  {
   "cell_type": "code",
   "execution_count": null,
   "id": "f4b164e1-18e6-476e-808f-726bf4e7fcd9",
   "metadata": {},
   "outputs": [],
   "source": [
    "a = 0.65\n",
    "size = 100"
   ]
  },
  {
   "cell_type": "code",
   "execution_count": null,
   "id": "13a0a8e3-3fe1-4a2d-849e-3e0fb789a569",
   "metadata": {},
   "outputs": [],
   "source": [
    "x = np.linspace(st.powerlaw.ppf(0.01, a), st.powerlaw.ppf(0.99, a), size)\n",
    "power_law_seq = st.powerlaw.pdf(x, a)"
   ]
  },
  {
   "cell_type": "code",
   "execution_count": null,
   "id": "36091882-9f3a-49f2-b7a3-95bcfba27029",
   "metadata": {},
   "outputs": [],
   "source": [
    "print(f'std is: {np.std(power_law_seq)}')\n",
    "print(f'mean is: {np.mean(power_law_seq)}')\n",
    "print(f'var is: {np.var(power_law_seq)}')"
   ]
  },
  {
   "cell_type": "code",
   "execution_count": null,
   "id": "879caef7-87a9-4577-bfbc-e3dcead1d6d0",
   "metadata": {
    "scrolled": true
   },
   "outputs": [],
   "source": [
    "sns.displot(power_law_seq, kde=False, stat='probability')\n",
    "plt.show()\n",
    "\n",
    "sns.displot(power_law_seq, kde=True, stat='probability')\n",
    "plt.show()"
   ]
  },
  {
   "cell_type": "markdown",
   "id": "b078ccb7-4f28-47e5-8e29-e3d7a20e40c2",
   "metadata": {},
   "source": [
    "### parameter effects"
   ]
  },
  {
   "cell_type": "markdown",
   "id": "d8b4e3b8-70cf-4d03-b334-5157c0749a03",
   "metadata": {},
   "source": [
    "###### parameters"
   ]
  },
  {
   "cell_type": "code",
   "execution_count": null,
   "id": "1882ce6f-ad91-482c-b64e-ad3f46713f64",
   "metadata": {},
   "outputs": [],
   "source": [
    "a_list = [0.1, 0.3, 0.5, 0.6, 0.7, 0.9]\n",
    "size = 100"
   ]
  },
  {
   "cell_type": "code",
   "execution_count": null,
   "id": "6ddc36e7-baf6-48a0-86c4-17b02e2f1a7f",
   "metadata": {},
   "outputs": [],
   "source": [
    "x = np.linspace(st.powerlaw.ppf(0.01, a), st.powerlaw.ppf(0.99, a), size)\n",
    "\n",
    "power_law_gen = MultiSequenceGenerator(generating_function=np.random.pareto, parameter_list=a_list, column_name='a')\n",
    "\n",
    "power_law_gen.sequence = [st.powerlaw.pdf(x, a) for a in a_list]\n",
    "power_law_gen.sequence = np.transpose(np.array(power_law_gen.sequence))\n",
    "power_law_gen.generate_dataframe('a', a_list)\n",
    "power_law_gen.calculate_stats()"
   ]
  },
  {
   "cell_type": "code",
   "execution_count": null,
   "id": "7ac0d111-3425-43da-83c7-7aacbdbc58b2",
   "metadata": {
    "scrolled": true
   },
   "outputs": [],
   "source": [
    "power_law_gen.get_dataframe()"
   ]
  },
  {
   "cell_type": "markdown",
   "id": "7ecbe845-4db4-4aea-a895-7931de741b65",
   "metadata": {},
   "source": [
    "### mean, std and var"
   ]
  },
  {
   "cell_type": "code",
   "execution_count": null,
   "id": "5760d0e3-3890-42eb-bd01-04a0db33d70b",
   "metadata": {
    "scrolled": true
   },
   "outputs": [],
   "source": [
    "power_law_gen.get_stats()"
   ]
  },
  {
   "cell_type": "markdown",
   "id": "0444b820-cd8d-4290-bcf2-b3a07f2afa0d",
   "metadata": {},
   "source": [
    "### plotting parameters effect"
   ]
  },
  {
   "cell_type": "code",
   "execution_count": null,
   "id": "2e7ac195-5239-424d-a48f-c5f7a7b0728b",
   "metadata": {},
   "outputs": [],
   "source": [
    "power_law_gen.draw_plots()"
   ]
  },
  {
   "cell_type": "markdown",
   "id": "98f5b756-e4b8-4e76-bb5c-1a9a9f80d7b5",
   "metadata": {},
   "source": [
    "### plotting parameter effects on stats"
   ]
  },
  {
   "cell_type": "code",
   "execution_count": null,
   "id": "3095eaed-5da5-4e10-9a06-e1a54a1d9fb4",
   "metadata": {},
   "outputs": [],
   "source": [
    "power_law_gen.draw_stat_plots()"
   ]
  },
  {
   "cell_type": "markdown",
   "id": "34e7fbcd-c8bd-4ea5-9586-57148facd34e",
   "metadata": {},
   "source": [
    "# PDF"
   ]
  },
  {
   "cell_type": "markdown",
   "id": "8d75c701-ceb4-4ba4-8a19-df0db5475996",
   "metadata": {},
   "source": [
    "###### parameters"
   ]
  },
  {
   "cell_type": "code",
   "execution_count": null,
   "id": "821ed9b3-3f91-48c1-9303-a70c033d402e",
   "metadata": {},
   "outputs": [],
   "source": [
    "a = 0.659\n",
    "size = 100"
   ]
  },
  {
   "cell_type": "code",
   "execution_count": null,
   "id": "483b84a9-66da-4438-a42e-df1ca3f49045",
   "metadata": {},
   "outputs": [],
   "source": [
    "mean, var, skew, kurt = st.powerlaw.stats(a, moments='mvsk')\n",
    "print(f'mean: {mean}, var: {var}, skew: {skew}, kurt: {kurt}')"
   ]
  },
  {
   "cell_type": "code",
   "execution_count": null,
   "id": "e7e4f38d-65e4-4911-88be-04ece475105e",
   "metadata": {},
   "outputs": [],
   "source": [
    "x = np.linspace(st.powerlaw.ppf(0.01, a), st.powerlaw.ppf(0.99, a), size)\n",
    "plt.plot(st.powerlaw.pdf(x, a), x, 'r-', label='power-law')\n",
    "plt.xlabel('x')\n",
    "plt.ylabel('probability')\n",
    "plt.title('power-law PDF')\n",
    "plt.legend(loc='best')\n",
    "plt.show()"
   ]
  },
  {
   "cell_type": "code",
   "execution_count": null,
   "id": "45788373-5319-4eea-a5bb-226b609ca3be",
   "metadata": {},
   "outputs": [],
   "source": [
    "x = np.linspace(st.powerlaw.ppf(0.01, a), st.powerlaw.ppf(0.99, a), size)\n",
    "sns.displot(st.powerlaw.pdf(x, a), kde=True, label='powerlaw pdf')\n",
    "plt.xlabel('x')\n",
    "plt.ylabel('probability')\n",
    "plt.title('power-law PDF')\n",
    "plt.legend(loc='best')\n",
    "plt.show()"
   ]
  },
  {
   "cell_type": "markdown",
   "id": "cca54946-de72-4501-911d-3e023442f46a",
   "metadata": {},
   "source": [
    "# CDF"
   ]
  },
  {
   "cell_type": "markdown",
   "id": "22475392-7829-4866-b00a-3c003cd9a931",
   "metadata": {},
   "source": [
    "###### parameter"
   ]
  },
  {
   "cell_type": "code",
   "execution_count": null,
   "id": "f2403053-3334-4c61-8611-bc02a5dab102",
   "metadata": {},
   "outputs": [],
   "source": [
    "a = 0.65\n",
    "size = 10000"
   ]
  },
  {
   "cell_type": "code",
   "execution_count": null,
   "id": "9f97f9ef-6b4b-420e-ad8b-736ad04b9f14",
   "metadata": {},
   "outputs": [],
   "source": [
    "x = np.linspace(st.powerlaw.cdf(0.0001, a), st.powerlaw.cdf(0.999999, a), size)\n",
    "plt.plot(x, st.powerlaw.cdf(x, a), 'r-', alpha=0.6, label='powerlaw pdf')\n",
    "plt.legend(loc='best')\n",
    "plt.title('power-law CDF')\n",
    "plt.xlabel('x')\n",
    "plt.ylabel('probability')\n",
    "plt.show()"
   ]
  },
  {
   "cell_type": "code",
   "execution_count": null,
   "id": "7cb7e87c-4245-49c2-af61-4d95c5b1c7aa",
   "metadata": {},
   "outputs": [],
   "source": [
    "rv = st.powerlaw(a)\n",
    "plt.plot(x, rv.cdf(x), 'k-', label='frozen cdf')\n",
    "plt.legend(loc='best')\n",
    "plt.title('power-law CDF')\n",
    "plt.xlabel('x')\n",
    "plt.ylabel('probability')\n",
    "plt.show()"
   ]
  }
 ],
 "metadata": {
  "kernelspec": {
   "display_name": "Python 3 (ipykernel)",
   "language": "python",
   "name": "python3"
  },
  "language_info": {
   "codemirror_mode": {
    "name": "ipython",
    "version": 3
   },
   "file_extension": ".py",
   "mimetype": "text/x-python",
   "name": "python",
   "nbconvert_exporter": "python",
   "pygments_lexer": "ipython3",
   "version": "3.12.0"
  }
 },
 "nbformat": 4,
 "nbformat_minor": 5
}
