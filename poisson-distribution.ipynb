{
 "cells": [
  {
   "cell_type": "markdown",
   "id": "c4e29e69-7cd3-46c1-9667-fc4d0133951e",
   "metadata": {},
   "source": [
    "# imports"
   ]
  },
  {
   "cell_type": "code",
   "execution_count": null,
   "id": "97b596ac-e895-4b44-8adf-eb2751b4f4e0",
   "metadata": {},
   "outputs": [],
   "source": [
    "import numpy as np\n",
    "import matplotlib.pyplot as plt\n",
    "import seaborn as sns\n",
    "import pandas as pd\n",
    "from matplotlib import transforms\n",
    "import scipy\n",
    "from SequenceGenerator import MultiSequenceGenerator"
   ]
  },
  {
   "cell_type": "markdown",
   "id": "79998946-3a9c-4e63-803c-423c9849566a",
   "metadata": {},
   "source": [
    "### poisson distribution for a specific lam"
   ]
  },
  {
   "cell_type": "code",
   "execution_count": null,
   "id": "64cafb36-f215-4ed4-8270-0d5eae58de42",
   "metadata": {},
   "outputs": [],
   "source": [
    "lam = 5\n",
    "size = 1000"
   ]
  },
  {
   "cell_type": "code",
   "execution_count": null,
   "id": "e16da67f-228d-49d8-b662-4dd92b5e6faa",
   "metadata": {},
   "outputs": [],
   "source": [
    "# random.poisson(lam=1.0, size=None)\n",
    "poisson_seq = np.random.poisson(lam, size)"
   ]
  },
  {
   "cell_type": "markdown",
   "id": "8a0f764b-c59c-4a78-b92c-5ed5aed57437",
   "metadata": {},
   "source": [
    "### mean, std and var"
   ]
  },
  {
   "cell_type": "code",
   "execution_count": null,
   "id": "029bbe4a-3fa1-4325-ae19-1a2482052504",
   "metadata": {},
   "outputs": [],
   "source": [
    "print(f'std is: {np.std(poisson_seq)}')\n",
    "print(f'mean is: {np.mean(poisson_seq)}')\n",
    "print(f'var is: {np.var(poisson_seq)}')"
   ]
  },
  {
   "cell_type": "code",
   "execution_count": null,
   "id": "cf672737-e6c3-4063-b37c-90cf78ea1d15",
   "metadata": {
    "scrolled": true
   },
   "outputs": [],
   "source": [
    "sns.displot(poisson_seq, kde=True, stat='probability')\n",
    "plt.show()\n",
    "\n",
    "sns.displot(poisson_seq, kde=False, stat='probability')\n",
    "plt.show()"
   ]
  },
  {
   "cell_type": "markdown",
   "id": "f8315463-ccae-4801-807a-f266726debe8",
   "metadata": {},
   "source": [
    "# comparing different poisson distribution for different lam"
   ]
  },
  {
   "cell_type": "markdown",
   "id": "fda648cf-bd9c-4d7c-86ef-16627e94db5d",
   "metadata": {},
   "source": [
    "### parameters"
   ]
  },
  {
   "cell_type": "code",
   "execution_count": null,
   "id": "e94dbd3f-1ce4-428d-9056-95603f9eac7a",
   "metadata": {},
   "outputs": [],
   "source": [
    "size = 1000\n",
    "lams_list = [1., 1.5, 2., 2.5, 3., 3.5, 4., 5.]\n",
    "\n",
    "poisson_gen = MultiSequenceGenerator(generating_function=np.random.poisson, parameter_list=lams_list, column_name='lam')"
   ]
  },
  {
   "cell_type": "code",
   "execution_count": null,
   "id": "e6a1f2fb-57b8-4f14-9196-dc3132ec5f6b",
   "metadata": {
    "scrolled": true
   },
   "outputs": [],
   "source": [
    "poisson_gen.get_dataframe()"
   ]
  },
  {
   "cell_type": "markdown",
   "id": "f819b613-1983-48d7-be05-7c4f58b88086",
   "metadata": {},
   "source": [
    "### mean, std and var"
   ]
  },
  {
   "cell_type": "code",
   "execution_count": null,
   "id": "156233fe-548d-4b81-b273-c938ff888f01",
   "metadata": {},
   "outputs": [],
   "source": [
    "poisson_gen.get_stats()"
   ]
  },
  {
   "cell_type": "markdown",
   "id": "3445a12d-a9d6-4f8f-8de3-88fe79605205",
   "metadata": {},
   "source": [
    "### plotting parameter effects"
   ]
  },
  {
   "cell_type": "code",
   "execution_count": null,
   "id": "2f87fadf-5485-4402-adba-20fee6d59ba0",
   "metadata": {},
   "outputs": [],
   "source": [
    "poisson_gen.draw_plots()"
   ]
  },
  {
   "cell_type": "markdown",
   "id": "08c2be7d-fc96-494d-b733-97e127225bdc",
   "metadata": {},
   "source": [
    "### plotting parameters effect on stats"
   ]
  },
  {
   "cell_type": "code",
   "execution_count": null,
   "id": "35f37af1-7b07-4ec6-ac39-440f7e7c3fcc",
   "metadata": {},
   "outputs": [],
   "source": [
    "poisson_gen.draw_stat_plots()"
   ]
  },
  {
   "cell_type": "markdown",
   "id": "787748a6-a734-4e87-b8d1-6bab68658981",
   "metadata": {},
   "source": [
    "# poisson distribution pmf"
   ]
  },
  {
   "cell_type": "markdown",
   "id": "de08bf0e-75ba-4d11-b54a-efb9b4682b06",
   "metadata": {},
   "source": [
    "### parameters"
   ]
  },
  {
   "cell_type": "code",
   "execution_count": null,
   "id": "45bcfee9-d5a1-4247-aeb0-1c0d381b40af",
   "metadata": {},
   "outputs": [],
   "source": [
    "# The poisson distribution is a discrete distribution and does not have a density function. It however has a mass function\n",
    "mu_list = [0.1, 0.2, 0.3, 0.4, 0.5, 0.6, 0.7, 0.8, 0.9, 1, 5, 10, 50, 100, 1000]"
   ]
  },
  {
   "cell_type": "code",
   "execution_count": null,
   "id": "ff238523-6cf5-46b2-951a-343e3c38bd25",
   "metadata": {},
   "outputs": [],
   "source": [
    "for mu in mu_list:\n",
    "    fig, ax = plt.subplots(1, 1)\n",
    "\n",
    "    mean, var, skew, kurt = scipy.stats.poisson.stats(mu, moments='mvsk')\n",
    "    #kurt: yani hamoon keshideghi\n",
    "    print(f'mu: {mu}', f'mean: {mean}', f'var: {var}', f'skew: {skew}', f'kurt: {kurt}')\n",
    "    \n",
    "    x = np.arange(scipy.stats.poisson.ppf(0.01, mu), scipy.stats.poisson.ppf(0.99, mu))\n",
    "    ax.plot(x, scipy.stats.poisson.pmf(x, mu), 'bo', ms=8, label='poisson pmf')\n",
    "    ax.vlines(x, 0, scipy.stats.poisson.pmf(x, mu), colors='b', lw=5, alpha=0.5)\n",
    "    \n",
    "    rv = scipy.stats.poisson(mu)\n",
    "    ax.vlines(x, 0, rv.pmf(x), colors='k', linestyles='-', lw=1, label='frozen pmf')\n",
    "    ax.legend(loc='best', frameon=False)\n",
    "    plt.title(f'mu: {mu}')\n",
    "    plt.show()"
   ]
  },
  {
   "cell_type": "markdown",
   "id": "43fa2aee-505e-4ed8-941c-6fd61aad2f14",
   "metadata": {},
   "source": [
    "# comparing with normal distribution"
   ]
  },
  {
   "cell_type": "code",
   "execution_count": null,
   "id": "3838d886-a518-44d2-b99f-7e03e218360f",
   "metadata": {},
   "outputs": [],
   "source": [
    "# general\n",
    "size = 1000\n",
    "\n",
    "# poisson distribution\n",
    "lam = 50\n",
    "\n",
    "# normal\n",
    "# ye jooraee loc engar hamoon mean hast, scale ham hamoon standard deviation hast\n",
    "scale = 7 # ba in parameter, taghriban montabegh mishan. agar ino ziadesh konim, ghole miad paeen tar va monhani pahn tar mishe\n",
    "loc = lam # agar nabashan, distribution ha montabegh nemishan baraye barresi daghigh\n",
    "\n",
    "should_print = False"
   ]
  },
  {
   "cell_type": "code",
   "execution_count": null,
   "id": "97b22d2f-422b-4f6c-878d-c1780821acda",
   "metadata": {},
   "outputs": [],
   "source": [
    "normal_seq_compare = np.random.normal(loc=loc, scale=scale, size=size)\n",
    "poisson_seq_compare = np.random.poisson(lam=lam, size=size)\n",
    "\n",
    "if should_print:\n",
    "    print('normal distribution sequence: ', normal_seq_compare)\n",
    "    print('poisson distribution sequence: ', poisson_seq_compare)\n",
    "\n",
    "sns.distplot(normal_seq_compare, hist=False, label='normal')\n",
    "sns.distplot(poisson_seq_compare, hist=False, label='poisson')\n",
    "\n",
    "plt.legend(loc='best')\n",
    "plt.show()"
   ]
  },
  {
   "cell_type": "code",
   "execution_count": null,
   "id": "84a8f8fa-a856-4648-9e18-f38b501f23fe",
   "metadata": {},
   "outputs": [],
   "source": [
    "sns.distplot(normal_seq_compare, kde=False, label='normal')\n",
    "sns.distplot(poisson_seq_compare, kde=False, label='poisson')\n",
    "\n",
    "plt.legend(loc='best')\n",
    "plt.show()"
   ]
  }
 ],
 "metadata": {
  "kernelspec": {
   "display_name": "Python 3 (ipykernel)",
   "language": "python",
   "name": "python3"
  },
  "language_info": {
   "codemirror_mode": {
    "name": "ipython",
    "version": 3
   },
   "file_extension": ".py",
   "mimetype": "text/x-python",
   "name": "python",
   "nbconvert_exporter": "python",
   "pygments_lexer": "ipython3",
   "version": "3.12.0"
  }
 },
 "nbformat": 4,
 "nbformat_minor": 5
}
