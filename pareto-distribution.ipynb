{
 "cells": [
  {
   "cell_type": "code",
   "execution_count": null,
   "id": "81432137-51e9-402a-b89e-b9829e771700",
   "metadata": {},
   "outputs": [],
   "source": [
    "import numpy as np\n",
    "import matplotlib.pyplot as plt\n",
    "import seaborn as sns\n",
    "import pandas as pd\n",
    "from matplotlib import transforms\n",
    "import scipy\n",
    "from SequenceGenerator import MultiSequenceGenerator"
   ]
  },
  {
   "cell_type": "markdown",
   "id": "0e7e50c4-9dc4-4320-bd28-7d63abee41b5",
   "metadata": {},
   "source": [
    "# pareto distribution for specific a"
   ]
  },
  {
   "cell_type": "code",
   "execution_count": null,
   "id": "52a46fab-e2e5-40c0-983c-a47a305569ae",
   "metadata": {},
   "outputs": [],
   "source": [
    "size = 100\n",
    "a = 2"
   ]
  },
  {
   "cell_type": "code",
   "execution_count": null,
   "id": "bfb9cf51-3ca8-48ca-bc1f-e98a488f483f",
   "metadata": {},
   "outputs": [],
   "source": [
    "pareto_seq = np.random.pareto(a=a, size=size)"
   ]
  },
  {
   "cell_type": "markdown",
   "id": "1ca3e306-723b-47e1-91fd-29f21728dc10",
   "metadata": {},
   "source": [
    "### mean, std and var"
   ]
  },
  {
   "cell_type": "code",
   "execution_count": null,
   "id": "dcafcb40-b35b-4cd0-88b0-0b5524172c7a",
   "metadata": {},
   "outputs": [],
   "source": [
    "print(f'std is: {np.std(pareto_seq)}')\n",
    "print(f'mean is: {np.mean(pareto_seq)}')\n",
    "print(f'var is: {np.var(pareto_seq)}')"
   ]
  },
  {
   "cell_type": "code",
   "execution_count": null,
   "id": "24cddfa0-b196-4082-9d34-0e72da2c85f7",
   "metadata": {},
   "outputs": [],
   "source": [
    "sns.displot(pareto_seq, kde=False, stat='probability')\n",
    "plt.show()\n",
    "\n",
    "sns.displot(pareto_seq, kde=True, stat='probability')\n",
    "plt.show()"
   ]
  },
  {
   "cell_type": "markdown",
   "id": "76b0e136-cbf5-40bd-9be7-3a52fa87065f",
   "metadata": {},
   "source": [
    "# comparing different pareto distribution with different a"
   ]
  },
  {
   "cell_type": "markdown",
   "id": "cafa4d16-27e6-46d1-baf6-236f053739d3",
   "metadata": {},
   "source": [
    "### parameters"
   ]
  },
  {
   "cell_type": "code",
   "execution_count": null,
   "id": "2fe1b4fb-5efd-4f7c-84d7-74347d2188c4",
   "metadata": {},
   "outputs": [],
   "source": [
    "size = 100\n",
    "a_list = [1., 1.5, 2., 2.5, 3., 3.5, 4., 5.]\n",
    "\n",
    "pareto_gen = MultiSequenceGenerator(generating_function=np.random.pareto, parameter_list=a_list, column_name='a')"
   ]
  },
  {
   "cell_type": "code",
   "execution_count": null,
   "id": "8e53e3ea-dd01-4808-9095-eb6d3b45e522",
   "metadata": {
    "scrolled": true
   },
   "outputs": [],
   "source": [
    "pareto_gen.get_dataframe()"
   ]
  },
  {
   "cell_type": "markdown",
   "id": "95eef460-a3dc-4c98-9dd5-19ac7a5c4b0d",
   "metadata": {},
   "source": [
    "### mean, std and var"
   ]
  },
  {
   "cell_type": "code",
   "execution_count": null,
   "id": "3d07dcbe-56ca-4320-8c64-6c5db764d77d",
   "metadata": {
    "scrolled": true
   },
   "outputs": [],
   "source": [
    "pareto_gen.get_stats()"
   ]
  },
  {
   "cell_type": "markdown",
   "id": "171b477b-c60b-4cd8-8581-21030e4464db",
   "metadata": {},
   "source": [
    "### plotting parameter effects"
   ]
  },
  {
   "cell_type": "code",
   "execution_count": null,
   "id": "7caeb340-ba88-4d8b-b575-332f468c8873",
   "metadata": {},
   "outputs": [],
   "source": [
    "pareto_gen.draw_plots()"
   ]
  },
  {
   "cell_type": "markdown",
   "id": "95dc5072-3a54-4313-ae70-5165b2f27ce4",
   "metadata": {},
   "source": [
    "### plotting parameter effects on stats"
   ]
  },
  {
   "cell_type": "code",
   "execution_count": null,
   "id": "374c51d9-b079-4823-8721-3ec5ca116e4f",
   "metadata": {},
   "outputs": [],
   "source": [
    "pareto_gen.draw_stat_plots()"
   ]
  },
  {
   "cell_type": "markdown",
   "id": "370e5621-6567-4f5e-8871-7771a2003e6d",
   "metadata": {},
   "source": [
    "# pareto distribution PDF"
   ]
  },
  {
   "cell_type": "markdown",
   "id": "f3986d02-649e-4c5e-9f10-5ac6c06cd13a",
   "metadata": {},
   "source": [
    "### parameters"
   ]
  },
  {
   "cell_type": "code",
   "execution_count": null,
   "id": "07fdc6a6-a86f-45b0-9b6f-f22f39806af3",
   "metadata": {},
   "outputs": [],
   "source": [
    "xm = [1, 1, 1, 1, 1, 1, 1, 1, 1] # scale or beta\n",
    "alphas = [1, 1.5, 2, 2.5, 3, 3.5, 4, 4.5, 5] # shape parameters"
   ]
  },
  {
   "cell_type": "code",
   "execution_count": null,
   "id": "75368907-5de2-45e8-b831-ec483fc60801",
   "metadata": {},
   "outputs": [],
   "source": [
    "x = np.linspace(0, 5, 1000)\n",
    "output = np.array([scipy.stats.pareto.pdf(x, scale = xm[i], b = alphas[i]) for i in range(len(alphas))])\n",
    "plt.plot(x, output.T, label=[f'alpha= {alphas[i]}, beta= {xm[i]}' for i in range(len(alphas))])\n",
    "plt.title('pareto distribution PDF')\n",
    "plt.ylabel('probability density function')\n",
    "plt.xlabel('x')\n",
    "plt.legend(loc='best')\n",
    "plt.show()"
   ]
  },
  {
   "cell_type": "markdown",
   "id": "6f6e8a0b-7d73-4773-a1f3-3c429ab0abbe",
   "metadata": {},
   "source": [
    "# pareto distribution CDF"
   ]
  },
  {
   "cell_type": "code",
   "execution_count": null,
   "id": "b2507f17-aa39-4504-9447-722625f12522",
   "metadata": {},
   "outputs": [],
   "source": [
    "x = np.linspace(0, 5, 1000)\n",
    "output = np.array([scipy.stats.pareto.cdf(x, scale = xm[i], b = alphas[i]) for i in range(len(alphas))])\n",
    "plt.plot(x, output.T, label=[f'alpha= {alphas[i]}, beta= {xm[i]}' for i in range(len(alphas))])\n",
    "plt.title('pareto distribution CDF')\n",
    "plt.ylabel('cumulative probability')\n",
    "plt.xlabel('x')\n",
    "plt.legend(loc='best')\n",
    "plt.show()"
   ]
  },
  {
   "cell_type": "markdown",
   "id": "65e1c08e-4a55-4802-a1f4-1cb52f3df530",
   "metadata": {},
   "source": [
    "# comparing with normal distribution"
   ]
  },
  {
   "cell_type": "code",
   "execution_count": null,
   "id": "0f3609fe-e4bb-4c57-a540-45334609d59b",
   "metadata": {},
   "outputs": [],
   "source": [
    "# general\n",
    "size = 1000\n",
    "\n",
    "# poisson distribution\n",
    "a = 2\n",
    "\n",
    "# normal\n",
    "# ye jooraee loc engar hamoon mean hast, scale ham hamoon standard deviation hast\n",
    "scale = 3 # ba in parameter, taghriban montabegh mishan. agar ino ziadesh konim, ghole miad paeen tar va monhani pahn tar mishe\n",
    "loc = 3"
   ]
  },
  {
   "cell_type": "code",
   "execution_count": null,
   "id": "78e2025d-08d5-49c1-bfe1-1d20279c88e7",
   "metadata": {},
   "outputs": [],
   "source": [
    "normal_seq_compare = np.random.normal(loc=loc, scale=scale, size=size)\n",
    "pareto_seq_compare = np.random.pareto(a=a, size=size)\n",
    "\n",
    "sns.distplot(normal_seq_compare, hist=False, label='normal')\n",
    "sns.distplot(pareto_seq_compare, hist=False, label='pareto')\n",
    "\n",
    "plt.legend(loc='best')\n",
    "plt.show()"
   ]
  },
  {
   "cell_type": "code",
   "execution_count": null,
   "id": "d34f348a-9b1b-4a22-8087-4ab0b8f4d25c",
   "metadata": {},
   "outputs": [],
   "source": [
    "sns.distplot(normal_seq_compare, kde=False, label='normal')\n",
    "sns.distplot(pareto_seq_compare, kde=False, label='pareto')\n",
    "\n",
    "plt.legend(loc='best')\n",
    "plt.show()"
   ]
  },
  {
   "cell_type": "code",
   "execution_count": null,
   "id": "5a2d56cd-601d-4aaa-a31f-94985b3fc806",
   "metadata": {},
   "outputs": [],
   "source": [
    "sns.distplot(normal_seq_compare, kde=True, label='normal')\n",
    "sns.distplot(pareto_seq_compare, kde=True, label='pareto')\n",
    "\n",
    "plt.legend(loc='best')\n",
    "plt.show()"
   ]
  }
 ],
 "metadata": {
  "kernelspec": {
   "display_name": "Python 3 (ipykernel)",
   "language": "python",
   "name": "python3"
  },
  "language_info": {
   "codemirror_mode": {
    "name": "ipython",
    "version": 3
   },
   "file_extension": ".py",
   "mimetype": "text/x-python",
   "name": "python",
   "nbconvert_exporter": "python",
   "pygments_lexer": "ipython3",
   "version": "3.12.0"
  }
 },
 "nbformat": 4,
 "nbformat_minor": 5
}
