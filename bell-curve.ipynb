{
 "cells": [
  {
   "cell_type": "code",
   "execution_count": null,
   "id": "4afe05ce-e79e-4084-a5a2-f0312d3ec0a4",
   "metadata": {},
   "outputs": [],
   "source": [
    "import numpy as np\n",
    "import matplotlib.pyplot as plt\n",
    "import seaborn as sns\n",
    "import pandas as pd\n",
    "from matplotlib import transforms\n",
    "import scipy\n",
    "import scipy.stats as st\n",
    "from SequenceGenerator import MultiSequenceGenerator"
   ]
  },
  {
   "cell_type": "markdown",
   "id": "7d3149ef-9500-4d86-b0ff-4fc62710d419",
   "metadata": {},
   "source": [
    "# bell-curve"
   ]
  },
  {
   "cell_type": "markdown",
   "id": "2f560481-f0ba-46f5-aed8-dbbe7ddc999c",
   "metadata": {},
   "source": [
    "###### parameters"
   ]
  },
  {
   "cell_type": "code",
   "execution_count": null,
   "id": "cee84324-6e23-4d3b-9954-9841a891b801",
   "metadata": {},
   "outputs": [],
   "source": [
    "mean=0 # mean\n",
    "sd=1 "
   ]
  },
  {
   "cell_type": "code",
   "execution_count": null,
   "id": "e70bc8a5-d9cb-46b3-af3f-5d788c3be61d",
   "metadata": {},
   "outputs": [],
   "source": [
    "x = np.arange(-4, 4, 0.001)\n",
    "y = st.norm.pdf(x, mean, sd)\n",
    "\n",
    "#plt.style.use('fivethirtyeight')\n",
    "plt.plot(x,y, label=f'mean= {mean}, sd= {sd}')\n",
    "\n",
    "#specify the region of the bell curve to fill in \n",
    "x_fill = np.arange(-1, 1, 0.001)\n",
    "y_fill = st.norm.pdf(x_fill, mean, sd)\n",
    "#plt.fill_between(x_fill,y_fill, 0, alpha=0.2)\n",
    "\n",
    "plt.title('bell-curve')\n",
    "plt.xlabel('x')\n",
    "plt.ylabel('probability')\n",
    "plt.show()"
   ]
  },
  {
   "cell_type": "markdown",
   "id": "ad001d70-e4fe-4aa9-803f-41711b2ad877",
   "metadata": {},
   "source": [
    "### parameter effects"
   ]
  },
  {
   "cell_type": "markdown",
   "id": "e3010a10-fb4d-4334-97d2-00c2734d29f2",
   "metadata": {},
   "source": [
    "###### parameters"
   ]
  },
  {
   "cell_type": "code",
   "execution_count": null,
   "id": "f1903cfb-2509-42c2-8eac-152d75933214",
   "metadata": {},
   "outputs": [],
   "source": [
    "mean_list = [0, 0, 0, 0, 0]\n",
    "sd_list = [1.0, 1.5, 2.0, 3.0, 5.0]"
   ]
  },
  {
   "cell_type": "code",
   "execution_count": null,
   "id": "18d9cb80-dee9-4802-b116-95e8bbce6fd5",
   "metadata": {},
   "outputs": [],
   "source": [
    "for i in range(len(mean_list)):\n",
    "    sd = sd_list[i]\n",
    "    mean = mean_list[i]\n",
    "    \n",
    "    x = np.arange(-10, 10, 0.001)\n",
    "    y = st.norm.pdf(x, mean, sd)\n",
    "    \n",
    "    plt.plot(x,y, label=f'mean= {mean}, sd= {sd}')\n",
    "    \n",
    "    #specify the region of the bell curve to fill in \n",
    "    x_fill = np.arange(-1, 1, 0.001)\n",
    "    y_fill = st.norm.pdf(x_fill, mean, sd)\n",
    "    \n",
    "plt.title('bell-curve PDF')\n",
    "plt.xlabel('x')\n",
    "plt.ylabel('probability')\n",
    "plt.legend(loc='best')\n",
    "plt.show()"
   ]
  },
  {
   "cell_type": "code",
   "execution_count": null,
   "id": "907f4156-78cd-45f7-9397-cf212ec4666f",
   "metadata": {},
   "outputs": [],
   "source": [
    "mean_list = [0, 1, 2, 3, 4]\n",
    "sd_list = [1.5, 1.5, 1.5, 1.5, 1.5]"
   ]
  },
  {
   "cell_type": "code",
   "execution_count": null,
   "id": "8c0131be-b22a-469f-90e6-59d2af952863",
   "metadata": {},
   "outputs": [],
   "source": [
    "for i in range(len(mean_list)):\n",
    "    sd = sd_list[i]\n",
    "    mean = mean_list[i]\n",
    "    \n",
    "    x = np.arange(-10, 10, 0.001)\n",
    "    y = st.norm.pdf(x, mean, sd)\n",
    "    \n",
    "    plt.plot(x,y, label=f'mean= {mean}, sd= {sd}')\n",
    "    \n",
    "    #specify the region of the bell curve to fill in \n",
    "    x_fill = np.arange(-1, 1, 0.001)\n",
    "    y_fill = st.norm.pdf(x_fill, mean, sd)\n",
    "    \n",
    "plt.title('bell-curve PDF')\n",
    "plt.xlabel('x')\n",
    "plt.ylabel('probability')\n",
    "plt.legend(loc='best')\n",
    "plt.show()"
   ]
  },
  {
   "cell_type": "markdown",
   "id": "bc7bd969-c6dc-4351-beb7-de0cd3709979",
   "metadata": {},
   "source": [
    "### CDF"
   ]
  },
  {
   "cell_type": "markdown",
   "id": "e6182feb-137f-4d6e-a085-fb972933e175",
   "metadata": {},
   "source": [
    "###### parameters"
   ]
  },
  {
   "cell_type": "code",
   "execution_count": null,
   "id": "e4ff92d7-ea21-41d7-8d75-a8b62c7155d6",
   "metadata": {},
   "outputs": [],
   "source": [
    "size = 1000000"
   ]
  },
  {
   "cell_type": "code",
   "execution_count": null,
   "id": "ddc6b18d-4028-46bc-b3f8-44058c549de7",
   "metadata": {},
   "outputs": [],
   "source": [
    "x = np.random.randn(size) # generate samples from normal distribution (discrete data)\n",
    "norm_cdf = scipy.stats.norm.cdf(x) # calculate the cdf - also discrete\n",
    "\n",
    "# plot the cdf\n",
    "sns.lineplot(x=x, y=norm_cdf)\n",
    "plt.xlabel('x')\n",
    "plt.ylabel('probability')\n",
    "plt.title('bell-curve CDF')\n",
    "plt.show()"
   ]
  }
 ],
 "metadata": {
  "kernelspec": {
   "display_name": "Python 3 (ipykernel)",
   "language": "python",
   "name": "python3"
  },
  "language_info": {
   "codemirror_mode": {
    "name": "ipython",
    "version": 3
   },
   "file_extension": ".py",
   "mimetype": "text/x-python",
   "name": "python",
   "nbconvert_exporter": "python",
   "pygments_lexer": "ipython3",
   "version": "3.12.0"
  }
 },
 "nbformat": 4,
 "nbformat_minor": 5
}
