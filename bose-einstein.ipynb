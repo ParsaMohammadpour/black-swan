{
 "cells": [
  {
   "cell_type": "markdown",
   "id": "8745137b-0532-461f-955d-82b90213e7d2",
   "metadata": {
    "jp-MarkdownHeadingCollapsed": true
   },
   "source": [
    "###### imports"
   ]
  },
  {
   "cell_type": "code",
   "execution_count": null,
   "id": "d1c36c3c-a8d7-4174-87fe-6d61596f2645",
   "metadata": {},
   "outputs": [],
   "source": [
    "import numpy as np\n",
    "import matplotlib.pyplot as plt\n",
    "import seaborn as sns\n",
    "import pandas as pd\n",
    "from matplotlib import transforms\n",
    "import scipy\n",
    "import scipy.stats as st\n",
    "from SequenceGenerator import MultiSequenceGenerator\n",
    "from scipy.integrate import odeint\n",
    "import networkx as nx\n",
    "import random\n",
    "import matplotlib.colors as mcolors\n",
    "import matplotlib.cm as cm"
   ]
  },
  {
   "cell_type": "markdown",
   "id": "3d4c9720-1651-4323-a08e-523af7d6c11e",
   "metadata": {
    "jp-MarkdownHeadingCollapsed": true
   },
   "source": [
    "#  Bose-Einstein"
   ]
  },
  {
   "cell_type": "markdown",
   "id": "1e595fb1-40eb-4520-ae34-c951cea9dcf5",
   "metadata": {},
   "source": [
    "A fitness distribution that leads to a Bose-Einstein condensation is:\n",
    "$${\\rho}({\\eta}) = (1 + {\\zeta}) (1 - {\\eta})^{\\zeta}$$"
   ]
  },
  {
   "cell_type": "markdown",
   "id": "165731fd-f215-4396-8e75-bb66de20d203",
   "metadata": {
    "jp-MarkdownHeadingCollapsed": true
   },
   "source": [
    "## distribution"
   ]
  },
  {
   "cell_type": "markdown",
   "id": "7b75d351-ddca-4c5b-af88-78c1c37d5566",
   "metadata": {
    "jp-MarkdownHeadingCollapsed": true
   },
   "source": [
    "### implementation"
   ]
  },
  {
   "cell_type": "code",
   "execution_count": null,
   "id": "049ba5fd-00a0-487e-b6fe-8dada228b33f",
   "metadata": {},
   "outputs": [],
   "source": [
    "def distribution(eta, zeta): # eta is the input, like x\n",
    "    return (1.0 + zeta) * np.power(1.0 - eta, zeta)"
   ]
  },
  {
   "cell_type": "markdown",
   "id": "ec77c305-397f-487c-80c2-e0e9057a0bd2",
   "metadata": {},
   "source": [
    "### zeta parameter effect"
   ]
  },
  {
   "cell_type": "markdown",
   "id": "6a4d8205-d96f-46f9-86b5-427ea10629c5",
   "metadata": {
    "jp-MarkdownHeadingCollapsed": true
   },
   "source": [
    "###### parameters"
   ]
  },
  {
   "cell_type": "code",
   "execution_count": null,
   "id": "e639b3e1-91d8-48dc-bfd9-898be69d3bad",
   "metadata": {},
   "outputs": [],
   "source": [
    "interval = (0.0, 1.0)\n",
    "sample_number = 100\n",
    "zeta_list = [0.1, 10.0]"
   ]
  },
  {
   "cell_type": "markdown",
   "id": "92633c2e-0b90-48bf-b564-1aa717fcce4a",
   "metadata": {
    "jp-MarkdownHeadingCollapsed": true
   },
   "source": [
    "###### generating values"
   ]
  },
  {
   "cell_type": "code",
   "execution_count": null,
   "id": "a5707515-b4c2-47d3-afaa-98142138b317",
   "metadata": {},
   "outputs": [],
   "source": [
    "x = np.linspace(interval[0], interval[1], sample_number)\n",
    "\n",
    "y = np.array([distribution(x, zeta) for zeta in zeta_list])"
   ]
  },
  {
   "cell_type": "markdown",
   "id": "a46a1b9b-3011-478d-9a31-3d0e89ac1fc0",
   "metadata": {
    "jp-MarkdownHeadingCollapsed": true
   },
   "source": [
    "##### plotting results"
   ]
  },
  {
   "cell_type": "markdown",
   "id": "fe03319a-a72c-4d67-ab23-7270e6d92611",
   "metadata": {
    "jp-MarkdownHeadingCollapsed": true
   },
   "source": [
    "###### seaborn"
   ]
  },
  {
   "cell_type": "code",
   "execution_count": null,
   "id": "b8c3addc-218a-4c66-bb34-4705db1ed5d5",
   "metadata": {},
   "outputs": [],
   "source": [
    "for i in range(len(zeta_list)):\n",
    "    sns.displot(y[i], kde=True, stat='probability')\n",
    "    plt.title(f'zeta= {zeta_list[i]}')\n",
    "    plt.legend(loc='best')\n",
    "    plt.show()"
   ]
  },
  {
   "cell_type": "markdown",
   "id": "9fc2255f-8a11-48bb-bb4b-d46696d1fa43",
   "metadata": {
    "jp-MarkdownHeadingCollapsed": true
   },
   "source": [
    "###### simple plot"
   ]
  },
  {
   "cell_type": "code",
   "execution_count": null,
   "id": "a354c741-6ab5-40c4-a58d-6a0d4ce702cb",
   "metadata": {
    "scrolled": true
   },
   "outputs": [],
   "source": [
    "for i in range(len(zeta_list)):\n",
    "    plt.plot(x, y[i], label=f'zeta= {zeta_list[i]}')\n",
    "plt.title('zeta effect')\n",
    "plt.legend(loc='best')\n",
    "plt.show()"
   ]
  },
  {
   "cell_type": "markdown",
   "id": "50fd1bea-91b1-4e43-83e4-13cd1cac4369",
   "metadata": {
    "jp-MarkdownHeadingCollapsed": true
   },
   "source": [
    "###### semilog plot"
   ]
  },
  {
   "cell_type": "code",
   "execution_count": null,
   "id": "d176d65b-8c90-4e05-bec5-dc1a2b58a65e",
   "metadata": {},
   "outputs": [],
   "source": [
    "for i in range(len(zeta_list)):\n",
    "    plt.plot(x, y[i], label=f'zeta= {zeta_list[i]}')\n",
    "plt.title('zeta effect')\n",
    "plt.legend(loc='best')\n",
    "plt.semilogy()\n",
    "plt.show()"
   ]
  },
  {
   "cell_type": "markdown",
   "id": "2b8d35ab-8a03-4c3d-ba85-192f1546097b",
   "metadata": {
    "jp-MarkdownHeadingCollapsed": true
   },
   "source": [
    "###### log-log plot"
   ]
  },
  {
   "cell_type": "code",
   "execution_count": null,
   "id": "67857dc4-5d52-4262-b8b4-2889db51691c",
   "metadata": {},
   "outputs": [],
   "source": [
    "for i in range(len(zeta_list)):\n",
    "    plt.plot(x, y[i], label=f'zeta= {zeta_list[i]}')\n",
    "plt.title('zeta effect')\n",
    "plt.legend(loc='best')\n",
    "plt.xscale('log')\n",
    "plt.yscale('log')\n",
    "plt.show()"
   ]
  },
  {
   "cell_type": "markdown",
   "id": "16ac90d9-972a-4976-8d64-76ed643ba16d",
   "metadata": {
    "jp-MarkdownHeadingCollapsed": true
   },
   "source": [
    "## Bose-Einstein implementation"
   ]
  },
  {
   "cell_type": "markdown",
   "id": "3b6c0107-3a30-49a5-abcf-0dbec87bec98",
   "metadata": {
    "jp-MarkdownHeadingCollapsed": true
   },
   "source": [
    "### implementation"
   ]
  },
  {
   "cell_type": "code",
   "execution_count": null,
   "id": "da951cd9-f728-4e14-b8d4-c62edb413cb7",
   "metadata": {},
   "outputs": [],
   "source": [
    "class BoseEinstein():\n",
    "    def draw_graph_for_time_slot(self, step_number):\n",
    "        print(f'step number: {step_number}')\n",
    "        fig = plt.figure(figsize=(50, 50))\n",
    "        degrees = np.array([self.graph.degree(n) for n in self.graph.nodes()])\n",
    "        node_size = degrees*100\n",
    "        \n",
    "        pos=nx.spring_layout(self.graph)\n",
    "        cmap=plt.cm.viridis\n",
    "        \n",
    "        nodes = nx.draw_networkx_nodes(self.graph, pos, node_size=node_size, node_color=node_size, cmap=cmap)\n",
    "        edges = nx.draw_networkx_edges(self.graph, pos)\n",
    "        \n",
    "        plt.colorbar(nodes)\n",
    "        plt.axis('off')\n",
    "        plt.title(f'step number: {step_number}')\n",
    "        plt.show()\n",
    "        \n",
    "    \n",
    "    def append_nodes(self):\n",
    "        time_intervals = int(self.step_number/self.time_slot_number)\n",
    "        time_slots = list(range(time_intervals, self.step_number+1, time_intervals))\n",
    "        \n",
    "        for new_node in range(self.initial_node_number+1, self.step_number+self.initial_node_number+1):\n",
    "            degrees = [val for (node, val) in sorted(self.graph.degree(), key=lambda pair: pair[0])]\n",
    "            summation = np.sum([self.fitness[i]*degrees[i] for i in range(len(degrees))])\n",
    "            probabilities = [(self.fitness[i]*degrees[i])/summation for i in range(len(degrees))]\n",
    "            probabilities_cum = np.cumsum(probabilities)\n",
    "            interval_max = probabilities_cum[len(probabilities_cum) - 1]\n",
    "            \n",
    "            self.graph.add_node(new_node)\n",
    "            \n",
    "            for _ in range(self.new_node_link):\n",
    "                random_number = np.random.uniform(0.0, interval_max)\n",
    "                connected_node = sum(i < random_number for i in probabilities_cum) + 1 # pluse one is because node numbers starts from 1 not zero\n",
    "                self.graph.add_edge(new_node, connected_node)\n",
    "\n",
    "            step_number = new_node - (self.initial_node_number+1)\n",
    "            if (step_number in time_slots):\n",
    "                self.draw_graph_for_time_slot(step_number)\n",
    "    \n",
    "    def __init__(self, initial_node_number=3, step_number=100, new_node_link=3, fitness=[], time_slot_number=10):\n",
    "        self.initial_node_number=initial_node_number\n",
    "        self.step_number=step_number\n",
    "        self.new_node_link=new_node_link\n",
    "        self.time_slot_number = time_slot_number\n",
    "        self.fitness = fitness\n",
    "        self.graph = nx.complete_graph(self.initial_node_number+1)\n",
    "        self.graph.remove_node(0)\n",
    "        self.append_nodes()\n",
    "        self.set_degree_distribution()\n",
    "\n",
    "    def set_degree_distribution(self):\n",
    "        self.degree_distribution = np.array([self.graph.degree(n) for n in self.graph.nodes()])\n",
    "        self.degree_distribution = np.sort(self.degree_distribution)[::-1]\n",
    "\n",
    "    def draw_degree_distribution(self):\n",
    "        sns.displot(self.degree_distribution, kde=True)\n",
    "        plt.title('degree distribution')\n",
    "        plt.xlabel('degree')\n",
    "        plt.ylabel('occurance of each degree')\n",
    "        plt.show()\n",
    "\n",
    "        sns.displot(self.degree_distribution, kde=True)\n",
    "        plt.title('degree distribution semilog')\n",
    "        plt.xlabel('degree')\n",
    "        plt.ylabel('occurance of each degree')\n",
    "        plt.semilogy()\n",
    "        plt.show()\n",
    "\n",
    "        sns.displot(self.degree_distribution, kde=True)\n",
    "        plt.title('degree distribution log-log')\n",
    "        plt.xlabel('degree')\n",
    "        plt.ylabel('occurance of each degree')\n",
    "        plt.xscale('log')\n",
    "        plt.yscale('log')\n",
    "        plt.show()\n",
    "\n",
    "    def draw_graph(self):\n",
    "        fig = plt.figure(figsize=(50, 50))\n",
    "        node_size = np.array([self.graph.degree(n) for n in self.graph.nodes()]) * 100\n",
    "        \n",
    "        pos=nx.spring_layout(self.graph)\n",
    "        cmap=plt.cm.viridis\n",
    "        \n",
    "        nodes = nx.draw_networkx_nodes(self.graph, pos, node_size=node_size, node_color=node_size, cmap=cmap)\n",
    "        edges = nx.draw_networkx_edges(self.graph, pos)\n",
    "        \n",
    "        plt.colorbar(nodes)\n",
    "        plt.axis('off')\n",
    "        plt.show()"
   ]
  },
  {
   "cell_type": "markdown",
   "id": "843e1c6b-5ea8-4478-b46d-7edc5d77be05",
   "metadata": {
    "jp-MarkdownHeadingCollapsed": true
   },
   "source": [
    "### simulation"
   ]
  },
  {
   "cell_type": "markdown",
   "id": "a0aa6dfd-bc92-4ba0-85c6-04ce5adffb58",
   "metadata": {
    "jp-MarkdownHeadingCollapsed": true
   },
   "source": [
    "#### simulation for general ${\\zeta}$   (limiting to see star-like hub-and-spoke topology)"
   ]
  },
  {
   "cell_type": "markdown",
   "id": "f39936e9-6fc7-48dd-af59-505f400c2740",
   "metadata": {
    "jp-MarkdownHeadingCollapsed": true
   },
   "source": [
    "###### parameters"
   ]
  },
  {
   "cell_type": "code",
   "execution_count": null,
   "id": "3e99de8e-1a7b-4f75-8b66-c65072cbd571",
   "metadata": {},
   "outputs": [],
   "source": [
    "initial_node_number=3\n",
    "step_number=1000\n",
    "new_node_link=3\n",
    "zeta = 1000.0\n",
    "\n",
    "interval = (0.0, 1.0)\n",
    "sample_number = step_number + initial_node_number\n",
    "\n",
    "x = np.linspace(interval[0], interval[1], sample_number)\n",
    "\n",
    "fitness = np.array(distribution(x, zeta))"
   ]
  },
  {
   "cell_type": "markdown",
   "id": "8d42d8f2-9651-44db-aa12-b835d0120141",
   "metadata": {
    "jp-MarkdownHeadingCollapsed": true
   },
   "source": [
    "###### generating values"
   ]
  },
  {
   "cell_type": "code",
   "execution_count": null,
   "id": "e76f4173-1c87-47db-9312-5eee61c73b21",
   "metadata": {},
   "outputs": [],
   "source": [
    "g_holder = BoseEinstein(initial_node_number=initial_node_number, step_number=step_number, new_node_link=new_node_link, fitness=fitness)"
   ]
  },
  {
   "cell_type": "markdown",
   "id": "88195b7a-8aa7-46ff-b467-f6acd628b714",
   "metadata": {
    "jp-MarkdownHeadingCollapsed": true
   },
   "source": [
    "##### drawing plots"
   ]
  },
  {
   "cell_type": "markdown",
   "id": "360447ce-a4ca-4aa3-a7d8-246a689be563",
   "metadata": {
    "jp-MarkdownHeadingCollapsed": true
   },
   "source": [
    "###### degree distribution"
   ]
  },
  {
   "cell_type": "code",
   "execution_count": null,
   "id": "fa4a682d-6fa9-44d8-8b20-5aa2cadbaca3",
   "metadata": {
    "scrolled": true
   },
   "outputs": [],
   "source": [
    "g_holder.draw_degree_distribution()"
   ]
  },
  {
   "cell_type": "markdown",
   "id": "17d2e86f-01f7-45c8-89fd-f3b13ad24b74",
   "metadata": {
    "jp-MarkdownHeadingCollapsed": true
   },
   "source": [
    "###### drawing graph"
   ]
  },
  {
   "cell_type": "code",
   "execution_count": null,
   "id": "80980969-7798-4d0b-b845-1bbecc74c2c8",
   "metadata": {
    "scrolled": true
   },
   "outputs": [],
   "source": [
    "g_holder.draw_graph()"
   ]
  },
  {
   "cell_type": "markdown",
   "id": "8ec5a087-194c-4ba2-b6a4-18b0e2e3b6a7",
   "metadata": {
    "jp-MarkdownHeadingCollapsed": true
   },
   "source": [
    "#### ${\\zeta} = 10$"
   ]
  },
  {
   "cell_type": "markdown",
   "id": "7a247044-00f6-4e54-ac81-8f673c2bf075",
   "metadata": {
    "jp-MarkdownHeadingCollapsed": true
   },
   "source": [
    "###### parameters"
   ]
  },
  {
   "cell_type": "code",
   "execution_count": null,
   "id": "96a45e03-5a88-4008-8cb2-712958fa7568",
   "metadata": {
    "scrolled": true
   },
   "outputs": [],
   "source": [
    "initial_node_number=3\n",
    "step_number=1000\n",
    "new_node_link=3\n",
    "zeta = 10.0\n",
    "\n",
    "interval = (0.0, 1.0)\n",
    "sample_number = step_number + initial_node_number\n",
    "\n",
    "x = np.linspace(interval[0], interval[1], sample_number)\n",
    "\n",
    "fitness = np.array(distribution(x, zeta))"
   ]
  },
  {
   "cell_type": "markdown",
   "id": "010ba7b9-76fd-4e7b-a865-3cfe0c37646f",
   "metadata": {
    "jp-MarkdownHeadingCollapsed": true
   },
   "source": [
    "###### generating values"
   ]
  },
  {
   "cell_type": "code",
   "execution_count": null,
   "id": "8904a34a-c224-4c06-8a33-bbf1a2af79da",
   "metadata": {},
   "outputs": [],
   "source": [
    "g_holder = BoseEinstein(initial_node_number=initial_node_number, step_number=step_number, new_node_link=new_node_link, fitness=fitness)"
   ]
  },
  {
   "cell_type": "markdown",
   "id": "8b19bad7-315b-46f2-ac93-20172bdb7760",
   "metadata": {
    "jp-MarkdownHeadingCollapsed": true
   },
   "source": [
    "##### drawing plots"
   ]
  },
  {
   "cell_type": "markdown",
   "id": "5fef16c5-9d0a-4fdb-96da-4958f5e59f0c",
   "metadata": {
    "jp-MarkdownHeadingCollapsed": true
   },
   "source": [
    "###### degree distribution"
   ]
  },
  {
   "cell_type": "code",
   "execution_count": null,
   "id": "53dd1ced-4993-4df6-b450-80de09ac6be0",
   "metadata": {
    "scrolled": true
   },
   "outputs": [],
   "source": [
    "g_holder.draw_degree_distribution()"
   ]
  },
  {
   "cell_type": "markdown",
   "id": "2219dd93-1747-4b4e-a06d-19b8b55e761c",
   "metadata": {
    "jp-MarkdownHeadingCollapsed": true
   },
   "source": [
    "###### draw graph"
   ]
  },
  {
   "cell_type": "code",
   "execution_count": null,
   "id": "f6f915db-604e-48de-b370-2ebd0bce8e1c",
   "metadata": {
    "scrolled": true
   },
   "outputs": [],
   "source": [
    "g_holder.draw_graph()"
   ]
  },
  {
   "cell_type": "markdown",
   "id": "06f976e7-a80d-47be-b734-85498cee726e",
   "metadata": {
    "jp-MarkdownHeadingCollapsed": true
   },
   "source": [
    "#### ${\\zeta} = 0.1$"
   ]
  },
  {
   "cell_type": "markdown",
   "id": "4e399323-f847-48a5-b305-ed5f21ca0614",
   "metadata": {
    "jp-MarkdownHeadingCollapsed": true
   },
   "source": [
    "###### parameters"
   ]
  },
  {
   "cell_type": "code",
   "execution_count": null,
   "id": "663772be-6a18-4070-ba90-4407be986d17",
   "metadata": {},
   "outputs": [],
   "source": [
    "initial_node_number1=3\n",
    "step_number1=1000\n",
    "new_node_link1=3\n",
    "zeta1 = 1.0\n",
    "\n",
    "interval1 = (0.0, 1.0)\n",
    "sample_number1 = step_number1 + initial_node_number1\n",
    "\n",
    "x1 = np.linspace(interval1[0], interval1[1], sample_number1)\n",
    "\n",
    "fitness1 = np.array(distribution(x1, zeta1))"
   ]
  },
  {
   "cell_type": "markdown",
   "id": "bf7059fd-b76a-4480-91e5-54bfc7a00109",
   "metadata": {
    "jp-MarkdownHeadingCollapsed": true
   },
   "source": [
    "###### generating values"
   ]
  },
  {
   "cell_type": "code",
   "execution_count": null,
   "id": "249133d4-3107-4123-9ba8-d5556e6ae55c",
   "metadata": {},
   "outputs": [],
   "source": [
    "g_holder1 = BoseEinstein(initial_node_number=initial_node_number1, step_number=step_number1, new_node_link=new_node_link1, fitness=fitness1)"
   ]
  },
  {
   "cell_type": "markdown",
   "id": "37edd42b-a4dc-4770-b469-1e5044e49bc3",
   "metadata": {
    "jp-MarkdownHeadingCollapsed": true
   },
   "source": [
    "##### plotting results"
   ]
  },
  {
   "cell_type": "markdown",
   "id": "6929a556-3e61-4006-80bc-56ccc9b4c57c",
   "metadata": {
    "jp-MarkdownHeadingCollapsed": true
   },
   "source": [
    "###### degree distribution"
   ]
  },
  {
   "cell_type": "code",
   "execution_count": null,
   "id": "b87fb9f7-a498-415f-82f3-4b16ca2fea32",
   "metadata": {
    "scrolled": true
   },
   "outputs": [],
   "source": [
    "g_holder1.draw_degree_distribution()"
   ]
  },
  {
   "cell_type": "markdown",
   "id": "e128d85e-aad9-43e9-b973-605407f5362c",
   "metadata": {
    "jp-MarkdownHeadingCollapsed": true
   },
   "source": [
    "###### draw graph"
   ]
  },
  {
   "cell_type": "code",
   "execution_count": null,
   "id": "ccb1b4ee-e463-4157-850b-075dcbdaa582",
   "metadata": {},
   "outputs": [],
   "source": [
    "g_holder1.draw_graph()"
   ]
  },
  {
   "cell_type": "markdown",
   "id": "e5233f97-2472-4533-a328-cb532e2976b5",
   "metadata": {
    "jp-MarkdownHeadingCollapsed": true
   },
   "source": [
    "#### comparison between $\\zeta$ = 10.0, 10"
   ]
  },
  {
   "cell_type": "markdown",
   "id": "233a04bb-a193-413d-b00c-a73a3d08086c",
   "metadata": {
    "jp-MarkdownHeadingCollapsed": true
   },
   "source": [
    "###### simple plot"
   ]
  },
  {
   "cell_type": "code",
   "execution_count": null,
   "id": "b5cec001-2f98-4d16-90a1-d3876925dfb1",
   "metadata": {
    "scrolled": true
   },
   "outputs": [],
   "source": [
    "plt.plot(g_holder.degree_distribution, label='zeta=10.0')\n",
    "plt.plot(g_holder1.degree_distribution, label='zeta=1.0')\n",
    "plt.ylabel('degree')\n",
    "plt.legend(loc='best')\n",
    "plt.show()"
   ]
  },
  {
   "cell_type": "code",
   "execution_count": null,
   "id": "c721a11f-63f9-494c-9158-7534d9ace416",
   "metadata": {
    "scrolled": true
   },
   "outputs": [],
   "source": [
    "plt.hist(g_holder.degree_distribution, label='zeta=10.0')\n",
    "plt.hist(g_holder1.degree_distribution, label='zeta=1.0')\n",
    "plt.ylabel('degree')\n",
    "plt.legend(loc='best')\n",
    "plt.show()"
   ]
  },
  {
   "cell_type": "code",
   "execution_count": null,
   "id": "b50f6941-d65b-4446-9a45-8c9750fe08d7",
   "metadata": {
    "scrolled": true
   },
   "outputs": [],
   "source": [
    "degree_freq = nx.degree_histogram(g_holder.graph)\n",
    "degrees = range(len(degree_freq))\n",
    "plt.plot(degrees, degree_freq,'o-', label='zeta=10.0') \n",
    "\n",
    "degree_freq = nx.degree_histogram(g_holder1.graph)\n",
    "degrees = range(len(degree_freq))\n",
    "plt.plot(degrees, degree_freq,'o-', label='zeta=1.0') \n",
    "\n",
    "plt.xlabel('Degree')\n",
    "plt.ylabel('Frequency')\n",
    "plt.legend(loc='best')\n",
    "plt.show()"
   ]
  },
  {
   "cell_type": "markdown",
   "id": "69a3842b-ac00-48b8-b555-296e8af63d65",
   "metadata": {
    "jp-MarkdownHeadingCollapsed": true
   },
   "source": [
    "###### semilog plot"
   ]
  },
  {
   "cell_type": "code",
   "execution_count": null,
   "id": "8ab1767a-b7f1-42f4-91a0-3d094b323e6b",
   "metadata": {
    "scrolled": true
   },
   "outputs": [],
   "source": [
    "plt.plot(g_holder.degree_distribution, label='zeta=10.0')\n",
    "plt.plot(g_holder1.degree_distribution, label='zeta=1.0')\n",
    "plt.legend(loc='best')\n",
    "plt.semilogy()\n",
    "plt.show()"
   ]
  },
  {
   "cell_type": "markdown",
   "id": "497bc25b-d05f-4714-ae7b-673c90d2b178",
   "metadata": {
    "jp-MarkdownHeadingCollapsed": true
   },
   "source": [
    "###### log-log"
   ]
  },
  {
   "cell_type": "code",
   "execution_count": null,
   "id": "7c8162af-66a4-4734-9213-e6f15d001129",
   "metadata": {},
   "outputs": [],
   "source": [
    "plt.plot(g_holder.degree_distribution, label='zeta=10.0')\n",
    "plt.plot(g_holder1.degree_distribution, label='zeta=1.0')\n",
    "plt.ylabel('degree')\n",
    "plt.legend(loc='best')\n",
    "plt.xscale('log')\n",
    "plt.yscale('log')\n",
    "plt.show()"
   ]
  },
  {
   "cell_type": "code",
   "execution_count": null,
   "id": "320b1cc1-ae1a-41f6-bc5c-46e4f5acb7a8",
   "metadata": {
    "scrolled": true
   },
   "outputs": [],
   "source": [
    "degree_freq = nx.degree_histogram(g_holder.graph)\n",
    "degrees = range(len(degree_freq))\n",
    "plt.loglog(degrees, degree_freq,'o-', label='zeta=10.0') \n",
    "\n",
    "degree_freq = nx.degree_histogram(g_holder1.graph)\n",
    "degrees = range(len(degree_freq))\n",
    "plt.loglog(degrees, degree_freq,'o-', label='zeta=1.0') \n",
    "\n",
    "plt.xlabel('Degree')\n",
    "plt.ylabel('Frequency')\n",
    "plt.legend(loc='best')\n",
    "plt.show()"
   ]
  },
  {
   "cell_type": "markdown",
   "id": "9cd4e276-a8fe-4cbc-8605-5190da0345a7",
   "metadata": {
    "jp-MarkdownHeadingCollapsed": true
   },
   "source": [
    "#### comparison for general $\\zeta$"
   ]
  },
  {
   "cell_type": "markdown",
   "id": "10f27757-2f0a-4959-99ec-1a614769d829",
   "metadata": {
    "jp-MarkdownHeadingCollapsed": true
   },
   "source": [
    "###### parameters"
   ]
  },
  {
   "cell_type": "code",
   "execution_count": null,
   "id": "8f10355e-5232-42c4-86ef-ed9bd5a25619",
   "metadata": {},
   "outputs": [],
   "source": [
    "initial_node_number=3\n",
    "step_number=100\n",
    "new_node_link=3\n",
    "zeta_list = [5.0, 2.0, 0.2, 0.1]\n",
    "\n",
    "interval = (0.0, 1.0)\n",
    "sample_number = step_number + initial_node_number\n",
    "\n",
    "x = np.linspace(interval[0], interval[1], sample_number)\n",
    "\n",
    "fitness_list = [np.array(distribution(x, zeta)) for zeta in zeta_list]"
   ]
  },
  {
   "cell_type": "markdown",
   "id": "61c79a7b-5386-4c0e-a340-82fd7cc1376b",
   "metadata": {
    "jp-MarkdownHeadingCollapsed": true
   },
   "source": [
    "###### generating values"
   ]
  },
  {
   "cell_type": "code",
   "execution_count": null,
   "id": "c1028f6e-ca9d-45e6-8642-3012f253c07e",
   "metadata": {},
   "outputs": [],
   "source": [
    "g_holder_list = [BoseEinstein(initial_node_number=initial_node_number, step_number=step_number, new_node_link=new_node_link, fitness=fitness) for fitness in fitness_list]"
   ]
  },
  {
   "cell_type": "markdown",
   "id": "7affb874-b399-4d0b-bdf4-f0576ab2cd94",
   "metadata": {
    "jp-MarkdownHeadingCollapsed": true
   },
   "source": [
    "###### simple plot"
   ]
  },
  {
   "cell_type": "code",
   "execution_count": null,
   "id": "c6be6eab-c48e-44d4-96ed-25f0ae61482b",
   "metadata": {
    "scrolled": true
   },
   "outputs": [],
   "source": [
    "for i in range(len(zeta_list)):\n",
    "    plt.plot(g_holder_list[i].degree_distribution, label=f'zeta={zeta_list[i]}')\n",
    "plt.ylabel('degree')\n",
    "plt.legend(loc='best')\n",
    "plt.show()"
   ]
  },
  {
   "cell_type": "code",
   "execution_count": null,
   "id": "83d3a72e-4186-4186-835c-383b95a6dff6",
   "metadata": {
    "scrolled": true
   },
   "outputs": [],
   "source": [
    "for i in range(len(zeta_list)):\n",
    "    plt.hist(g_holder_list[i].degree_distribution, label=f'zeta={zeta_list[i]}')\n",
    "plt.legend(loc='best')\n",
    "plt.ylabel('degree')\n",
    "plt.show()"
   ]
  },
  {
   "cell_type": "code",
   "execution_count": null,
   "id": "c0cd4483-c5cc-41a2-a6af-b0c3dc194cbf",
   "metadata": {
    "scrolled": true
   },
   "outputs": [],
   "source": [
    "for i in range(len(zeta_list)):\n",
    "    degree_freq = nx.degree_histogram(g_holder_list[i].graph)\n",
    "    degrees = range(len(degree_freq))\n",
    "    plt.plot(degrees, degree_freq,'o-', label=f'zeta={zeta_list[i]}')\n",
    "\n",
    "plt.xlabel('Degree')\n",
    "plt.ylabel('Frequency')\n",
    "plt.legend(loc='best')\n",
    "plt.show()"
   ]
  },
  {
   "cell_type": "markdown",
   "id": "69da6823-9be9-4d2f-b89a-84293e7ac237",
   "metadata": {
    "jp-MarkdownHeadingCollapsed": true
   },
   "source": [
    "###### semilog"
   ]
  },
  {
   "cell_type": "code",
   "execution_count": null,
   "id": "25967b0c-03c0-46bc-a8b2-d73512a3beef",
   "metadata": {},
   "outputs": [],
   "source": [
    "for i in range(len(zeta_list)):\n",
    "    plt.plot(g_holder_list[i].degree_distribution, label=f'zeta={zeta_list[i]}')\n",
    "plt.legend(loc='best')\n",
    "plt.semilogy()\n",
    "plt.show()"
   ]
  },
  {
   "cell_type": "markdown",
   "id": "1802efe1-d750-4874-8363-843456cbd59c",
   "metadata": {
    "jp-MarkdownHeadingCollapsed": true
   },
   "source": [
    "###### log-log plot"
   ]
  },
  {
   "cell_type": "code",
   "execution_count": null,
   "id": "eb836a06-5330-4e64-ad93-15c95a3f99e6",
   "metadata": {
    "scrolled": true
   },
   "outputs": [],
   "source": [
    "for i in range(len(zeta_list)):\n",
    "    plt.plot(g_holder_list[i].degree_distribution, label=f'zeta={zeta_list[i]}')\n",
    "plt.ylabel('degree')\n",
    "plt.legend(loc='best')\n",
    "plt.xscale('log')\n",
    "plt.yscale('log')\n",
    "plt.show()"
   ]
  },
  {
   "cell_type": "code",
   "execution_count": null,
   "id": "7171b298-9378-4948-865c-e60208a20ace",
   "metadata": {
    "scrolled": true
   },
   "outputs": [],
   "source": [
    "for i in range(len(zeta_list)):\n",
    "    degree_freq = nx.degree_histogram(g_holder_list[i].graph)\n",
    "    degrees = range(len(degree_freq))\n",
    "    plt.loglog(degrees, degree_freq,'o-', label=f'zeta={zeta_list[i]}')\n",
    "\n",
    "plt.xlabel('Degree')\n",
    "plt.ylabel('Frequency')\n",
    "plt.legend(loc='best')\n",
    "plt.show()"
   ]
  }
 ],
 "metadata": {
  "kernelspec": {
   "display_name": "Python 3 (ipykernel)",
   "language": "python",
   "name": "python3"
  },
  "language_info": {
   "codemirror_mode": {
    "name": "ipython",
    "version": 3
   },
   "file_extension": ".py",
   "mimetype": "text/x-python",
   "name": "python",
   "nbconvert_exporter": "python",
   "pygments_lexer": "ipython3",
   "version": "3.12.0"
  }
 },
 "nbformat": 4,
 "nbformat_minor": 5
}
