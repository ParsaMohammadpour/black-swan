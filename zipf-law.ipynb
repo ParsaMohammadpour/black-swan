{
 "cells": [
  {
   "cell_type": "code",
   "execution_count": null,
   "id": "ef95c443-a5a9-4de1-b37c-7888f56c11f7",
   "metadata": {},
   "outputs": [],
   "source": [
    "import numpy as np\n",
    "import matplotlib.pyplot as plt\n",
    "import seaborn as sns\n",
    "import pandas as pd\n",
    "from matplotlib import transforms\n",
    "import scipy\n",
    "import scipy.stats as st\n",
    "from SequenceGenerator import MultiSequenceGenerator"
   ]
  },
  {
   "cell_type": "code",
   "execution_count": null,
   "id": "30504e16-7f35-4f73-b659-4507d75897b7",
   "metadata": {},
   "outputs": [],
   "source": [
    "np.random.power(1.75, (11, 3)).shape"
   ]
  },
  {
   "cell_type": "markdown",
   "id": "68fb3574-3ce4-4440-bd22-868248c18106",
   "metadata": {},
   "source": [
    "# zipf distribution"
   ]
  },
  {
   "cell_type": "markdown",
   "id": "d1239079-baa7-41df-800d-3bc10cc61086",
   "metadata": {},
   "source": [
    "###### parameters"
   ]
  },
  {
   "cell_type": "code",
   "execution_count": null,
   "id": "83141f7d-2cd6-4651-8d70-d9037a9954be",
   "metadata": {},
   "outputs": [],
   "source": [
    "a = 2\n",
    "size = 100"
   ]
  },
  {
   "cell_type": "code",
   "execution_count": null,
   "id": "81d8c7ba-5e13-4641-b319-491ea4e8469f",
   "metadata": {},
   "outputs": [],
   "source": [
    "zipf_seq = np.random.zipf(a, size)"
   ]
  },
  {
   "cell_type": "markdown",
   "id": "edbc235f-276e-4a51-bed0-2f86bb20529c",
   "metadata": {},
   "source": [
    "### mean, std and var"
   ]
  },
  {
   "cell_type": "code",
   "execution_count": null,
   "id": "57f1cfb6-d660-4d12-940f-6e6d2debf510",
   "metadata": {},
   "outputs": [],
   "source": [
    "print(f'std is: {np.std(zipf_seq)}')\n",
    "print(f'mean is: {np.mean(zipf_seq)}')\n",
    "print(f'var is: {np.var(zipf_seq)}')"
   ]
  },
  {
   "cell_type": "code",
   "execution_count": null,
   "id": "c55b442a-402e-4c84-86bd-993b0c5b393a",
   "metadata": {
    "scrolled": true
   },
   "outputs": [],
   "source": [
    "sns.displot(zipf_seq, kde=False, stat='probability')\n",
    "plt.show()\n",
    "\n",
    "sns.displot(zipf_seq, kde=True, stat='probability')\n",
    "plt.show()"
   ]
  },
  {
   "cell_type": "markdown",
   "id": "a877b50a-a117-4142-b24e-af7285627d78",
   "metadata": {},
   "source": [
    "# comparing zipf law for different parameter"
   ]
  },
  {
   "cell_type": "code",
   "execution_count": null,
   "id": "c2df077e-3ff7-4292-88cb-2a5af32b5528",
   "metadata": {},
   "outputs": [],
   "source": [
    "a_list = [1.3, 1.4, 1.5]\n",
    "size = 2000"
   ]
  },
  {
   "cell_type": "code",
   "execution_count": null,
   "id": "bac13b72-4d06-434a-b26b-df12456eb06f",
   "metadata": {},
   "outputs": [],
   "source": [
    "zipf_gen = MultiSequenceGenerator(generating_function=np.random.zipf, parameter_list=a_list, column_name='a')"
   ]
  },
  {
   "cell_type": "code",
   "execution_count": null,
   "id": "5602e05c-db79-4905-9ee6-e1632f629ce3",
   "metadata": {
    "scrolled": true
   },
   "outputs": [],
   "source": [
    "zipf_gen.get_dataframe()"
   ]
  },
  {
   "cell_type": "markdown",
   "id": "49b1fa54-97b4-4a01-81fd-a86976ebf645",
   "metadata": {},
   "source": [
    "### mean, std and var"
   ]
  },
  {
   "cell_type": "code",
   "execution_count": null,
   "id": "d98e335a-6857-4b82-aaa8-9c54845dc5af",
   "metadata": {},
   "outputs": [],
   "source": [
    "zipf_gen.get_stats()"
   ]
  },
  {
   "cell_type": "markdown",
   "id": "cb1207e5-f705-4f5c-a6fb-2543b9cde628",
   "metadata": {},
   "source": [
    "### plotting parameter effect"
   ]
  },
  {
   "cell_type": "code",
   "execution_count": null,
   "id": "b8e73573-e66e-497c-a3d2-8792ce0746b5",
   "metadata": {},
   "outputs": [],
   "source": [
    "zipf_gen.displot_kde()\n",
    "zipf_gen.kde_plot()\n",
    "zipf_gen.column_by_column_distplot()"
   ]
  },
  {
   "cell_type": "markdown",
   "id": "e6dc7b25-3e7d-41cf-9a0b-bd11d8134076",
   "metadata": {},
   "source": [
    "### plotting parameter effect on stats"
   ]
  },
  {
   "cell_type": "code",
   "execution_count": null,
   "id": "e358c6f3-3d6f-48f0-b272-b133ee6c1bc1",
   "metadata": {},
   "outputs": [],
   "source": [
    "zipf_gen.draw_stat_plots()"
   ]
  },
  {
   "cell_type": "markdown",
   "id": "5c10d809-f954-4c25-90ec-317c8ec2e859",
   "metadata": {},
   "source": [
    "# PDF"
   ]
  },
  {
   "cell_type": "markdown",
   "id": "1ac8e309-ed32-4075-91da-56297e76ebc3",
   "metadata": {},
   "source": [
    "###### parameter"
   ]
  },
  {
   "cell_type": "code",
   "execution_count": null,
   "id": "27595b88-813c-4a28-a61e-bfed6a077524",
   "metadata": {},
   "outputs": [],
   "source": [
    "a = 4.0\n",
    "size = 20000"
   ]
  },
  {
   "cell_type": "code",
   "execution_count": null,
   "id": "4b44390f-7dc9-4f33-992a-3f10f7e0df5e",
   "metadata": {},
   "outputs": [],
   "source": [
    "s = np.random.zipf(a, size)\n",
    "\n",
    "count = np.bincount(s)\n",
    "k = np.arange(1, s.max() + 1)\n",
    "\n",
    "expected = size*(k**-a)/scipy.special.zeta(a)\n",
    "expected_prob = np.array([i/size for i in expected])\n",
    "\n",
    "plt.bar(k, np.array(count[1:])/size, alpha=0.5, label='sample count')\n",
    "plt.plot(k, expected_prob, 'k.-', alpha=0.5, label='expected count')   \n",
    "plt.grid(alpha=0.4)\n",
    "plt.legend()\n",
    "plt.title(f'Zipf sample, a={a}, size={size}')\n",
    "plt.xlabel('x')\n",
    "plt.ylabel('probability density function')\n",
    "plt.show()"
   ]
  },
  {
   "cell_type": "markdown",
   "id": "c965d0c1-c9db-496c-add9-ce55a1669acc",
   "metadata": {},
   "source": [
    "### semiology plot (y scale is log)"
   ]
  },
  {
   "cell_type": "code",
   "execution_count": null,
   "id": "0b1e4705-9a70-40f2-a85b-6b6957671b2c",
   "metadata": {},
   "outputs": [],
   "source": [
    "s = np.random.zipf(a, size)\n",
    "\n",
    "count = np.bincount(s)\n",
    "k = np.arange(1, s.max() + 1)\n",
    "\n",
    "expected = size*(k**-a)/scipy.special.zeta(a)\n",
    "expected_prob = np.array([i/size for i in expected])\n",
    "\n",
    "plt.bar(k, np.array(count[1:])/size, alpha=0.5, label='sample count')\n",
    "plt.plot(k, expected_prob, 'k.-', alpha=0.5, label='expected count')   \n",
    "plt.grid(alpha=0.4)\n",
    "plt.semilogy()\n",
    "plt.legend()\n",
    "plt.title(f'Zipf sample, a={a}, size={size}')\n",
    "plt.xlabel('x')\n",
    "plt.ylabel('probability density function')\n",
    "plt.show()"
   ]
  },
  {
   "cell_type": "markdown",
   "id": "359e7825-dd0f-4c8e-9944-9fc5d42ce49e",
   "metadata": {},
   "source": [
    "### log-log plot"
   ]
  },
  {
   "cell_type": "code",
   "execution_count": null,
   "id": "0cab7616-07bc-4849-a74b-bdb844b7527d",
   "metadata": {},
   "outputs": [],
   "source": [
    "s = np.random.zipf(a, size)\n",
    "\n",
    "count = np.bincount(s)\n",
    "k = np.arange(1, s.max() + 1)\n",
    "\n",
    "expected = size*(k**-a)/scipy.special.zeta(a)\n",
    "expected_prob = np.array([i/size for i in expected])\n",
    "\n",
    "plt.bar(k, np.array(count[1:])/size, alpha=0.5, label='sample count')\n",
    "plt.plot(k, expected_prob, 'k.-', alpha=0.5, label='expected count')   \n",
    "plt.grid(alpha=0.4)\n",
    "plt.xscale('log')\n",
    "plt.yscale('log')\n",
    "plt.legend()\n",
    "plt.title(f'Zipf sample, a={a}, size={size}')\n",
    "plt.xlabel('x')\n",
    "plt.ylabel('probability density function')\n",
    "plt.show()"
   ]
  },
  {
   "cell_type": "markdown",
   "id": "d5d8e1eb-5064-44c7-8dd7-2a6cd78b0ab6",
   "metadata": {},
   "source": [
    "# CDF"
   ]
  },
  {
   "cell_type": "code",
   "execution_count": null,
   "id": "07e31f20-3b3c-4bc9-a7b5-14f361d76e74",
   "metadata": {},
   "outputs": [],
   "source": [
    "s = np.random.zipf(a, size)\n",
    "\n",
    "count = np.bincount(s)\n",
    "k = np.arange(1, s.max() + 1)\n",
    "\n",
    "expected = size*(k**-a)/scipy.special.zeta(a)\n",
    "expected_prob = np.array([i/size for i in expected])\n",
    "cdf_prob = np.cumsum(expected_prob)\n",
    "\n",
    "plt.plot(k, cdf_prob, 'k.-', alpha=0.5, label='cumulative')   \n",
    "plt.grid(alpha=0.4)\n",
    "plt.legend()\n",
    "plt.title(f'Zipf sample, a={a}, size={size}')\n",
    "plt.xlabel('x')\n",
    "plt.ylabel('cumulative distribution function')\n",
    "plt.show()"
   ]
  },
  {
   "cell_type": "markdown",
   "id": "20f82965-f2c2-4201-a04a-8f300d16bc01",
   "metadata": {},
   "source": [
    "### semiology"
   ]
  },
  {
   "cell_type": "code",
   "execution_count": null,
   "id": "6132a788-aa85-4003-8710-05d60f3e3bfe",
   "metadata": {},
   "outputs": [],
   "source": [
    "s = np.random.zipf(a, size)\n",
    "\n",
    "count = np.bincount(s)\n",
    "k = np.arange(1, s.max() + 1)\n",
    "\n",
    "expected = size*(k**-a)/scipy.special.zeta(a)\n",
    "expected_prob = np.array([i/size for i in expected])\n",
    "cdf_prob = np.cumsum(expected_prob)\n",
    "\n",
    "plt.plot(k, cdf_prob, 'k.-', alpha=0.5, label='cumulative')   \n",
    "plt.grid(alpha=0.4)\n",
    "plt.legend()\n",
    "plt.semilogy()\n",
    "plt.title(f'Zipf sample, a={a}, size={size}')\n",
    "plt.xlabel('x')\n",
    "plt.ylabel('cumulative distribution function')\n",
    "plt.show()"
   ]
  },
  {
   "cell_type": "markdown",
   "id": "8c247c5b-23a0-471d-8086-4e06eaef2a39",
   "metadata": {},
   "source": [
    "### log-log plot"
   ]
  },
  {
   "cell_type": "code",
   "execution_count": null,
   "id": "7383b87a-98fe-47ff-9de6-9caf9c00f11f",
   "metadata": {},
   "outputs": [],
   "source": [
    "s = np.random.zipf(a, size)\n",
    "\n",
    "count = np.bincount(s)\n",
    "k = np.arange(1, s.max() + 1)\n",
    "\n",
    "expected = size*(k**-a)/scipy.special.zeta(a)\n",
    "expected_prob = np.array([i/size for i in expected])\n",
    "cdf_prob = np.cumsum(expected_prob)\n",
    "\n",
    "plt.plot(k, cdf_prob, 'k.-', alpha=0.5, label='cumulative')   \n",
    "plt.grid(alpha=0.4)\n",
    "plt.xscale('log')\n",
    "plt.yscale('log')\n",
    "plt.legend()\n",
    "plt.title(f'Zipf sample, a={a}, size={size}')\n",
    "plt.xlabel('x')\n",
    "plt.ylabel('cumulative distribution function')\n",
    "plt.show()"
   ]
  }
 ],
 "metadata": {
  "kernelspec": {
   "display_name": "Python 3 (ipykernel)",
   "language": "python",
   "name": "python3"
  },
  "language_info": {
   "codemirror_mode": {
    "name": "ipython",
    "version": 3
   },
   "file_extension": ".py",
   "mimetype": "text/x-python",
   "name": "python",
   "nbconvert_exporter": "python",
   "pygments_lexer": "ipython3",
   "version": "3.12.0"
  }
 },
 "nbformat": 4,
 "nbformat_minor": 5
}
