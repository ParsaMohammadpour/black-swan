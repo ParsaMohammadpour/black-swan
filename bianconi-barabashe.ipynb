{
 "cells": [
  {
   "cell_type": "markdown",
   "id": "cff627b4-679f-470c-9aa7-9faaa342ff6d",
   "metadata": {
    "jp-MarkdownHeadingCollapsed": true
   },
   "source": [
    "###### imports"
   ]
  },
  {
   "cell_type": "code",
   "execution_count": null,
   "id": "17e3ed74-4790-4d4f-bb8c-19ceb5325851",
   "metadata": {},
   "outputs": [],
   "source": [
    "import numpy as np\n",
    "import matplotlib.pyplot as plt\n",
    "import seaborn as sns\n",
    "import pandas as pd\n",
    "from matplotlib import transforms\n",
    "import scipy\n",
    "import scipy.stats as st\n",
    "from SequenceGenerator import MultiSequenceGenerator\n",
    "from scipy.integrate import odeint\n",
    "import networkx as nx\n",
    "import random\n",
    "import matplotlib.colors as mcolors\n",
    "import matplotlib.cm as cm"
   ]
  },
  {
   "cell_type": "markdown",
   "id": "ea829439-7cb7-4639-9c7d-eb0845946a62",
   "metadata": {
    "jp-MarkdownHeadingCollapsed": true
   },
   "source": [
    "# generating bianconi-barabasi"
   ]
  },
  {
   "cell_type": "markdown",
   "id": "315511b5-3e23-4e1b-8891-47414b8ea97d",
   "metadata": {
    "jp-MarkdownHeadingCollapsed": true
   },
   "source": [
    "### implementation"
   ]
  },
  {
   "cell_type": "code",
   "execution_count": null,
   "id": "02035de0-5bf0-41ee-9f07-d8e1e6a0ff91",
   "metadata": {},
   "outputs": [],
   "source": [
    "class BianconiBarabashi():\n",
    "    def draw_graph_for_time_slot(self, step_number):\n",
    "        print(f'step number: {step_number}')\n",
    "        fig = plt.figure(figsize=(50, 50))\n",
    "        degrees = np.array([self.graph.degree(n) for n in self.graph.nodes()])\n",
    "        node_size = degrees*100\n",
    "        \n",
    "        pos=nx.spring_layout(self.graph)\n",
    "        cmap=plt.cm.viridis\n",
    "        \n",
    "        nodes = nx.draw_networkx_nodes(self.graph, pos, node_size=node_size, node_color=node_size, cmap=cmap)\n",
    "        edges = nx.draw_networkx_edges(self.graph, pos)\n",
    "        \n",
    "        plt.colorbar(nodes)\n",
    "        plt.axis('off')\n",
    "        plt.title(f'step number: {step_number}')\n",
    "        plt.show()\n",
    "\n",
    "    \n",
    "    \n",
    "    def append_nodes(self):\n",
    "        time_intervals = int(self.step_number/self.time_slot_number)\n",
    "        time_slots = list(range(time_intervals, self.step_number+1, time_intervals))\n",
    "        \n",
    "        for new_node in range(self.initial_node_number+1, self.step_number+self.initial_node_number+1):\n",
    "            degrees = [val for (node, val) in sorted(self.graph.degree(), key=lambda pair: pair[0])]\n",
    "            summation = np.sum([self.fitness[i]*degrees[i] for i in range(len(degrees))])\n",
    "            probabilities = [(self.fitness[i]*degrees[i])/summation for i in range(len(degrees))]\n",
    "            probabilities_cum = np.cumsum(probabilities)\n",
    "            interval_max = probabilities_cum[len(probabilities_cum) - 1]\n",
    "            \n",
    "            self.graph.add_node(new_node)\n",
    "            \n",
    "            for _ in range(self.new_node_link):\n",
    "                random_number = np.random.uniform(0.0, interval_max)\n",
    "                connected_node = sum(i < random_number for i in probabilities_cum) + 1 # pluse one is because node numbers starts from 1 not zero\n",
    "                self.graph.add_edge(new_node, connected_node)\n",
    "\n",
    "            step_number = new_node - (self.initial_node_number+1)\n",
    "            if (step_number in time_slots):\n",
    "                self.draw_graph_for_time_slot(step_number)\n",
    "    \n",
    "    def __init__(self, initial_node_number=3, step_number=100, new_node_link=3, fitness_function=np.random.gamma, fitness_function_parameters=[], time_slot_number=10):\n",
    "        self.initial_node_number=initial_node_number\n",
    "        self.step_number=step_number\n",
    "        self.new_node_link=new_node_link\n",
    "        self.fitness_function_parameters = fitness_function_parameters.copy()\n",
    "        self.fitness_function_parameters.append(self.initial_node_number+self.step_number)\n",
    "        self.fitness_function = fitness_function\n",
    "        self.fitness = self.fitness_function(*self.fitness_function_parameters)\n",
    "        self.time_slot_number = time_slot_number\n",
    "        self.graph = nx.complete_graph(self.initial_node_number+1)\n",
    "        self.graph.remove_node(0)\n",
    "        self.append_nodes()\n",
    "        self.set_degree_distribution()\n",
    "\n",
    "    def set_degree_distribution(self):\n",
    "        self.degree_distribution = np.array([self.graph.degree(n) for n in self.graph.nodes()])\n",
    "\n",
    "    def draw_degree_distribution(self):\n",
    "        sns.displot(self.degree_distribution, kde=True)\n",
    "        plt.title('degree distribution')\n",
    "        plt.xlabel('degree')\n",
    "        plt.ylabel('occurance of each degree')\n",
    "        plt.show()\n",
    "\n",
    "        sns.displot(self.degree_distribution, kde=True)\n",
    "        plt.title('degree distribution semilog')\n",
    "        plt.xlabel('degree')\n",
    "        plt.ylabel('occurance of each degree')\n",
    "        plt.semilogy()\n",
    "        plt.show()\n",
    "\n",
    "        sns.displot(self.degree_distribution, kde=True)\n",
    "        plt.title('degree distribution log-log')\n",
    "        plt.xlabel('degree')\n",
    "        plt.ylabel('occurance of each degree')\n",
    "        plt.xscale('log')\n",
    "        plt.yscale('log')\n",
    "        plt.show()\n",
    "\n",
    "    def draw_graph(self):\n",
    "        fig = plt.figure(figsize=(50, 50))\n",
    "        node_size = self.degree_distribution*100\n",
    "        \n",
    "        pos=nx.spring_layout(self.graph)\n",
    "        cmap=plt.cm.viridis\n",
    "        \n",
    "        nodes = nx.draw_networkx_nodes(self.graph, pos, node_size=node_size, node_color=node_size, cmap=cmap)\n",
    "        edges = nx.draw_networkx_edges(self.graph, pos)\n",
    "        \n",
    "        plt.colorbar(nodes)\n",
    "        plt.axis('off')\n",
    "        plt.show()"
   ]
  },
  {
   "cell_type": "markdown",
   "id": "6a35fe39-d6e8-477c-9efb-49eae3acef59",
   "metadata": {},
   "source": [
    "### simulation"
   ]
  },
  {
   "cell_type": "markdown",
   "id": "e927e76d-3614-49d3-b7fa-6e79a3a32ba6",
   "metadata": {
    "jp-MarkdownHeadingCollapsed": true
   },
   "source": [
    "#### gamma as fitness function"
   ]
  },
  {
   "cell_type": "markdown",
   "id": "bce62763-b0e1-46ab-8cbc-6fc408638b49",
   "metadata": {
    "jp-MarkdownHeadingCollapsed": true
   },
   "source": [
    "###### parameters"
   ]
  },
  {
   "cell_type": "code",
   "execution_count": null,
   "id": "3b4c2354-02cb-43d0-a8ee-5e9345cbb6c9",
   "metadata": {},
   "outputs": [],
   "source": [
    "initi_node_number = 3\n",
    "step_number = 1000\n",
    "new_node_link = 3\n",
    "\n",
    "# gamma as fitness function\n",
    "shape, scale = 2., 2.\n",
    "fitness_function = np.random.gamma\n",
    "fitness_function_parameters = [shape, scale]"
   ]
  },
  {
   "cell_type": "markdown",
   "id": "b98933e5-0f27-4315-90d1-b17069460231",
   "metadata": {
    "jp-MarkdownHeadingCollapsed": true
   },
   "source": [
    "###### generating graph"
   ]
  },
  {
   "cell_type": "code",
   "execution_count": null,
   "id": "c29b5d70-affb-49cd-a650-c14c508f2f60",
   "metadata": {},
   "outputs": [],
   "source": [
    "g_holder = BianconiBarabashi(initi_node_number, step_number, new_node_link, fitness_function=fitness_function, fitness_function_parameters=fitness_function_parameters)"
   ]
  },
  {
   "cell_type": "markdown",
   "id": "dca5e557-4615-40c3-8b7f-ed6a9f4e269c",
   "metadata": {
    "jp-MarkdownHeadingCollapsed": true
   },
   "source": [
    "###### degree distribution"
   ]
  },
  {
   "cell_type": "code",
   "execution_count": null,
   "id": "298d4bb9-2ede-4876-bc53-43bab35dbfb5",
   "metadata": {
    "scrolled": true
   },
   "outputs": [],
   "source": [
    "g_holder.draw_degree_distribution()"
   ]
  },
  {
   "cell_type": "markdown",
   "id": "a1772182-ca9f-4399-8d49-2253903a759b",
   "metadata": {
    "jp-MarkdownHeadingCollapsed": true
   },
   "source": [
    "###### graph"
   ]
  },
  {
   "cell_type": "code",
   "execution_count": null,
   "id": "61717c19-5e14-4222-a4f9-59ea95e4e8db",
   "metadata": {
    "scrolled": true
   },
   "outputs": [],
   "source": [
    "g_holder.draw_graph()"
   ]
  },
  {
   "cell_type": "markdown",
   "id": "1b61ce6b-b9bd-4a17-890d-515f7781c509",
   "metadata": {
    "jp-MarkdownHeadingCollapsed": true
   },
   "source": [
    "#### log-normal as fitness function"
   ]
  },
  {
   "cell_type": "markdown",
   "id": "e4a3f46c-1f70-4ba7-8ecd-e43dd782407b",
   "metadata": {
    "jp-MarkdownHeadingCollapsed": true
   },
   "source": [
    "###### parameters"
   ]
  },
  {
   "cell_type": "code",
   "execution_count": null,
   "id": "c43b006d-0806-45c5-90e9-6aac9ab087e2",
   "metadata": {},
   "outputs": [],
   "source": [
    "initi_node_number = 3\n",
    "step_number = 1000\n",
    "new_node_link = 3\n",
    "\n",
    "# log-normal as fitness\n",
    "mu, sigma = 3., 1. # mean and standard deviation\n",
    "fitness_function = np.random.lognormal\n",
    "fitness_function_parameters = [mu, sigma]"
   ]
  },
  {
   "cell_type": "markdown",
   "id": "54daffc3-e8c4-4533-89a0-f4265fa2fb18",
   "metadata": {
    "jp-MarkdownHeadingCollapsed": true
   },
   "source": [
    "###### generating graph"
   ]
  },
  {
   "cell_type": "code",
   "execution_count": null,
   "id": "2ac8e1b4-c8a7-4618-9d0d-b171f5a671b2",
   "metadata": {},
   "outputs": [],
   "source": [
    "g_holder = BianconiBarabashi(initi_node_number, step_number, new_node_link, fitness_function=fitness_function, fitness_function_parameters=fitness_function_parameters)"
   ]
  },
  {
   "cell_type": "markdown",
   "id": "45bda9a3-8848-4e01-b0bb-f1bb7c0e5824",
   "metadata": {
    "jp-MarkdownHeadingCollapsed": true
   },
   "source": [
    "###### degree distribution"
   ]
  },
  {
   "cell_type": "code",
   "execution_count": null,
   "id": "9163d558-f23a-44fb-b0d7-3278df4fa23a",
   "metadata": {
    "scrolled": true
   },
   "outputs": [],
   "source": [
    "g_holder.draw_degree_distribution()"
   ]
  },
  {
   "cell_type": "markdown",
   "id": "f28f58ae-170c-44a6-9b43-85bd9323ffd7",
   "metadata": {
    "jp-MarkdownHeadingCollapsed": true
   },
   "source": [
    "###### graph"
   ]
  },
  {
   "cell_type": "code",
   "execution_count": null,
   "id": "6af46329-e04b-4c17-b65a-7769f4048d32",
   "metadata": {},
   "outputs": [],
   "source": [
    "g_holder.draw_graph()"
   ]
  },
  {
   "cell_type": "markdown",
   "id": "98cf05d6-2c94-4a86-82bd-d15cdde4c2b9",
   "metadata": {
    "jp-MarkdownHeadingCollapsed": true
   },
   "source": [
    "#### power-law as fitness"
   ]
  },
  {
   "cell_type": "markdown",
   "id": "1efc8be7-e757-4053-b402-c39e0b76384d",
   "metadata": {
    "jp-MarkdownHeadingCollapsed": true
   },
   "source": [
    "###### parameters"
   ]
  },
  {
   "cell_type": "code",
   "execution_count": null,
   "id": "c2e9fecd-9692-4a26-819b-12726367f5fd",
   "metadata": {},
   "outputs": [],
   "source": [
    "initi_node_number = 3\n",
    "step_number = 1000\n",
    "new_node_link = 3\n",
    "\n",
    "# power-law as fitness function\n",
    "a = 5. # shape\n",
    "fitness_function = np.random.power\n",
    "fitness_function_parameters = [a]"
   ]
  },
  {
   "cell_type": "markdown",
   "id": "dc706b5a-17f2-4fc3-86b5-efa447c91738",
   "metadata": {
    "jp-MarkdownHeadingCollapsed": true
   },
   "source": [
    "###### generating graph"
   ]
  },
  {
   "cell_type": "code",
   "execution_count": null,
   "id": "c32e81cd-1630-49c0-97ba-a812c7845a7b",
   "metadata": {},
   "outputs": [],
   "source": [
    "g_holder = BianconiBarabashi(initi_node_number, step_number, new_node_link, fitness_function=fitness_function, fitness_function_parameters=fitness_function_parameters)"
   ]
  },
  {
   "cell_type": "markdown",
   "id": "ddca4fea-429d-474d-b6fd-31650ecd0d4f",
   "metadata": {
    "jp-MarkdownHeadingCollapsed": true
   },
   "source": [
    "###### degree distribution"
   ]
  },
  {
   "cell_type": "code",
   "execution_count": null,
   "id": "d028c4b9-e693-479f-949a-c3c156338787",
   "metadata": {},
   "outputs": [],
   "source": [
    "g_holder.draw_degree_distribution()"
   ]
  },
  {
   "cell_type": "markdown",
   "id": "9facfa49-9757-4358-9d0f-7eea01337f04",
   "metadata": {
    "jp-MarkdownHeadingCollapsed": true
   },
   "source": [
    "###### graph"
   ]
  },
  {
   "cell_type": "code",
   "execution_count": null,
   "id": "2ca11831-febe-4705-a772-b88835728dea",
   "metadata": {},
   "outputs": [],
   "source": [
    "g_holder.draw_graph()"
   ]
  }
 ],
 "metadata": {
  "kernelspec": {
   "display_name": "Python 3 (ipykernel)",
   "language": "python",
   "name": "python3"
  },
  "language_info": {
   "codemirror_mode": {
    "name": "ipython",
    "version": 3
   },
   "file_extension": ".py",
   "mimetype": "text/x-python",
   "name": "python",
   "nbconvert_exporter": "python",
   "pygments_lexer": "ipython3",
   "version": "3.12.0"
  }
 },
 "nbformat": 4,
 "nbformat_minor": 5
}
