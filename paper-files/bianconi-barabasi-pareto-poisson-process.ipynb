{
 "cells": [
  {
   "cell_type": "markdown",
   "id": "0d5a303a-bfff-40f9-adc0-fbb22cc5b851",
   "metadata": {
    "jp-MarkdownHeadingCollapsed": true
   },
   "source": [
    "###### imports"
   ]
  },
  {
   "cell_type": "code",
   "execution_count": null,
   "id": "837f4a10-091f-4db7-a00f-47b9519ec5c5",
   "metadata": {},
   "outputs": [],
   "source": [
    "import numpy as np\n",
    "import matplotlib.pyplot as plt\n",
    "import seaborn as sns\n",
    "import pandas as pd\n",
    "from matplotlib import transforms\n",
    "import scipy\n",
    "import scipy.stats as st\n",
    "from scipy.integrate import odeint\n",
    "import networkx as nx\n",
    "import random\n",
    "import matplotlib.colors as mcolors\n",
    "import matplotlib.cm as cm\n",
    "from SequenceGenerator import MultiSequenceGenerator\n",
    "from PoissonParetoSimulator import PoissonParetoBurstProcessSimulator"
   ]
  },
  {
   "cell_type": "markdown",
   "id": "9fd6019e-701f-4205-9d0f-9a3f6549f33d",
   "metadata": {
    "jp-MarkdownHeadingCollapsed": true
   },
   "source": [
    "# Bianconi-Barabasi with pareto-poisson-burst as fitness function"
   ]
  },
  {
   "cell_type": "markdown",
   "id": "f656fd29-d0ae-436b-a278-4489739ef006",
   "metadata": {
    "jp-MarkdownHeadingCollapsed": true
   },
   "source": [
    "### implementation"
   ]
  },
  {
   "cell_type": "code",
   "execution_count": null,
   "id": "2d03430b-b0d0-4130-a435-a08973929f4c",
   "metadata": {},
   "outputs": [],
   "source": [
    "class BianconiBarabashiPP():\n",
    "    def draw_graph_for_time_slot(self, step_number):\n",
    "        print(f'step number: {step_number}')\n",
    "        fig = plt.figure(figsize=(50, 50))\n",
    "        degrees = np.array([self.graph.degree(n) for n in self.graph.nodes()])\n",
    "        node_size = degrees*100\n",
    "        \n",
    "        pos=nx.spring_layout(self.graph)\n",
    "        cmap=plt.cm.viridis\n",
    "        \n",
    "        nodes = nx.draw_networkx_nodes(self.graph, pos, node_size=node_size, node_color=node_size, cmap=cmap)\n",
    "        edges = nx.draw_networkx_edges(self.graph, pos)\n",
    "        \n",
    "        plt.colorbar(nodes)\n",
    "        plt.axis('off')\n",
    "        plt.title(f'step number: {step_number}')\n",
    "        plt.show()\n",
    "\n",
    "    \n",
    "    \n",
    "    def append_nodes(self):\n",
    "        time_intervals = int(self.step_number/self.time_slot_number)\n",
    "        time_slots = list(range(time_intervals, self.step_number+1, time_intervals))\n",
    "        \n",
    "        for new_node in range(self.initial_node_number+1, self.step_number+self.initial_node_number+1):\n",
    "            degrees = [val for (node, val) in sorted(self.graph.degree(), key=lambda pair: pair[0])]\n",
    "            summation = np.sum([self.fitness[i]*degrees[i] for i in range(len(degrees))])\n",
    "            probabilities = [(self.fitness[i]*degrees[i])/summation for i in range(len(degrees))]\n",
    "            probabilities_cum = np.cumsum(probabilities)\n",
    "            interval_max = probabilities_cum[len(probabilities_cum) - 1]\n",
    "            \n",
    "            self.graph.add_node(new_node)\n",
    "            \n",
    "            for _ in range(self.new_node_link):\n",
    "                random_number = np.random.uniform(0.0, interval_max)\n",
    "                connected_node = sum(i < random_number for i in probabilities_cum) + 1 # pluse one is because node numbers starts from 1 not zero\n",
    "                self.graph.add_edge(new_node, connected_node)\n",
    "\n",
    "            step_number = new_node - (self.initial_node_number+1)\n",
    "            if (step_number in time_slots):\n",
    "                self.draw_graph_for_time_slot(step_number)\n",
    "    \n",
    "    def __init__(self, initial_node_number=3, step_number=100, new_node_link=3, fitness=[], time_slot_number=10):\n",
    "        self.initial_node_number=initial_node_number\n",
    "        self.step_number=step_number\n",
    "        self.new_node_link=new_node_link\n",
    "        self.fitness = fitness\n",
    "        self.time_slot_number = time_slot_number\n",
    "        self.graph = nx.complete_graph(self.initial_node_number+1)\n",
    "        self.graph.remove_node(0)\n",
    "        self.append_nodes()\n",
    "        self.set_degree_distribution()\n",
    "\n",
    "    def set_degree_distribution(self):\n",
    "        self.degree_distribution = np.array([self.graph.degree(n) for n in self.graph.nodes()])\n",
    "\n",
    "    def draw_degree_distribution(self):\n",
    "        sns.displot(self.degree_distribution, kde=True)\n",
    "        plt.title('degree distribution')\n",
    "        plt.xlabel('degree')\n",
    "        plt.ylabel('occurance of each degree')\n",
    "        plt.show()\n",
    "\n",
    "        sns.displot(self.degree_distribution, kde=True)\n",
    "        plt.title('degree distribution semilog')\n",
    "        plt.xlabel('degree')\n",
    "        plt.ylabel('occurance of each degree')\n",
    "        plt.semilogy()\n",
    "        plt.show()\n",
    "\n",
    "        sns.displot(self.degree_distribution, kde=True)\n",
    "        plt.title('degree distribution log-log')\n",
    "        plt.xlabel('degree')\n",
    "        plt.ylabel('occurance of each degree')\n",
    "        plt.xscale('log')\n",
    "        plt.yscale('log')\n",
    "        plt.show()\n",
    "\n",
    "    def draw_graph(self):\n",
    "        fig = plt.figure(figsize=(50, 50))\n",
    "        node_size = self.degree_distribution*100\n",
    "        \n",
    "        pos=nx.spring_layout(self.graph)\n",
    "        cmap=plt.cm.viridis\n",
    "        \n",
    "        nodes = nx.draw_networkx_nodes(self.graph, pos, node_size=node_size, node_color=node_size, cmap=cmap)\n",
    "        edges = nx.draw_networkx_edges(self.graph, pos)\n",
    "        \n",
    "        plt.colorbar(nodes)\n",
    "        plt.axis('off')\n",
    "        plt.show()"
   ]
  },
  {
   "cell_type": "markdown",
   "id": "6ad7ab0b-e7c1-44cc-ba5e-ad1b6d815576",
   "metadata": {
    "jp-MarkdownHeadingCollapsed": true
   },
   "source": [
    "### simulation"
   ]
  },
  {
   "cell_type": "markdown",
   "id": "3963e928-2779-4c7d-b0f2-26e0e6febcb8",
   "metadata": {
    "jp-MarkdownHeadingCollapsed": true
   },
   "source": [
    "#### paretian-poisson burst process"
   ]
  },
  {
   "cell_type": "markdown",
   "id": "c349ab7b-d1f7-4583-bc73-87d710569e4d",
   "metadata": {
    "jp-MarkdownHeadingCollapsed": true
   },
   "source": [
    "##### parameters"
   ]
  },
  {
   "cell_type": "markdown",
   "id": "c9b6e8e1-e995-428b-85ab-5da35831faae",
   "metadata": {
    "jp-MarkdownHeadingCollapsed": true
   },
   "source": [
    "###### Poisson-Pareto burst process"
   ]
  },
  {
   "cell_type": "code",
   "execution_count": null,
   "id": "6cf52172-46f0-47d9-b4b3-8af149bbf49c",
   "metadata": {},
   "outputs": [],
   "source": [
    "total_time = 333\n",
    "lam_list=[5.0]\n",
    "hurst_list=[0.75]\n",
    "burst_duration_mean = 4.0\n",
    "has_pre_burst = True"
   ]
  },
  {
   "cell_type": "markdown",
   "id": "00102ab9-ba66-42f9-9015-11f6b24d28a9",
   "metadata": {
    "jp-MarkdownHeadingCollapsed": true
   },
   "source": [
    "###### bianconi-barabasi"
   ]
  },
  {
   "cell_type": "code",
   "execution_count": null,
   "id": "132a6aa4-38de-4f6a-80c4-b8faf4d64b0b",
   "metadata": {},
   "outputs": [],
   "source": [
    "size = total_time*3\n",
    "initial_node_number = 3\n",
    "step_number=size-initial_node_number\n",
    "new_node_link=3"
   ]
  },
  {
   "cell_type": "markdown",
   "id": "a6239071-3c7e-4e09-a41b-acdc74aeaa5c",
   "metadata": {
    "jp-MarkdownHeadingCollapsed": true
   },
   "source": [
    "##### generating values"
   ]
  },
  {
   "cell_type": "markdown",
   "id": "86cdeeb7-5ce7-44a0-a10f-37ae252ed172",
   "metadata": {
    "jp-MarkdownHeadingCollapsed": true
   },
   "source": [
    "###### poisson pareto process"
   ]
  },
  {
   "cell_type": "code",
   "execution_count": null,
   "id": "4f117169-be75-454e-b7ce-1013a21a8c1b",
   "metadata": {
    "scrolled": true
   },
   "outputs": [],
   "source": [
    "ppbp_sim = PoissonParetoBurstProcessSimulator(total_time=total_time, lam_list=lam_list, hurst_list=hurst_list, burst_duration_mean=burst_duration_mean, has_pre_burst=has_pre_burst, least_interval_length=None)\n",
    "sim_res = ppbp_sim.simulate()"
   ]
  },
  {
   "cell_type": "code",
   "execution_count": null,
   "id": "7f5ed1c8-5101-4485-b9b7-2f3e69f7363c",
   "metadata": {},
   "outputs": [],
   "source": [
    "fitness = sim_res[0][0]\n",
    "sim_res[0][0].shape"
   ]
  },
  {
   "cell_type": "markdown",
   "id": "1049a18b-e46c-4d28-9e09-9803813d8b3d",
   "metadata": {
    "jp-MarkdownHeadingCollapsed": true
   },
   "source": [
    "###### bianconi-barabasi"
   ]
  },
  {
   "cell_type": "code",
   "execution_count": null,
   "id": "bce8bf8c-0a36-4a85-9d3b-81b2264fd6b6",
   "metadata": {
    "scrolled": true
   },
   "outputs": [],
   "source": [
    "bbpp = BianconiBarabashiPP(initial_node_number=initial_node_number, step_number=step_number, new_node_link=new_node_link, fitness=fitness)"
   ]
  },
  {
   "cell_type": "markdown",
   "id": "c0383895-0fbd-452d-b2d0-7c5384cf51c2",
   "metadata": {
    "jp-MarkdownHeadingCollapsed": true
   },
   "source": [
    "##### plotting results"
   ]
  },
  {
   "cell_type": "markdown",
   "id": "a7ec7859-033a-4475-a67d-b71c2a3829aa",
   "metadata": {
    "jp-MarkdownHeadingCollapsed": true
   },
   "source": [
    "###### degree distribution"
   ]
  },
  {
   "cell_type": "code",
   "execution_count": null,
   "id": "f79dfe73-6fbc-492a-977f-09fd560ad871",
   "metadata": {
    "scrolled": true
   },
   "outputs": [],
   "source": [
    "bbpp.draw_degree_distribution()"
   ]
  },
  {
   "cell_type": "markdown",
   "id": "06dd0a98-9c98-464c-a724-71b7d3d46c1b",
   "metadata": {
    "jp-MarkdownHeadingCollapsed": true
   },
   "source": [
    "###### graph"
   ]
  },
  {
   "cell_type": "code",
   "execution_count": null,
   "id": "0e7dff6c-1b21-4136-8400-c52bbb5c717b",
   "metadata": {
    "scrolled": true
   },
   "outputs": [],
   "source": [
    "bbpp.draw_graph()"
   ]
  },
  {
   "cell_type": "markdown",
   "id": "5ed7d51f-767b-47bd-a133-12683effe0e0",
   "metadata": {
    "jp-MarkdownHeadingCollapsed": true
   },
   "source": [
    "#### paretian-poisson process from unified model"
   ]
  },
  {
   "cell_type": "markdown",
   "id": "de8df4f6-2858-4b6d-b7ff-13ccdd8c06fa",
   "metadata": {
    "jp-MarkdownHeadingCollapsed": true
   },
   "source": [
    "##### parameters"
   ]
  },
  {
   "cell_type": "markdown",
   "id": "c329330a-7af8-49f8-b6b6-d706b7f1cad9",
   "metadata": {
    "jp-MarkdownHeadingCollapsed": true
   },
   "source": [
    "###### paretian-poisson process"
   ]
  },
  {
   "cell_type": "code",
   "execution_count": null,
   "id": "b58fe5c2-c738-4618-813a-8f405464150f",
   "metadata": {},
   "outputs": [],
   "source": [
    "def power_law_trajectory_explosion_time(initial_value, specific_initial_value, epsiolon): # F(u)\n",
    "    return initial_value / np.power(np.power(specific_initial_value/initial_value, -epsilon)-1, 1.0/epsilon)\n",
    "\n",
    "largest_initial_val = 0.001 # v in paper\n",
    "size = 1000\n",
    "epsilon = 1.0\n",
    "c = 1\n",
    "start_interval = 0.99"
   ]
  },
  {
   "cell_type": "markdown",
   "id": "6aaa4703-5a14-4de0-b447-36f3e79e2209",
   "metadata": {
    "jp-MarkdownHeadingCollapsed": true
   },
   "source": [
    "###### bianconi-barabasi"
   ]
  },
  {
   "cell_type": "code",
   "execution_count": null,
   "id": "e0468eee-7e35-4abf-893e-a2c9afa6062b",
   "metadata": {},
   "outputs": [],
   "source": [
    "initial_node_number = 3\n",
    "step_number=size-initial_node_number\n",
    "new_node_link=3"
   ]
  },
  {
   "cell_type": "markdown",
   "id": "d871fc4a-d3a7-47c2-89eb-094cb18f7cdf",
   "metadata": {
    "jp-MarkdownHeadingCollapsed": true
   },
   "source": [
    "##### generatin values"
   ]
  },
  {
   "cell_type": "markdown",
   "id": "8aa829fd-2351-42a3-b041-d5d0f70dec57",
   "metadata": {
    "jp-MarkdownHeadingCollapsed": true
   },
   "source": [
    "###### paretian-poisson process"
   ]
  },
  {
   "cell_type": "code",
   "execution_count": null,
   "id": "5ad673d5-ad20-4814-a479-f948bc721a76",
   "metadata": {},
   "outputs": [],
   "source": [
    "initial_value_list = np.random.uniform(start_interval, largest_initial_val, size) * largest_initial_val\n",
    "\n",
    "result = [power_law_trajectory_explosion_time(largest_initial_val, initial_value, epsilon) for initial_value in initial_value_list]"
   ]
  },
  {
   "cell_type": "code",
   "execution_count": null,
   "id": "9e3e6082-be2e-4f6e-9095-dfd064e34605",
   "metadata": {},
   "outputs": [],
   "source": [
    "fitness = result"
   ]
  },
  {
   "cell_type": "markdown",
   "id": "d846e21c-aebc-4ab0-bf25-bd29434d96b0",
   "metadata": {
    "jp-MarkdownHeadingCollapsed": true
   },
   "source": [
    "###### bianconi-barabasi"
   ]
  },
  {
   "cell_type": "code",
   "execution_count": null,
   "id": "6e5e4789-32ff-446c-b298-fb7180d24a9c",
   "metadata": {
    "scrolled": true
   },
   "outputs": [],
   "source": [
    "bbpp = BianconiBarabashiPP(initial_node_number=initial_node_number, step_number=step_number, new_node_link=new_node_link, fitness=fitness)"
   ]
  },
  {
   "cell_type": "markdown",
   "id": "a844f5b8-69cc-4871-a713-63c98473f28a",
   "metadata": {
    "jp-MarkdownHeadingCollapsed": true
   },
   "source": [
    "##### drawing plots"
   ]
  },
  {
   "cell_type": "markdown",
   "id": "c6635ae0-cdf8-4f45-bf0c-6f9663ad612c",
   "metadata": {
    "jp-MarkdownHeadingCollapsed": true
   },
   "source": [
    "###### degree distribution"
   ]
  },
  {
   "cell_type": "code",
   "execution_count": null,
   "id": "9b8dde76-1280-4b6f-a40f-da01f0877078",
   "metadata": {
    "scrolled": true
   },
   "outputs": [],
   "source": [
    "bbpp.draw_degree_distribution()"
   ]
  },
  {
   "cell_type": "markdown",
   "id": "05163b03-e8b6-4421-8b14-0b4333c3a492",
   "metadata": {
    "jp-MarkdownHeadingCollapsed": true
   },
   "source": [
    "###### graph"
   ]
  },
  {
   "cell_type": "code",
   "execution_count": null,
   "id": "63accb6a-131f-4586-9634-699d3ee1ff64",
   "metadata": {},
   "outputs": [],
   "source": [
    "bbpp.draw_graph()"
   ]
  },
  {
   "cell_type": "markdown",
   "id": "0e53b647-4730-4e52-b270-ce3047bc8030",
   "metadata": {
    "jp-MarkdownHeadingCollapsed": true
   },
   "source": [
    "#### paretian-poisson process our model"
   ]
  },
  {
   "cell_type": "markdown",
   "id": "04dd2ee0-f7de-4f5b-9c9a-b5960a10f9b0",
   "metadata": {
    "jp-MarkdownHeadingCollapsed": true
   },
   "source": [
    "##### parameters"
   ]
  },
  {
   "cell_type": "markdown",
   "id": "048ee239-12b6-42c3-8a24-b60bcf8d1bf8",
   "metadata": {
    "jp-MarkdownHeadingCollapsed": true
   },
   "source": [
    "###### pareto-poisson"
   ]
  },
  {
   "cell_type": "code",
   "execution_count": null,
   "id": "b7c527ea-f08f-4122-a8df-a46e24738ad1",
   "metadata": {},
   "outputs": [],
   "source": [
    "def equation3(U, v, epsilon):\n",
    "    return v / np.power(np.power(U, -epsilon) - 1.0 , 1.0/epsilon)\n",
    "\n",
    "def equation5(data, c, epsilon):\n",
    "    return c * epsilon / np.power(data, 1.0 + epsilon)\n",
    "\n",
    "def generate_our_pareto_poisson(v, epsilon, c, size, should_sort=False):\n",
    "    U = np.random.uniform(0.0, 1.0, size-1) * v\n",
    "    U = np.append(U, v)\n",
    "\n",
    "    if should_sort:\n",
    "        U = np.sort(U)\n",
    "    \n",
    "    X = equation3(U, v, epsilon)\n",
    "    return equation5(X, c, epsilon)\n",
    "\n",
    "v = .9# v in the paper\n",
    "size = 1000\n",
    "epsilon = 1.\n",
    "c = 1.\n",
    "\n",
    "final_min_value = 1\n",
    "final_max_value = 40"
   ]
  },
  {
   "cell_type": "markdown",
   "id": "99521425-833d-4bb7-b4ae-fe307ac01df1",
   "metadata": {
    "jp-MarkdownHeadingCollapsed": true
   },
   "source": [
    "###### bianconi-barabasi"
   ]
  },
  {
   "cell_type": "code",
   "execution_count": null,
   "id": "e82e9e41-69d1-4e57-961b-5a50a631f353",
   "metadata": {},
   "outputs": [],
   "source": [
    "initial_node_number = 3\n",
    "step_number=size-initial_node_number\n",
    "new_node_link=3"
   ]
  },
  {
   "cell_type": "markdown",
   "id": "64d8449b-df12-4286-bdd6-979cbb0ab7b3",
   "metadata": {
    "jp-MarkdownHeadingCollapsed": true
   },
   "source": [
    "##### generating values"
   ]
  },
  {
   "cell_type": "markdown",
   "id": "39a81434-6cd2-435c-820a-1f539f126a91",
   "metadata": {
    "jp-MarkdownHeadingCollapsed": true
   },
   "source": [
    "###### pareto-poisson"
   ]
  },
  {
   "cell_type": "code",
   "execution_count": null,
   "id": "a383c1f3-ba8b-4b1c-bcb8-637551a1c7a1",
   "metadata": {},
   "outputs": [],
   "source": [
    "result = generate_our_pareto_poisson(v, epsilon, c, size, should_sort=True)"
   ]
  },
  {
   "cell_type": "code",
   "execution_count": null,
   "id": "52cbbc17-395b-4802-8aeb-8ab5620e48b0",
   "metadata": {},
   "outputs": [],
   "source": [
    "fitness = result"
   ]
  },
  {
   "cell_type": "markdown",
   "id": "727d568a-f7b4-4ece-b513-c17aa4e0ac09",
   "metadata": {
    "jp-MarkdownHeadingCollapsed": true
   },
   "source": [
    "##### bianconi-barabasi"
   ]
  },
  {
   "cell_type": "code",
   "execution_count": null,
   "id": "ccd19a8b-69aa-4096-969e-b9f8b2c147a4",
   "metadata": {
    "scrolled": true
   },
   "outputs": [],
   "source": [
    "bbpp = BianconiBarabashiPP(initial_node_number=initial_node_number, step_number=step_number, new_node_link=new_node_link, fitness=fitness)"
   ]
  },
  {
   "cell_type": "markdown",
   "id": "2de9c6aa-2aab-488a-9439-2f326d0e88e3",
   "metadata": {
    "jp-MarkdownHeadingCollapsed": true
   },
   "source": [
    "##### draw plots"
   ]
  },
  {
   "cell_type": "markdown",
   "id": "16a6a646-7e52-4e14-b00d-aae4ad8f200b",
   "metadata": {
    "jp-MarkdownHeadingCollapsed": true
   },
   "source": [
    "###### degree distribution"
   ]
  },
  {
   "cell_type": "code",
   "execution_count": null,
   "id": "55a703a8-d8e3-43c5-b650-4edb6a2f6ba2",
   "metadata": {
    "scrolled": true
   },
   "outputs": [],
   "source": [
    "bbpp.draw_degree_distribution()"
   ]
  },
  {
   "cell_type": "markdown",
   "id": "cefaea24-d38f-49b2-bcdf-a2b60678b67c",
   "metadata": {
    "jp-MarkdownHeadingCollapsed": true
   },
   "source": [
    "###### graph"
   ]
  },
  {
   "cell_type": "code",
   "execution_count": null,
   "id": "1d251000-0fb6-4a76-aaf0-28eb541136c6",
   "metadata": {
    "scrolled": true
   },
   "outputs": [],
   "source": [
    "bbpp.draw_graph()"
   ]
  },
  {
   "cell_type": "markdown",
   "id": "69a4ff25-2d8d-479a-a766-24732e908a42",
   "metadata": {
    "jp-MarkdownHeadingCollapsed": true
   },
   "source": [
    "# Bianconi-Barabasi with pareto-poisson-burst as probability"
   ]
  },
  {
   "cell_type": "markdown",
   "id": "2e5d83ff-1876-49fc-bdda-2c23b511c0ad",
   "metadata": {
    "jp-MarkdownHeadingCollapsed": true
   },
   "source": [
    "### implementation"
   ]
  },
  {
   "cell_type": "code",
   "execution_count": null,
   "id": "074cfcb7-bd33-4a89-9ac8-1433b87f0eeb",
   "metadata": {},
   "outputs": [],
   "source": [
    "class BianconiBarabashiPP_Probability():\n",
    "    def draw_graph_for_time_slot(self, step_number):\n",
    "        print(f'step number: {step_number}')\n",
    "        fig = plt.figure(figsize=(50, 50))\n",
    "        degrees = np.array([self.graph.degree(n) for n in self.graph.nodes()])\n",
    "        node_size = degrees*100\n",
    "        \n",
    "        pos=nx.spring_layout(self.graph)\n",
    "        cmap=plt.cm.viridis\n",
    "        \n",
    "        nodes = nx.draw_networkx_nodes(self.graph, pos, node_size=node_size, node_color=node_size, cmap=cmap)\n",
    "        edges = nx.draw_networkx_edges(self.graph, pos)\n",
    "        \n",
    "        plt.colorbar(nodes)\n",
    "        plt.axis('off')\n",
    "        plt.title(f'step number: {step_number}')\n",
    "        plt.show()\n",
    "\n",
    "    \n",
    "    \n",
    "    def append_nodes(self):\n",
    "        time_intervals = int(self.step_number/self.time_slot_number)\n",
    "        time_slots = list(range(time_intervals, self.step_number+1, time_intervals))\n",
    "        \n",
    "        for new_node in range(self.initial_node_number+1, self.step_number+self.initial_node_number+1):\n",
    "            probabilities_cum = self.probabilities_cum[:self.graph.number_of_nodes()]\n",
    "            interval_max = probabilities_cum[len(probabilities_cum) - 1]\n",
    "            \n",
    "            self.graph.add_node(new_node)\n",
    "            \n",
    "            for _ in range(self.new_node_link):\n",
    "                random_number = np.random.uniform(0.0, interval_max)\n",
    "                connected_node = sum(i < random_number for i in probabilities_cum) + 1 # pluse one is because node numbers starts from 1 not zero\n",
    "                self.graph.add_edge(new_node, connected_node)\n",
    "\n",
    "            step_number = new_node - (self.initial_node_number+1)\n",
    "            if (step_number in time_slots):\n",
    "                self.draw_graph_for_time_slot(step_number)\n",
    "    \n",
    "    def __init__(self, initial_node_number=3, step_number=100, new_node_link=3, probabilities=[], time_slot_number=10):\n",
    "        self.initial_node_number=initial_node_number\n",
    "        self.step_number=step_number\n",
    "        self.new_node_link=new_node_link\n",
    "        self.probabilities = probabilities\n",
    "        self.probabilities_cum = np.cumsum(self.probabilities)\n",
    "        self.time_slot_number = time_slot_number\n",
    "        self.graph = nx.complete_graph(self.initial_node_number+1)\n",
    "        self.graph.remove_node(0)\n",
    "        self.append_nodes()\n",
    "        self.set_degree_distribution()\n",
    "\n",
    "    def set_degree_distribution(self):\n",
    "        self.degree_distribution = np.array([self.graph.degree(n) for n in self.graph.nodes()])\n",
    "\n",
    "    def draw_degree_distribution(self):\n",
    "        sns.displot(self.degree_distribution, kde=True)\n",
    "        plt.title('degree distribution')\n",
    "        plt.xlabel('degree')\n",
    "        plt.ylabel('occurance of each degree')\n",
    "        plt.show()\n",
    "\n",
    "        sns.displot(self.degree_distribution, kde=True)\n",
    "        plt.title('degree distribution semilog')\n",
    "        plt.xlabel('degree')\n",
    "        plt.ylabel('occurance of each degree')\n",
    "        plt.semilogy()\n",
    "        plt.show()\n",
    "\n",
    "        sns.displot(self.degree_distribution, kde=True)\n",
    "        plt.title('degree distribution log-log')\n",
    "        plt.xlabel('degree')\n",
    "        plt.ylabel('occurance of each degree')\n",
    "        plt.xscale('log')\n",
    "        plt.yscale('log')\n",
    "        plt.show()\n",
    "\n",
    "    def draw_graph(self):\n",
    "        fig = plt.figure(figsize=(50, 50))\n",
    "        node_size = self.degree_distribution*100\n",
    "        \n",
    "        pos=nx.spring_layout(self.graph)\n",
    "        cmap=plt.cm.viridis\n",
    "        \n",
    "        nodes = nx.draw_networkx_nodes(self.graph, pos, node_size=node_size, node_color=node_size, cmap=cmap)\n",
    "        edges = nx.draw_networkx_edges(self.graph, pos)\n",
    "        \n",
    "        plt.colorbar(nodes)\n",
    "        plt.axis('off')\n",
    "        plt.show()"
   ]
  },
  {
   "cell_type": "markdown",
   "id": "de1f7339-6f3e-462f-aa76-773c8deee4da",
   "metadata": {
    "jp-MarkdownHeadingCollapsed": true
   },
   "source": [
    "### simulation"
   ]
  },
  {
   "cell_type": "markdown",
   "id": "fd776dd7-76d9-452f-9f24-44376639eb2e",
   "metadata": {
    "jp-MarkdownHeadingCollapsed": true
   },
   "source": [
    "#### paretian-poisson burst process"
   ]
  },
  {
   "cell_type": "markdown",
   "id": "086cfc5c-d50b-4bf3-86f7-1a7a6abacdb9",
   "metadata": {
    "jp-MarkdownHeadingCollapsed": true
   },
   "source": [
    "##### parameters"
   ]
  },
  {
   "cell_type": "markdown",
   "id": "8c410fb4-1db5-4f50-9970-b2a24e0ad28e",
   "metadata": {
    "jp-MarkdownHeadingCollapsed": true
   },
   "source": [
    "###### paretian-poisson"
   ]
  },
  {
   "cell_type": "code",
   "execution_count": null,
   "id": "6887976b-48b7-47af-8a83-d146f193281a",
   "metadata": {},
   "outputs": [],
   "source": [
    "total_time = 333\n",
    "lam_list=[5.0]\n",
    "hurst_list=[0.75]\n",
    "burst_duration_mean = 4.0\n",
    "has_pre_burst = True"
   ]
  },
  {
   "cell_type": "markdown",
   "id": "ca9bafcc-30d1-4538-89c2-ce82c1073e1a",
   "metadata": {
    "jp-MarkdownHeadingCollapsed": true
   },
   "source": [
    "###### bianconi-barabasi"
   ]
  },
  {
   "cell_type": "code",
   "execution_count": null,
   "id": "d364eac9-5b27-4747-a7bb-63ad85907f23",
   "metadata": {},
   "outputs": [],
   "source": [
    "size = total_time*3\n",
    "initial_node_number = 3\n",
    "step_number=size-initial_node_number\n",
    "new_node_link=3"
   ]
  },
  {
   "cell_type": "markdown",
   "id": "3a06ed8c-8cce-4d09-b19f-ce222f11dd9f",
   "metadata": {},
   "source": [
    "##### generating values"
   ]
  },
  {
   "cell_type": "markdown",
   "id": "b084dee9-ba09-4db7-8a79-8a6b24da9642",
   "metadata": {
    "jp-MarkdownHeadingCollapsed": true
   },
   "source": [
    "###### poisson pareto process"
   ]
  },
  {
   "cell_type": "code",
   "execution_count": null,
   "id": "b3f93cd8-592b-4851-88d7-48cf15f57a44",
   "metadata": {
    "scrolled": true
   },
   "outputs": [],
   "source": [
    "ppbp_sim = PoissonParetoBurstProcessSimulator(total_time=total_time, lam_list=lam_list, hurst_list=hurst_list, burst_duration_mean=burst_duration_mean, has_pre_burst=has_pre_burst, least_interval_length=None)\n",
    "sim_res = ppbp_sim.simulate()"
   ]
  },
  {
   "cell_type": "code",
   "execution_count": null,
   "id": "a53b019c-8fb0-4391-bbc8-e5fd11bb8afd",
   "metadata": {},
   "outputs": [],
   "source": [
    "probabilities = sim_res[0][0]"
   ]
  },
  {
   "cell_type": "markdown",
   "id": "a7b1d403-6490-4ec3-80cb-439e062d2d29",
   "metadata": {
    "jp-MarkdownHeadingCollapsed": true
   },
   "source": [
    "###### bianconi-barabasi"
   ]
  },
  {
   "cell_type": "code",
   "execution_count": null,
   "id": "3bf1aa2d-3b7c-414b-a863-e634b0f35270",
   "metadata": {
    "scrolled": true
   },
   "outputs": [],
   "source": [
    "bbpp_prob = BianconiBarabashiPP_Probability(initial_node_number=initial_node_number, step_number=step_number, new_node_link=new_node_link, probabilities=probabilities)"
   ]
  },
  {
   "cell_type": "markdown",
   "id": "03c9ea8f-ebd6-435c-9c9b-4b0530752e50",
   "metadata": {
    "jp-MarkdownHeadingCollapsed": true
   },
   "source": [
    "##### drawing results"
   ]
  },
  {
   "cell_type": "markdown",
   "id": "03e1c88e-0507-4412-a89e-cb8379a411b2",
   "metadata": {
    "jp-MarkdownHeadingCollapsed": true
   },
   "source": [
    "###### degree distribution"
   ]
  },
  {
   "cell_type": "code",
   "execution_count": null,
   "id": "a3429d82-a6a9-4988-b2d6-1badb336fdde",
   "metadata": {
    "scrolled": true
   },
   "outputs": [],
   "source": [
    "bbpp_prob.draw_degree_distribution()"
   ]
  },
  {
   "cell_type": "markdown",
   "id": "8eed823c-ac67-4fa1-8447-d2d498f10846",
   "metadata": {
    "jp-MarkdownHeadingCollapsed": true
   },
   "source": [
    "###### graph"
   ]
  },
  {
   "cell_type": "code",
   "execution_count": null,
   "id": "530e8be1-31c2-4fae-8a74-671270f1800b",
   "metadata": {
    "scrolled": true
   },
   "outputs": [],
   "source": [
    "bbpp_prob.draw_graph()"
   ]
  },
  {
   "cell_type": "markdown",
   "id": "48ae34db-525f-4c12-8ede-6e293f48236b",
   "metadata": {
    "jp-MarkdownHeadingCollapsed": true
   },
   "source": [
    "#### paretian-poisson process from unified model"
   ]
  },
  {
   "cell_type": "markdown",
   "id": "7fec2066-9c8e-4a06-8075-91a8b7db7fb3",
   "metadata": {
    "jp-MarkdownHeadingCollapsed": true
   },
   "source": [
    "##### parameters"
   ]
  },
  {
   "cell_type": "markdown",
   "id": "dc80b0c0-a99e-43bf-9579-a6993bc63b56",
   "metadata": {
    "jp-MarkdownHeadingCollapsed": true
   },
   "source": [
    "###### paretian-poisson process"
   ]
  },
  {
   "cell_type": "code",
   "execution_count": null,
   "id": "b0c79aaa-118a-4cec-b019-41ae47dcb922",
   "metadata": {},
   "outputs": [],
   "source": [
    "def power_law_trajectory_explosion_time(initial_value, specific_initial_value, epsiolon): # F(u)\n",
    "    return initial_value / np.power(np.power(specific_initial_value/initial_value, -epsilon)-1, 1.0/epsilon)\n",
    "\n",
    "largest_initial_val = 0.001 # v in paper\n",
    "size = 1000\n",
    "epsilon = 1.0\n",
    "c = 1\n",
    "start_interval = 0.99"
   ]
  },
  {
   "cell_type": "markdown",
   "id": "602b9192-2f26-4e30-8144-4d6c796787b7",
   "metadata": {
    "jp-MarkdownHeadingCollapsed": true
   },
   "source": [
    "###### bianconi-barabasi"
   ]
  },
  {
   "cell_type": "code",
   "execution_count": null,
   "id": "780dde1f-57a3-42af-b852-5f1a7c4b6d04",
   "metadata": {},
   "outputs": [],
   "source": [
    "initial_node_number = 3\n",
    "step_number=size-initial_node_number\n",
    "new_node_link=3"
   ]
  },
  {
   "cell_type": "markdown",
   "id": "0f9d50ac-e4cc-4815-83ba-895b28d2a5f1",
   "metadata": {
    "jp-MarkdownHeadingCollapsed": true
   },
   "source": [
    "##### generatin values"
   ]
  },
  {
   "cell_type": "markdown",
   "id": "1682607a-f183-4978-96a6-c9f4bd68ece3",
   "metadata": {
    "jp-MarkdownHeadingCollapsed": true
   },
   "source": [
    "###### paretian-poisson process"
   ]
  },
  {
   "cell_type": "code",
   "execution_count": null,
   "id": "0e94007a-4a84-442d-a64a-bfdeca5c2679",
   "metadata": {},
   "outputs": [],
   "source": [
    "initial_value_list = np.random.uniform(start_interval, largest_initial_val, size) * largest_initial_val\n",
    "\n",
    "result = [power_law_trajectory_explosion_time(largest_initial_val, initial_value, epsilon) for initial_value in initial_value_list]"
   ]
  },
  {
   "cell_type": "code",
   "execution_count": null,
   "id": "b929c770-a5eb-4554-b3d5-f7f64c273c5a",
   "metadata": {},
   "outputs": [],
   "source": [
    "probabilities = result"
   ]
  },
  {
   "cell_type": "markdown",
   "id": "9b00c3e6-30a0-44cc-b41e-4b71834f4bc3",
   "metadata": {
    "jp-MarkdownHeadingCollapsed": true
   },
   "source": [
    "###### bianconi-barabasi"
   ]
  },
  {
   "cell_type": "code",
   "execution_count": null,
   "id": "57f67546-dad7-4212-81cc-b8abeddb0727",
   "metadata": {
    "scrolled": true
   },
   "outputs": [],
   "source": [
    "bbpp_prob = BianconiBarabashiPP_Probability(initial_node_number=initial_node_number, step_number=step_number, new_node_link=new_node_link, probabilities=probabilities)"
   ]
  },
  {
   "cell_type": "markdown",
   "id": "6aff7b43-c652-4eb1-ba77-89fdbe74268c",
   "metadata": {
    "jp-MarkdownHeadingCollapsed": true
   },
   "source": [
    "##### drawing results"
   ]
  },
  {
   "cell_type": "markdown",
   "id": "d0fbf946-468b-4039-a990-1e396d8ac555",
   "metadata": {
    "jp-MarkdownHeadingCollapsed": true
   },
   "source": [
    "###### degree distribution"
   ]
  },
  {
   "cell_type": "code",
   "execution_count": null,
   "id": "2f2fc624-68cc-4be4-8cae-a2c3d9a08ba4",
   "metadata": {
    "scrolled": true
   },
   "outputs": [],
   "source": [
    "bbpp_prob.draw_degree_distribution()"
   ]
  },
  {
   "cell_type": "markdown",
   "id": "63b8281d-1b29-4fac-9608-91219a68f53c",
   "metadata": {
    "jp-MarkdownHeadingCollapsed": true
   },
   "source": [
    "###### graph"
   ]
  },
  {
   "cell_type": "code",
   "execution_count": null,
   "id": "bb62d17f-52d6-4cc2-8901-6da22fa62096",
   "metadata": {
    "scrolled": true
   },
   "outputs": [],
   "source": [
    "bbpp_prob.draw_graph()"
   ]
  },
  {
   "cell_type": "markdown",
   "id": "677062b2-8267-4e18-adcd-1207bc034103",
   "metadata": {
    "jp-MarkdownHeadingCollapsed": true
   },
   "source": [
    "#### paretian-poisson process our model"
   ]
  },
  {
   "cell_type": "markdown",
   "id": "60409bfe-c4ad-418c-b006-d3a78e17fce9",
   "metadata": {
    "jp-MarkdownHeadingCollapsed": true
   },
   "source": [
    "##### parameters"
   ]
  },
  {
   "cell_type": "markdown",
   "id": "0ff77688-9c28-45d6-8d40-e10714c3e39c",
   "metadata": {
    "jp-MarkdownHeadingCollapsed": true
   },
   "source": [
    "###### pareto-poisson"
   ]
  },
  {
   "cell_type": "code",
   "execution_count": null,
   "id": "a841f6ac-183b-416d-a099-74acbaf08b31",
   "metadata": {},
   "outputs": [],
   "source": [
    "def equation3(U, v, epsilon):\n",
    "    return v / np.power(np.power(U, -epsilon) - 1.0 , 1.0/epsilon)\n",
    "\n",
    "def equation5(data, c, epsilon):\n",
    "    return c * epsilon / np.power(data, 1.0 + epsilon)\n",
    "\n",
    "def generate_our_pareto_poisson(v, epsilon, c, size, should_sort=False):\n",
    "    U = np.random.uniform(0.0, 1.0, size-1) * v\n",
    "    U = np.append(U, v)\n",
    "\n",
    "    if should_sort:\n",
    "        U = np.sort(U)\n",
    "    \n",
    "    X = equation3(U, v, epsilon)\n",
    "    return equation5(X, c, epsilon)\n",
    "\n",
    "v = .9# v in the paper\n",
    "size = 1000\n",
    "epsilon = 1.\n",
    "c = 1.\n",
    "\n",
    "final_min_value = 1\n",
    "final_max_value = 40"
   ]
  },
  {
   "cell_type": "markdown",
   "id": "359e0816-bb08-4e2e-82bd-03267c73dcf1",
   "metadata": {
    "jp-MarkdownHeadingCollapsed": true
   },
   "source": [
    "###### bianconi-barabasi"
   ]
  },
  {
   "cell_type": "code",
   "execution_count": null,
   "id": "885412be-f010-4d0c-99a1-457aeb0cd5c6",
   "metadata": {},
   "outputs": [],
   "source": [
    "initial_node_number = 3\n",
    "step_number=size-initial_node_number\n",
    "new_node_link=3"
   ]
  },
  {
   "cell_type": "markdown",
   "id": "4ac1c7a1-b150-4dd3-a23b-fd1d9c3a2e58",
   "metadata": {
    "jp-MarkdownHeadingCollapsed": true
   },
   "source": [
    "##### generating values"
   ]
  },
  {
   "cell_type": "markdown",
   "id": "1e4a67a1-0c1f-44a3-922b-c94c2bfcebc0",
   "metadata": {
    "jp-MarkdownHeadingCollapsed": true
   },
   "source": [
    "###### pareto-poisson"
   ]
  },
  {
   "cell_type": "code",
   "execution_count": null,
   "id": "e7704689-ffa0-4c42-94b9-9e2454d81f93",
   "metadata": {},
   "outputs": [],
   "source": [
    "result = generate_our_pareto_poisson(v, epsilon, c, size, should_sort=True)"
   ]
  },
  {
   "cell_type": "code",
   "execution_count": null,
   "id": "565a38cd-87a7-41f3-91b5-bd89fdd8a9fa",
   "metadata": {},
   "outputs": [],
   "source": [
    "probabilities = result"
   ]
  },
  {
   "cell_type": "markdown",
   "id": "c06d7ad4-09f8-4e6c-9c0c-26b386a0c7a7",
   "metadata": {
    "jp-MarkdownHeadingCollapsed": true
   },
   "source": [
    "###### bianconi-barabasi"
   ]
  },
  {
   "cell_type": "code",
   "execution_count": null,
   "id": "96f7f057-7b31-456a-ba7e-5fabe79b5b49",
   "metadata": {},
   "outputs": [],
   "source": [
    "bbpp_prob = BianconiBarabashiPP_Probability(initial_node_number=initial_node_number, step_number=step_number, new_node_link=new_node_link, probabilities=probabilities)"
   ]
  },
  {
   "cell_type": "markdown",
   "id": "83837f73-492a-4d2f-802b-5750789b9121",
   "metadata": {
    "jp-MarkdownHeadingCollapsed": true
   },
   "source": [
    "##### drawing plot"
   ]
  },
  {
   "cell_type": "markdown",
   "id": "8a9c55f6-174c-45a2-a7a2-59e357f5a070",
   "metadata": {
    "jp-MarkdownHeadingCollapsed": true
   },
   "source": [
    "###### degree distribution"
   ]
  },
  {
   "cell_type": "code",
   "execution_count": null,
   "id": "d394ace6-1588-42c2-8565-8c1e695706ec",
   "metadata": {
    "scrolled": true
   },
   "outputs": [],
   "source": [
    "bbpp_prob.draw_degree_distribution()"
   ]
  },
  {
   "cell_type": "markdown",
   "id": "34b083eb-cd40-4b9b-9397-30a74dd1112c",
   "metadata": {
    "jp-MarkdownHeadingCollapsed": true
   },
   "source": [
    "###### graph"
   ]
  },
  {
   "cell_type": "code",
   "execution_count": null,
   "id": "4e7032b8-62fa-4694-b6b2-eb33a1a34f37",
   "metadata": {
    "scrolled": true
   },
   "outputs": [],
   "source": [
    "bbpp_prob.draw_graph()"
   ]
  }
 ],
 "metadata": {
  "kernelspec": {
   "display_name": "Python 3 (ipykernel)",
   "language": "python",
   "name": "python3"
  },
  "language_info": {
   "codemirror_mode": {
    "name": "ipython",
    "version": 3
   },
   "file_extension": ".py",
   "mimetype": "text/x-python",
   "name": "python",
   "nbconvert_exporter": "python",
   "pygments_lexer": "ipython3",
   "version": "3.12.0"
  }
 },
 "nbformat": 4,
 "nbformat_minor": 5
}
