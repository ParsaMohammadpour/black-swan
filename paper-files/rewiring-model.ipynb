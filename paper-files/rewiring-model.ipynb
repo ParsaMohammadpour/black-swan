{
 "cells": [
  {
   "cell_type": "markdown",
   "id": "31e19924-bdc1-4807-9486-62499a2922bf",
   "metadata": {
    "jp-MarkdownHeadingCollapsed": true
   },
   "source": [
    "###### installing some packages"
   ]
  },
  {
   "cell_type": "code",
   "execution_count": null,
   "id": "2e441de4-e28d-42b8-830e-5cb8aa23954e",
   "metadata": {},
   "outputs": [],
   "source": [
    "! pip install -U scikit-learn scipy matplotlib"
   ]
  },
  {
   "cell_type": "markdown",
   "id": "25ec9d79-0df4-4407-af5e-675212564662",
   "metadata": {
    "jp-MarkdownHeadingCollapsed": true
   },
   "source": [
    "###### imports"
   ]
  },
  {
   "cell_type": "code",
   "execution_count": null,
   "id": "590c3f01-05b8-4142-9bfb-76234bfeaee2",
   "metadata": {},
   "outputs": [],
   "source": [
    "import numpy as np\n",
    "import matplotlib.pyplot as plt\n",
    "import seaborn as sns\n",
    "import pandas as pd\n",
    "from matplotlib import transforms\n",
    "import scipy\n",
    "import scipy.stats as st\n",
    "from scipy.integrate import odeint\n",
    "import networkx as nx\n",
    "import random\n",
    "import matplotlib.colors as mcolors\n",
    "import matplotlib.cm as cm\n",
    "from SequenceGenerator import MultiSequenceGenerator\n",
    "from PoissonParetoSimulator import PoissonParetoBurstProcessSimulator\n",
    "import matplotlib.mlab as mlab\n",
    "from sklearn.neighbors import KernelDensity\n",
    "import copy"
   ]
  },
  {
   "cell_type": "markdown",
   "id": "025bad90-d8e2-40c1-ab1d-1e858072333b",
   "metadata": {
    "jp-MarkdownHeadingCollapsed": true
   },
   "source": [
    "# Rewiring model graph"
   ]
  },
  {
   "cell_type": "markdown",
   "id": "f1c3b0b4-9941-4db6-8114-889b42899336",
   "metadata": {
    "jp-MarkdownHeadingCollapsed": true
   },
   "source": [
    "## implementation"
   ]
  },
  {
   "cell_type": "code",
   "execution_count": null,
   "id": "9fc06969-bbf4-4542-b1a9-aab9c51b73f7",
   "metadata": {},
   "outputs": [],
   "source": [
    "class WiringModelGraph():\n",
    "    def draw_graph_for_time_slot(self):\n",
    "        fig = plt.figure(figsize=(50, 50))\n",
    "        degrees = np.array([self.graph.degree(n) for n in self.graph.nodes()])\n",
    "        self.degree_per_slot.append(degrees)\n",
    "        node_size = degrees*100\n",
    "        \n",
    "        pos=nx.spring_layout(self.graph, k=0.15, iterations=20)\n",
    "        cmap=plt.cm.viridis\n",
    "        \n",
    "        nodes = nx.draw_networkx_nodes(self.graph, pos, node_size=node_size, node_color=node_size, cmap=cmap)\n",
    "        edges = nx.draw_networkx_edges(self.graph, pos)\n",
    "        \n",
    "        plt.colorbar(nodes)\n",
    "        plt.axis('off')\n",
    "        plt.show()\n",
    "\n",
    "\n",
    "    def draw_degree_distribution_for_time_slot(self):\n",
    "        degree_distribution = np.array([self.graph.degree(n) for n in self.graph.nodes()])\n",
    "        sns.displot(degree_distribution, kde=True)\n",
    "        plt.title('degree distribution')\n",
    "        plt.xlabel('degree')\n",
    "        plt.ylabel('occurance of each degree')\n",
    "        plt.show()\n",
    "\n",
    "    \n",
    "    \n",
    "    def rewire_graph(self):\n",
    "        time_intervals = int(self.rewiring_number/self.time_slot_number)\n",
    "        time_slots = list(range(0, self.rewiring_number+1, time_intervals))\n",
    "\n",
    "        for iteration_number in range(self.rewiring_number):\n",
    "            edge_to_rewire = random.choice(list(self.graph.edges()))\n",
    "            node_i, node_j = edge_to_rewire\n",
    "\n",
    "            node_i_connected_nodes = [edge[1] for edge in self.graph.edges(node_i)]\n",
    "            node_i_connected_nodes.append(node_i)\n",
    "\n",
    "            graph_nodes = list(self.graph.nodes)\n",
    "            degrees = np.array([self.graph.degree(n) for n in graph_nodes])\n",
    "            probability = self.fitness * (degrees + 1)\n",
    "\n",
    "            for connected_node in node_i_connected_nodes:\n",
    "                index = graph_nodes.index(connected_node)\n",
    "                graph_nodes.pop(index)\n",
    "                probability = np.delete(probability, index)\n",
    "\n",
    "            probability_sum = np.cumsum(probability)\n",
    "            random_number = np.random.uniform(0.0, probability_sum[len(probability_sum)-1])\n",
    "            node_m_index = sum(i < random_number for i in probability_sum)\n",
    "\n",
    "            node_m = graph_nodes[node_m_index]\n",
    "            self.graph.remove_edge(*edge_to_rewire)\n",
    "            self.graph.add_edge(node_i, node_m)\n",
    "            \n",
    "            if self.show_revolution and iteration_number in time_slots:\n",
    "                print(f'iteration_number: {iteration_number}')\n",
    "                self.draw_graph_for_time_slot()\n",
    "                self.draw_degree_distribution_for_time_slot()\n",
    "                time_slots = time_slots[1:]\n",
    "        \n",
    "    \n",
    "    def __init__(self, node_number=100, edge_probability=0.5, fitness=np.array([]), rewiring_number=None, time_slot_number=10, seed=None, show_revolution=True):\n",
    "        self.node_number = node_number\n",
    "        self.edge_probability = edge_probability\n",
    "        self.fitness = fitness\n",
    "        self.time_slot_number = time_slot_number\n",
    "        self.rewiring_number = rewiring_number if rewiring_number != None else np.power(node_number, 2)\n",
    "        self.seed = seed if seed != None else random.randint(-100000000, 100000000)\n",
    "        self.show_revolution = show_revolution\n",
    "        self.graph = nx.erdos_renyi_graph(self.node_number, self.edge_probability, seed=self.seed)\n",
    "        self.degree_per_slot = []\n",
    "        self.rewire_graph()\n",
    "        self.set_degree_distribution()\n",
    "        self.draw_graph()\n",
    "\n",
    "    def set_degree_distribution(self):\n",
    "        self.degree_distribution = np.array([self.graph.degree(n) for n in self.graph.nodes()])\n",
    "\n",
    "    def draw_degree_distribution(self, fitness_name=None):\n",
    "        sns.displot(self.degree_distribution, kde=True)\n",
    "        plt.title('degree distribution')\n",
    "        plt.xlabel('degree')\n",
    "        plt.ylabel('occurance of each degree')\n",
    "        if fitness_name != None:\n",
    "            plt.savefig(f'images/{fitness_name}-as-fitness-degree-distribution.jpg')\n",
    "        plt.show()\n",
    "\n",
    "        sns.displot(self.degree_distribution, kde=True)\n",
    "        plt.title('degree distribution semilog')\n",
    "        plt.xlabel('degree')\n",
    "        plt.ylabel('occurance of each degree')\n",
    "        plt.semilogy()\n",
    "        plt.show()\n",
    "\n",
    "        sns.displot(self.degree_distribution, kde=True)\n",
    "        plt.title('degree distribution log-log')\n",
    "        plt.xlabel('degree')\n",
    "        plt.ylabel('occurance of each degree')\n",
    "        plt.xscale('log')\n",
    "        plt.yscale('log')\n",
    "        plt.show()\n",
    "\n",
    "    def draw_graph(self, fitness_name=None):\n",
    "        fig = plt.figure(figsize=(50, 50))\n",
    "        node_size = self.degree_distribution*100\n",
    "        \n",
    "        pos=nx.spring_layout(self.graph, k=0.15, iterations=20)\n",
    "        cmap=plt.cm.viridis\n",
    "        \n",
    "        nodes = nx.draw_networkx_nodes(self.graph, pos, node_size=node_size, node_color=node_size, cmap=cmap)\n",
    "        edges = nx.draw_networkx_edges(self.graph, pos)\n",
    "        \n",
    "        plt.colorbar(nodes)\n",
    "        plt.axis('off')\n",
    "        if fitness_name != None:\n",
    "            plt.savefig(f'images/{fitness_name}-as-fitness-graph.jpg')\n",
    "        plt.show()"
   ]
  },
  {
   "cell_type": "markdown",
   "id": "d448076d-e7e4-4c7d-a765-f3ca79a0a0fa",
   "metadata": {
    "jp-MarkdownHeadingCollapsed": true
   },
   "source": [
    "## simulation"
   ]
  },
  {
   "cell_type": "markdown",
   "id": "9fbb8865-d461-40e2-8075-842df25ab503",
   "metadata": {},
   "source": [
    "holding values to compare at the end"
   ]
  },
  {
   "cell_type": "code",
   "execution_count": null,
   "id": "ddc7c136-ab4a-48ae-997b-ff13732f0772",
   "metadata": {},
   "outputs": [],
   "source": [
    "graph_holder_dic = {}"
   ]
  },
  {
   "cell_type": "markdown",
   "id": "0769be71-0805-47ff-b79b-5497c0174670",
   "metadata": {
    "jp-MarkdownHeadingCollapsed": true
   },
   "source": [
    "### pareto as fitness"
   ]
  },
  {
   "cell_type": "markdown",
   "id": "62fa709b-f31e-439e-992c-4ea11288206d",
   "metadata": {
    "jp-MarkdownHeadingCollapsed": true
   },
   "source": [
    "###### parameters"
   ]
  },
  {
   "cell_type": "code",
   "execution_count": null,
   "id": "f04e8017-c575-4d0c-a543-af4a4c2e1c9a",
   "metadata": {},
   "outputs": [],
   "source": [
    "a, m = 3., 2.  # shape and mode\n",
    "node_number = 1000\n",
    "edge_probability = 0.01\n",
    "fitness = np.array([])\n",
    "rewiring_number = 5000\n",
    "time_slot_number = 10\n",
    "show_revolution = True\n",
    "seed = random.randint(-10000000, 10000000)"
   ]
  },
  {
   "cell_type": "markdown",
   "id": "f9cb6286-59c6-4ada-90b6-e78704227a43",
   "metadata": {
    "jp-MarkdownHeadingCollapsed": true
   },
   "source": [
    "###### generating values"
   ]
  },
  {
   "cell_type": "code",
   "execution_count": null,
   "id": "4d72b56e-cee8-4927-a501-29c6ff657ffe",
   "metadata": {
    "scrolled": true
   },
   "outputs": [],
   "source": [
    "fitness = (np.random.pareto(a, node_number) + 1) * m\n",
    "\n",
    "wmg = WiringModelGraph(node_number=node_number, edge_probability=edge_probability, fitness=fitness, rewiring_number=rewiring_number, time_slot_number=time_slot_number, seed=seed, show_revolution=show_revolution)\n",
    "\n",
    "graph_holder_dic['pareto'] = copy.deepcopy(wmg)"
   ]
  },
  {
   "cell_type": "markdown",
   "id": "a26a321e-1d57-4ccd-bc7f-f4eebdd614ba",
   "metadata": {
    "jp-MarkdownHeadingCollapsed": true
   },
   "source": [
    "###### drawing degree distribution"
   ]
  },
  {
   "cell_type": "code",
   "execution_count": null,
   "id": "06b18f35-3546-4627-ad28-31fe81ce8b48",
   "metadata": {
    "scrolled": true
   },
   "outputs": [],
   "source": [
    "wmg.draw_degree_distribution('pareto')"
   ]
  },
  {
   "cell_type": "markdown",
   "id": "a45c1efb-dea5-438b-b160-4b747c901b53",
   "metadata": {
    "jp-MarkdownHeadingCollapsed": true
   },
   "source": [
    "###### drawing graph"
   ]
  },
  {
   "cell_type": "code",
   "execution_count": null,
   "id": "3b23943b-d165-444a-9652-321a97aa30fa",
   "metadata": {},
   "outputs": [],
   "source": [
    "wmg.draw_graph('pareto')"
   ]
  },
  {
   "cell_type": "markdown",
   "id": "682296b4-005e-48e7-ae15-4aed9bc135ac",
   "metadata": {
    "jp-MarkdownHeadingCollapsed": true
   },
   "source": [
    "### gamma as fitness"
   ]
  },
  {
   "cell_type": "markdown",
   "id": "9b6e98a5-b622-454d-bff5-4f259a96e3fd",
   "metadata": {
    "jp-MarkdownHeadingCollapsed": true
   },
   "source": [
    "###### parameters"
   ]
  },
  {
   "cell_type": "code",
   "execution_count": null,
   "id": "1b29e888-9278-4722-ab67-395c1add8798",
   "metadata": {},
   "outputs": [],
   "source": [
    "shapea, scale = 2., 2.  # shape and mode\n",
    "node_number = 1000\n",
    "edge_probability = 0.01\n",
    "fitness = np.array([])\n",
    "rewiring_number = 5000\n",
    "time_slot_number = 10\n",
    "show_revolution = True\n",
    "seed = random.randint(-10000000, 10000000)"
   ]
  },
  {
   "cell_type": "markdown",
   "id": "b5ff6367-a1cd-4e18-8e5f-bc014c6566c9",
   "metadata": {
    "jp-MarkdownHeadingCollapsed": true
   },
   "source": [
    "###### generating values"
   ]
  },
  {
   "cell_type": "code",
   "execution_count": null,
   "id": "cb7fcec0-125a-4470-a030-3019fa432755",
   "metadata": {
    "scrolled": true
   },
   "outputs": [],
   "source": [
    "fitness = np.random.gamma(shape=shapea, scale=scale, size=node_number)\n",
    "\n",
    "wmg = WiringModelGraph(node_number=node_number, edge_probability=edge_probability, fitness=fitness, rewiring_number=rewiring_number, time_slot_number=time_slot_number, seed=seed, show_revolution=show_revolution)\n",
    "\n",
    "graph_holder_dic['gamma'] = copy.deepcopy(wmg)"
   ]
  },
  {
   "cell_type": "markdown",
   "id": "97646f85-6071-447c-a4e9-54b341225aef",
   "metadata": {
    "jp-MarkdownHeadingCollapsed": true
   },
   "source": [
    "###### drawing degree distribution"
   ]
  },
  {
   "cell_type": "code",
   "execution_count": null,
   "id": "96c14e41-9e84-495b-a6b7-9bfd46b81171",
   "metadata": {},
   "outputs": [],
   "source": [
    "wmg.draw_degree_distribution('gamma')"
   ]
  },
  {
   "cell_type": "markdown",
   "id": "c74e9b90-a68f-4fb6-9e0c-3fc6e0544818",
   "metadata": {
    "jp-MarkdownHeadingCollapsed": true
   },
   "source": [
    "###### draw graph"
   ]
  },
  {
   "cell_type": "code",
   "execution_count": null,
   "id": "19100d01-791c-4551-aa96-6563db1c1f51",
   "metadata": {},
   "outputs": [],
   "source": [
    "wmg.draw_graph('gamma')"
   ]
  },
  {
   "cell_type": "markdown",
   "id": "41abf18f-5132-41a5-bc41-a8a4466dee4c",
   "metadata": {
    "jp-MarkdownHeadingCollapsed": true
   },
   "source": [
    "### normal as fitness"
   ]
  },
  {
   "cell_type": "markdown",
   "id": "e8a9fc61-255a-4a99-8a37-1060e6cd101b",
   "metadata": {
    "jp-MarkdownHeadingCollapsed": true
   },
   "source": [
    "###### parameters"
   ]
  },
  {
   "cell_type": "code",
   "execution_count": null,
   "id": "583133a7-ca1e-4a14-a52a-5f5b742747b3",
   "metadata": {},
   "outputs": [],
   "source": [
    "mu, sigma = 10, 0.1 # mean and standard deviation\n",
    "node_number = 1000\n",
    "edge_probability = 0.01\n",
    "fitness = np.array([])\n",
    "rewiring_number = 5000\n",
    "time_slot_number = 10\n",
    "show_revolution = True\n",
    "seed = random.randint(-10000000, 10000000)"
   ]
  },
  {
   "cell_type": "markdown",
   "id": "7bcb5ba6-7fb8-4e44-a412-3c381383a4f9",
   "metadata": {
    "jp-MarkdownHeadingCollapsed": true
   },
   "source": [
    "###### generating values"
   ]
  },
  {
   "cell_type": "code",
   "execution_count": null,
   "id": "c8e5d943-0ef8-45b7-a895-75a02ca1e5d3",
   "metadata": {
    "scrolled": true
   },
   "outputs": [],
   "source": [
    "fitness = np.random.normal(mu, sigma, node_number)\n",
    "\n",
    "wmg = WiringModelGraph(node_number=node_number, edge_probability=edge_probability, fitness=fitness, rewiring_number=rewiring_number, time_slot_number=time_slot_number, seed=seed, show_revolution=show_revolution)\n",
    "\n",
    "graph_holder_dic['normal'] = copy.deepcopy(wmg)"
   ]
  },
  {
   "cell_type": "markdown",
   "id": "1cdd0e91-59d0-4f09-9481-3ef162ba5c3b",
   "metadata": {
    "jp-MarkdownHeadingCollapsed": true
   },
   "source": [
    "###### drawing degree distribution"
   ]
  },
  {
   "cell_type": "code",
   "execution_count": null,
   "id": "e4e307a4-9d74-4696-a747-13fbbe421b1f",
   "metadata": {},
   "outputs": [],
   "source": [
    "wmg.draw_degree_distribution('normal')"
   ]
  },
  {
   "cell_type": "markdown",
   "id": "db589dab-2cd0-44bc-88ad-7bd33b1f8272",
   "metadata": {
    "jp-MarkdownHeadingCollapsed": true
   },
   "source": [
    "###### drawing graph"
   ]
  },
  {
   "cell_type": "code",
   "execution_count": null,
   "id": "8563468a-1bc2-4be5-b9d7-7947b51eb203",
   "metadata": {},
   "outputs": [],
   "source": [
    "wmg.draw_graph('normal')"
   ]
  },
  {
   "cell_type": "markdown",
   "id": "31456089-3858-4e75-a51b-d70661222e2f",
   "metadata": {
    "jp-MarkdownHeadingCollapsed": true
   },
   "source": [
    "### log-normal"
   ]
  },
  {
   "cell_type": "markdown",
   "id": "e2e348b7-ca95-4556-a09e-5c0770566c6d",
   "metadata": {
    "jp-MarkdownHeadingCollapsed": true
   },
   "source": [
    "###### parameters"
   ]
  },
  {
   "cell_type": "code",
   "execution_count": null,
   "id": "ef169193-eee2-4e6c-85f8-47d08b9a4c52",
   "metadata": {},
   "outputs": [],
   "source": [
    "mu, sigma = 3., 1. # mean and standard deviation\n",
    "node_number = 1000\n",
    "edge_probability = 0.01\n",
    "fitness = np.array([])\n",
    "rewiring_number = 5000\n",
    "time_slot_number = 10\n",
    "show_revolution = True\n",
    "seed = random.randint(-10000000, 10000000)"
   ]
  },
  {
   "cell_type": "markdown",
   "id": "47af0c83-ac21-4087-8b1d-ae3a83717bdc",
   "metadata": {
    "jp-MarkdownHeadingCollapsed": true
   },
   "source": [
    "###### generating values"
   ]
  },
  {
   "cell_type": "code",
   "execution_count": null,
   "id": "5e1bbaf7-4df2-4f16-93d1-99ae35009812",
   "metadata": {
    "scrolled": true
   },
   "outputs": [],
   "source": [
    "fitness = np.random.lognormal(mu, sigma, node_number)\n",
    "\n",
    "wmg = WiringModelGraph(node_number=node_number, edge_probability=edge_probability, fitness=fitness, rewiring_number=rewiring_number, time_slot_number=time_slot_number, seed=seed, show_revolution=show_revolution)\n",
    "\n",
    "graph_holder_dic['log-normal'] = copy.deepcopy(wmg)"
   ]
  },
  {
   "cell_type": "markdown",
   "id": "7bba5c78-6810-4b66-b4f4-e03ee2eaa795",
   "metadata": {
    "jp-MarkdownHeadingCollapsed": true
   },
   "source": [
    "###### drawing degree distribution"
   ]
  },
  {
   "cell_type": "code",
   "execution_count": null,
   "id": "801c95d8-0b7d-4906-a569-cc625b3658fc",
   "metadata": {},
   "outputs": [],
   "source": [
    "wmg.draw_degree_distribution('log-normal')"
   ]
  },
  {
   "cell_type": "markdown",
   "id": "6fd03b3c-d549-4153-9bad-11db573c9446",
   "metadata": {
    "jp-MarkdownHeadingCollapsed": true
   },
   "source": [
    "###### drawing graph"
   ]
  },
  {
   "cell_type": "code",
   "execution_count": null,
   "id": "31d1c671-f80d-497d-b6cd-890eddc7c2f1",
   "metadata": {
    "scrolled": true
   },
   "outputs": [],
   "source": [
    "wmg.draw_graph('log-normal')"
   ]
  },
  {
   "cell_type": "markdown",
   "id": "a7331488-f728-405b-a4f6-12bbe012786a",
   "metadata": {
    "jp-MarkdownHeadingCollapsed": true
   },
   "source": [
    "### paretian-poisson burst process"
   ]
  },
  {
   "cell_type": "markdown",
   "id": "9cbd5cb4-d44b-4cc2-97ed-bc9cf76a5162",
   "metadata": {
    "jp-MarkdownHeadingCollapsed": true
   },
   "source": [
    "##### generating paretian-poisson burst process"
   ]
  },
  {
   "cell_type": "markdown",
   "id": "d0e3e5c4-3fc1-46cf-aef1-c73d7f2e32f3",
   "metadata": {
    "jp-MarkdownHeadingCollapsed": true
   },
   "source": [
    "###### parameters"
   ]
  },
  {
   "cell_type": "code",
   "execution_count": null,
   "id": "ed9b8b47-54d5-4a80-97d7-67000a2f6878",
   "metadata": {},
   "outputs": [],
   "source": [
    "total_time = 333\n",
    "lam_list=[5.0]\n",
    "hurst_list=[0.75]\n",
    "burst_duration_mean = 4.0\n",
    "has_pre_burst = True"
   ]
  },
  {
   "cell_type": "markdown",
   "id": "f6c6b34e-289f-46d0-b811-ae01ba972bf5",
   "metadata": {
    "jp-MarkdownHeadingCollapsed": true
   },
   "source": [
    "###### generating"
   ]
  },
  {
   "cell_type": "code",
   "execution_count": null,
   "id": "15884197-b2e2-432a-8927-531cefbb734a",
   "metadata": {
    "scrolled": true
   },
   "outputs": [],
   "source": [
    "ppbp_sim = PoissonParetoBurstProcessSimulator(total_time=total_time, lam_list=lam_list, hurst_list=hurst_list, burst_duration_mean=burst_duration_mean, has_pre_burst=has_pre_burst, least_interval_length=None)\n",
    "sim_res = ppbp_sim.simulate()"
   ]
  },
  {
   "cell_type": "markdown",
   "id": "c14358bc-ad55-45d5-a762-b8f4503bc69c",
   "metadata": {
    "jp-MarkdownHeadingCollapsed": true
   },
   "source": [
    "##### generating rewiring model graph"
   ]
  },
  {
   "cell_type": "markdown",
   "id": "85685b0d-a12a-45d3-9605-f76d5a07ab64",
   "metadata": {
    "jp-MarkdownHeadingCollapsed": true
   },
   "source": [
    "###### parameters"
   ]
  },
  {
   "cell_type": "code",
   "execution_count": null,
   "id": "d1943a77-25c6-40bb-abaa-b7cc9cb76f90",
   "metadata": {},
   "outputs": [],
   "source": [
    "node_number = total_time * 3\n",
    "edge_probability = 0.01\n",
    "fitness = sim_res[0][0]\n",
    "rewiring_number = 5000\n",
    "time_slot_number = 10\n",
    "show_revolution = True\n",
    "seed = random.randint(-10000000, 10000000)"
   ]
  },
  {
   "cell_type": "markdown",
   "id": "f7a517da-8929-4de0-95c4-9049f5349be4",
   "metadata": {
    "jp-MarkdownHeadingCollapsed": true
   },
   "source": [
    "###### generating values"
   ]
  },
  {
   "cell_type": "code",
   "execution_count": null,
   "id": "eb518dd8-3b1c-4b72-95ac-cb754b84228a",
   "metadata": {
    "scrolled": true
   },
   "outputs": [],
   "source": [
    "wmg = WiringModelGraph(node_number=node_number, edge_probability=edge_probability, fitness=fitness, rewiring_number=rewiring_number, time_slot_number=time_slot_number, seed=seed, show_revolution=show_revolution)\n",
    "\n",
    "graph_holder_dic['paretian-poisson burst process'] = copy.deepcopy(wmg)"
   ]
  },
  {
   "cell_type": "markdown",
   "id": "c9a352b5-4267-4c1a-a39a-c9884cbd1339",
   "metadata": {
    "jp-MarkdownHeadingCollapsed": true
   },
   "source": [
    "###### drawing degree distribution"
   ]
  },
  {
   "cell_type": "code",
   "execution_count": null,
   "id": "d3b215a7-3471-4ecd-87fa-07f77f2dad24",
   "metadata": {},
   "outputs": [],
   "source": [
    "wmg.draw_degree_distribution('paretian-poisson-burst-process')"
   ]
  },
  {
   "cell_type": "markdown",
   "id": "5dd96add-990a-4d54-9775-81e0c3f05ee9",
   "metadata": {
    "jp-MarkdownHeadingCollapsed": true
   },
   "source": [
    "###### drawing graph"
   ]
  },
  {
   "cell_type": "code",
   "execution_count": null,
   "id": "4b2ec571-69af-4b5b-b180-64d15872c1ac",
   "metadata": {},
   "outputs": [],
   "source": [
    "wmg.draw_graph('paretian-poisson-burst-process')"
   ]
  },
  {
   "cell_type": "markdown",
   "id": "af42329d-3da6-44b0-835c-93371ba63aad",
   "metadata": {
    "jp-MarkdownHeadingCollapsed": true
   },
   "source": [
    "### paretian-poisson unified model"
   ]
  },
  {
   "cell_type": "markdown",
   "id": "379f973b-1083-48f7-b509-a182a54284df",
   "metadata": {
    "jp-MarkdownHeadingCollapsed": true
   },
   "source": [
    "##### generating paretian-poisson unified model"
   ]
  },
  {
   "cell_type": "markdown",
   "id": "8050ad50-022e-4a65-aab7-55010b7f8428",
   "metadata": {
    "jp-MarkdownHeadingCollapsed": true
   },
   "source": [
    "###### parameter"
   ]
  },
  {
   "cell_type": "code",
   "execution_count": null,
   "id": "7da746e0-83d4-4d47-833e-4f4117350981",
   "metadata": {},
   "outputs": [],
   "source": [
    "def power_law_trajectory_explosion_time(initial_value, specific_initial_value, epsiolon): # F(u)\n",
    "    return initial_value / np.power(np.power(specific_initial_value/initial_value, -epsilon)-1, 1.0/epsilon)\n",
    "\n",
    "largest_initial_val = 0.001 # v in paper\n",
    "size = 1000\n",
    "epsilon = 1.0\n",
    "c = 1\n",
    "start_interval = 0.99"
   ]
  },
  {
   "cell_type": "markdown",
   "id": "0ada65a4-bd8d-46a0-98e4-868a72e7b7a3",
   "metadata": {
    "jp-MarkdownHeadingCollapsed": true
   },
   "source": [
    "###### generating paretian poisson"
   ]
  },
  {
   "cell_type": "code",
   "execution_count": null,
   "id": "e9b3d513-3847-496b-a474-7d8fb165e183",
   "metadata": {},
   "outputs": [],
   "source": [
    "initial_value_list = np.random.uniform(start_interval, largest_initial_val, size) * largest_initial_val\n",
    "\n",
    "result = [power_law_trajectory_explosion_time(largest_initial_val, initial_value, epsilon) for initial_value in initial_value_list]"
   ]
  },
  {
   "cell_type": "markdown",
   "id": "022e164a-56af-446a-951a-7b3be0e98269",
   "metadata": {
    "jp-MarkdownHeadingCollapsed": true
   },
   "source": [
    "##### generating rewire model graph"
   ]
  },
  {
   "cell_type": "markdown",
   "id": "a50292a2-24fc-4e36-b7c9-2b803c233e8a",
   "metadata": {
    "jp-MarkdownHeadingCollapsed": true
   },
   "source": [
    "###### parameters"
   ]
  },
  {
   "cell_type": "code",
   "execution_count": null,
   "id": "f5753c20-7970-410e-8d6a-db2352dc2c19",
   "metadata": {},
   "outputs": [],
   "source": [
    "node_number = size\n",
    "edge_probability = 0.01\n",
    "fitness = np.array(result)\n",
    "rewiring_number = 5000\n",
    "time_slot_number = 10\n",
    "show_revolution = True\n",
    "seed = random.randint(-10000000, 10000000)"
   ]
  },
  {
   "cell_type": "markdown",
   "id": "6609ec35-0c96-4333-b012-41aefdc04887",
   "metadata": {
    "jp-MarkdownHeadingCollapsed": true
   },
   "source": [
    "###### generating values"
   ]
  },
  {
   "cell_type": "code",
   "execution_count": null,
   "id": "25d221c9-c34a-4199-9ee0-5bccae94ebf7",
   "metadata": {
    "scrolled": true
   },
   "outputs": [],
   "source": [
    "wmg = WiringModelGraph(node_number=node_number, edge_probability=edge_probability, fitness=fitness, rewiring_number=rewiring_number, time_slot_number=time_slot_number, seed=seed, show_revolution=show_revolution)\n",
    "\n",
    "graph_holder_dic['paretian-poisson unified-model'] = copy.deepcopy(wmg)"
   ]
  },
  {
   "cell_type": "markdown",
   "id": "622f8d70-dab4-4486-a7ca-66e05cc599dd",
   "metadata": {
    "jp-MarkdownHeadingCollapsed": true
   },
   "source": [
    "###### drawing degree distribution"
   ]
  },
  {
   "cell_type": "code",
   "execution_count": null,
   "id": "71408302-ec59-4ee6-9461-afbdde4aaa12",
   "metadata": {},
   "outputs": [],
   "source": [
    "wmg.draw_degree_distribution('paretian-poisson-unified-model')"
   ]
  },
  {
   "cell_type": "markdown",
   "id": "01a3a407-5d73-4c07-937e-eedb7b9854b0",
   "metadata": {
    "jp-MarkdownHeadingCollapsed": true
   },
   "source": [
    "###### drawing graph"
   ]
  },
  {
   "cell_type": "code",
   "execution_count": null,
   "id": "3f19bcc2-a6ed-4bb4-aff6-f2fbaaa82d36",
   "metadata": {},
   "outputs": [],
   "source": [
    "wmg.draw_graph('paretian-poisson-unified-model')"
   ]
  },
  {
   "cell_type": "markdown",
   "id": "ebb12356-167d-4291-a024-bf0c57c10c67",
   "metadata": {
    "jp-MarkdownHeadingCollapsed": true
   },
   "source": [
    "### paretian-poisson pareto-poisson"
   ]
  },
  {
   "cell_type": "markdown",
   "id": "5704ca82-5a53-4490-b7b8-03beedb7a0b7",
   "metadata": {
    "jp-MarkdownHeadingCollapsed": true
   },
   "source": [
    "##### generating pareto-poisson our model"
   ]
  },
  {
   "cell_type": "markdown",
   "id": "33b03ed3-4f6a-4932-b375-daf35edb7a4d",
   "metadata": {
    "jp-MarkdownHeadingCollapsed": true
   },
   "source": [
    "###### parameters"
   ]
  },
  {
   "cell_type": "code",
   "execution_count": null,
   "id": "6312b271-028f-4575-a7e2-4f1ca575eea9",
   "metadata": {},
   "outputs": [],
   "source": [
    "def equation3(U, v, epsilon):\n",
    "    return v / np.power(np.power(U, -epsilon) - 1.0 , 1.0/epsilon)\n",
    "\n",
    "def equation5(data, c, epsilon):\n",
    "    return c * epsilon / np.power(data, 1.0 + epsilon)\n",
    "\n",
    "def generate_our_pareto_poisson(v, epsilon, c, size, should_sort=False):\n",
    "    U = np.random.uniform(0.0, 1.0, size-1) * v\n",
    "    U = np.append(U, v)\n",
    "\n",
    "    if should_sort:\n",
    "        U = np.sort(U)\n",
    "    \n",
    "    X = equation3(U, v, epsilon)\n",
    "    return equation5(X, c, epsilon)\n",
    "\n",
    "v = .9# v in the paper\n",
    "size = 1000\n",
    "epsilon = 1.\n",
    "c = 1.\n",
    "\n",
    "final_min_value = 1\n",
    "final_max_value = 40"
   ]
  },
  {
   "cell_type": "markdown",
   "id": "0316313c-9426-441c-96f3-19ba86346774",
   "metadata": {
    "jp-MarkdownHeadingCollapsed": true
   },
   "source": [
    "###### generating pareto-poisson"
   ]
  },
  {
   "cell_type": "code",
   "execution_count": null,
   "id": "684375fb-f07b-4513-8dde-82cd63c6886c",
   "metadata": {},
   "outputs": [],
   "source": [
    "result = generate_our_pareto_poisson(v, epsilon, c, size, should_sort=True)"
   ]
  },
  {
   "cell_type": "markdown",
   "id": "6cf96c01-365f-42f7-9410-b9a50858385e",
   "metadata": {
    "jp-MarkdownHeadingCollapsed": true
   },
   "source": [
    "##### generating rewire model graph"
   ]
  },
  {
   "cell_type": "markdown",
   "id": "9c2ccee8-6b54-4b92-a084-8a5f337663e0",
   "metadata": {
    "jp-MarkdownHeadingCollapsed": true
   },
   "source": [
    "###### parameters"
   ]
  },
  {
   "cell_type": "code",
   "execution_count": null,
   "id": "9e4fba5f-48c2-4cba-9c5c-4217e307970c",
   "metadata": {},
   "outputs": [],
   "source": [
    "node_number = size\n",
    "edge_probability = 0.01\n",
    "fitness = np.array(result)\n",
    "rewiring_number = 5000\n",
    "time_slot_number = 10\n",
    "show_revolution = True\n",
    "seed = random.randint(-10000000, 10000000)"
   ]
  },
  {
   "cell_type": "markdown",
   "id": "0d49379d-2760-4b68-bdc8-129000707dcb",
   "metadata": {
    "jp-MarkdownHeadingCollapsed": true
   },
   "source": [
    "###### generating"
   ]
  },
  {
   "cell_type": "code",
   "execution_count": null,
   "id": "6919a65a-29f7-4cdb-96da-e768cb3a7a1e",
   "metadata": {
    "scrolled": true
   },
   "outputs": [],
   "source": [
    "wmg = WiringModelGraph(node_number=node_number, edge_probability=edge_probability, fitness=fitness, rewiring_number=rewiring_number, time_slot_number=time_slot_number, seed=seed, show_revolution=show_revolution)\n",
    "\n",
    "graph_holder_dic['paretian-poisson our model'] = copy.deepcopy(wmg)"
   ]
  },
  {
   "cell_type": "markdown",
   "id": "833a6abd-e155-47c3-9c7b-1e5d36e95521",
   "metadata": {
    "jp-MarkdownHeadingCollapsed": true
   },
   "source": [
    "###### degree distribution"
   ]
  },
  {
   "cell_type": "code",
   "execution_count": null,
   "id": "63e90cec-ecc7-457c-b11f-237a67efeeb6",
   "metadata": {
    "scrolled": true
   },
   "outputs": [],
   "source": [
    "wmg.draw_degree_distribution()"
   ]
  },
  {
   "cell_type": "markdown",
   "id": "955de70c-261a-470a-bf20-68b5dd2b2d81",
   "metadata": {
    "jp-MarkdownHeadingCollapsed": true
   },
   "source": [
    "###### graph"
   ]
  },
  {
   "cell_type": "code",
   "execution_count": null,
   "id": "a4d0d6f6-faab-4d85-bdbe-64853f2c15aa",
   "metadata": {
    "scrolled": true
   },
   "outputs": [],
   "source": [
    "wmg.draw_graph()"
   ]
  },
  {
   "cell_type": "markdown",
   "id": "aa2b3568-4442-4b5a-baea-63bca4efb873",
   "metadata": {
    "jp-MarkdownHeadingCollapsed": true
   },
   "source": [
    "### comparison"
   ]
  },
  {
   "cell_type": "markdown",
   "id": "ff1bde21-86f6-4efe-815c-26d813713831",
   "metadata": {
    "jp-MarkdownHeadingCollapsed": true
   },
   "source": [
    "###### simple plot"
   ]
  },
  {
   "cell_type": "code",
   "execution_count": null,
   "id": "bb7989b0-25f9-46ff-a819-805bdde25ec0",
   "metadata": {
    "scrolled": true
   },
   "outputs": [],
   "source": [
    "for step_number in range(time_slot_number):\n",
    "    plt.figure(figsize=(12, 8))\n",
    "    step_dict = {}\n",
    "    for fitness_function, graph_holder in graph_holder_dic.items():\n",
    "        step_dict[fitness_function] = graph_holder.degree_per_slot[step_number]\n",
    "\n",
    "    expected_len = 0\n",
    "\n",
    "    for fitness_function, graph_holder in step_dict.items():\n",
    "        expected_len = max(expected_len, len(graph_holder))\n",
    "\n",
    "    for fitness_function, graph_holder in step_dict.items():\n",
    "        if len(graph_holder) < expected_len:\n",
    "            step_dict[fitness_function] = np.append(graph_holder, np.NaN)\n",
    "\n",
    "    step_df = pd.DataFrame.from_dict(step_dict)\n",
    "    sns.displot(data = step_df, stat=\"probability\",height=6,aspect=2.67)\n",
    "    plt.title(f'degree distribution comparison for step: {step_number}')\n",
    "    plt.xlabel(\"Degree\")\n",
    "    plt.ylabel(\"# of Nodes\")\n",
    "    plt.legend(loc='best')\n",
    "    plt.show()"
   ]
  },
  {
   "cell_type": "code",
   "execution_count": null,
   "id": "cfab5c24-ca4d-416e-8567-f2a4838efec1",
   "metadata": {
    "scrolled": true
   },
   "outputs": [],
   "source": [
    "for step_number in range(time_slot_number):\n",
    "    plt.figure(figsize=(12, 8))\n",
    "    step_dict = {}\n",
    "    for fitness_function, graph_holder in graph_holder_dic.items():\n",
    "        step_dict[fitness_function] = graph_holder.degree_per_slot[step_number]\n",
    "\n",
    "    expected_len = 0\n",
    "\n",
    "    for fitness_function, graph_holder in step_dict.items():\n",
    "        expected_len = max(expected_len, len(graph_holder))\n",
    "\n",
    "    for fitness_function, graph_holder in step_dict.items():\n",
    "        if len(graph_holder) < expected_len:\n",
    "            step_dict[fitness_function] = np.append(graph_holder, np.NaN)\n",
    "\n",
    "    step_df = pd.DataFrame(step_dict)\n",
    "    sns.displot(data = step_df, kind=\"kde\",height=6,aspect=2.67)\n",
    "    plt.title(f'degree distribution comparison for step: {step_number}')\n",
    "    plt.xlabel(\"Degree\")\n",
    "    plt.ylabel(\"# of Nodes\")\n",
    "    plt.legend(loc='best')\n",
    "    plt.show()"
   ]
  },
  {
   "cell_type": "code",
   "execution_count": null,
   "id": "228bec31-abf5-44c3-bc4a-18b71c5afaaf",
   "metadata": {
    "scrolled": true
   },
   "outputs": [],
   "source": [
    "for step_number in range(time_slot_number):\n",
    "    plt.figure(figsize=(12, 8))\n",
    "    step_dict = {}\n",
    "    for fitness_function, graph_holder in graph_holder_dic.items():\n",
    "        step_dict[fitness_function] = graph_holder.degree_per_slot[step_number]\n",
    "\n",
    "    expected_len = 0\n",
    "\n",
    "    for fitness_function, graph_holder in step_dict.items():\n",
    "        expected_len = max(expected_len, len(graph_holder))\n",
    "\n",
    "    for fitness_function, graph_holder in step_dict.items():\n",
    "        if len(graph_holder) < expected_len:\n",
    "            step_dict[fitness_function] = np.append(graph_holder, np.NaN)\n",
    "\n",
    "    step_df = pd.DataFrame(step_dict)\n",
    "    sns.displot(data = step_df, kind=\"kde\", fill=True,height=6,aspect=2.67)\n",
    "    plt.title(f'degree distribution comparison for step: {step_number}')\n",
    "    plt.xlabel(\"Degree\")\n",
    "    plt.ylabel(\"# of Nodes\")\n",
    "    plt.legend(loc='best')\n",
    "    plt.show()"
   ]
  },
  {
   "cell_type": "code",
   "execution_count": null,
   "id": "3537de04-e210-473c-820a-b453c71e2398",
   "metadata": {
    "scrolled": true
   },
   "outputs": [],
   "source": [
    "for step_number in range(time_slot_number):\n",
    "    plt.figure(figsize=(12, 8))\n",
    "    step_dict = {}\n",
    "    for fitness_function, graph_holder in graph_holder_dic.items():\n",
    "        step_dict[fitness_function] = graph_holder.degree_per_slot[step_number]\n",
    "\n",
    "    expected_len = 0\n",
    "\n",
    "    for fitness_function, graph_holder in step_dict.items():\n",
    "        expected_len = max(expected_len, len(graph_holder))\n",
    "\n",
    "    for fitness_function, graph_holder in step_dict.items():\n",
    "        if len(graph_holder) < expected_len:\n",
    "            step_dict[fitness_function] = np.append(graph_holder, np.NaN)\n",
    "\n",
    "    step_df = pd.DataFrame(step_dict)\n",
    "    sns.displot(data = step_df, kind=\"kde\", multiple=\"stack\",height=6,aspect=2.67)\n",
    "    plt.title(f'degree distribution comparison for step: {step_number}')\n",
    "    plt.xlabel(\"Degree\")\n",
    "    plt.ylabel(\"# of Nodes\")\n",
    "    plt.legend(loc='best')\n",
    "    plt.show()"
   ]
  },
  {
   "cell_type": "code",
   "execution_count": null,
   "id": "c42d7be0-6336-4cbd-b2b3-cbfa644cd68a",
   "metadata": {
    "scrolled": true
   },
   "outputs": [],
   "source": [
    "for step_number in range(time_slot_number):\n",
    "    plt.figure(figsize=(12, 8))\n",
    "    for fitness_function, graph_holder in graph_holder_dic.items():\n",
    "        plt.plot(np.sort(graph_holder.degree_per_slot[step_number])[::-1], label=fitness_function)\n",
    "    plt.title(f'degree distribution comparison for step: {step_number}')\n",
    "    plt.ylabel(\"Degree\")\n",
    "    plt.legend(loc='best')\n",
    "    plt.show()"
   ]
  },
  {
   "cell_type": "markdown",
   "id": "0c9d5563-0771-4a5d-b797-75f5cb1abc84",
   "metadata": {
    "jp-MarkdownHeadingCollapsed": true
   },
   "source": [
    "###### semilog plot"
   ]
  },
  {
   "cell_type": "code",
   "execution_count": null,
   "id": "d05e7011-afba-4c4c-bad1-cf7598d9c76d",
   "metadata": {
    "scrolled": true
   },
   "outputs": [],
   "source": [
    "for step_number in range(time_slot_number):\n",
    "    plt.figure(figsize=(12, 8))\n",
    "    for fitness_function, graph_holder in graph_holder_dic.items():\n",
    "        plt.plot(np.sort(graph_holder.degree_per_slot[step_number])[::-1], label=fitness_function)\n",
    "    plt.title(f'degree distribution comparison for step: {step_number}')\n",
    "    plt.ylabel(\"Degree\")\n",
    "    plt.semilogy()\n",
    "    plt.legend(loc='best')\n",
    "    plt.show()"
   ]
  },
  {
   "cell_type": "markdown",
   "id": "cf81792f-2fe8-49a9-aecd-60fb89355be0",
   "metadata": {
    "jp-MarkdownHeadingCollapsed": true
   },
   "source": [
    "###### log-log plot"
   ]
  },
  {
   "cell_type": "code",
   "execution_count": null,
   "id": "3ff39482-d5f3-435c-b7f7-25368253b34a",
   "metadata": {
    "scrolled": true
   },
   "outputs": [],
   "source": [
    "for step_number in range(time_slot_number):\n",
    "    plt.figure(figsize=(12, 8)) \n",
    "    for fitness_function, graph_holder in graph_holder_dic.items():\n",
    "        plt.loglog(np.sort(graph_holder.degree_per_slot[step_number])[::-1], label=fitness_function)\n",
    "    plt.title(f'degree distribution comparison for step: {step_number}')\n",
    "    plt.ylabel(\"Degree\")\n",
    "    plt.legend(loc='best')\n",
    "    plt.show()"
   ]
  }
 ],
 "metadata": {
  "kernelspec": {
   "display_name": "Python 3 (ipykernel)",
   "language": "python",
   "name": "python3"
  },
  "language_info": {
   "codemirror_mode": {
    "name": "ipython",
    "version": 3
   },
   "file_extension": ".py",
   "mimetype": "text/x-python",
   "name": "python",
   "nbconvert_exporter": "python",
   "pygments_lexer": "ipython3",
   "version": "3.12.0"
  }
 },
 "nbformat": 4,
 "nbformat_minor": 5
}
